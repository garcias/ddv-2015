{
 "cells": [
  {
   "cell_type": "markdown",
   "metadata": {},
   "source": [
    "# Computing *e*\n",
    "\n",
    "## Problem statement\n",
    "\n",
    "- Compute *e*\n",
    "- Don’t use a pre-defined function, e.g., `math.e`, `math.exp(1)`"
   ]
  },
  {
   "cell_type": "markdown",
   "metadata": {},
   "source": [
    "Modules like `math` are fair game."
   ]
  },
  {
   "cell_type": "code",
   "execution_count": 1,
   "metadata": {
    "collapsed": true
   },
   "outputs": [],
   "source": [
    "import math"
   ]
  },
  {
   "cell_type": "markdown",
   "metadata": {},
   "source": [
    "But the following aren't allowed according to the rules above."
   ]
  },
  {
   "cell_type": "code",
   "execution_count": 2,
   "metadata": {
    "collapsed": false
   },
   "outputs": [
    {
     "name": "stdout",
     "output_type": "stream",
     "text": [
      "2.71828182846\n",
      "2.71828182846\n"
     ]
    }
   ],
   "source": [
    "print math.e\n",
    "print math.exp(1)"
   ]
  },
  {
   "cell_type": "markdown",
   "metadata": {},
   "source": [
    "## Research the problem\n",
    "\n",
    "To start out a simple project like this, we need to do some research on how *e* might be computed. You can (a) ask a mathematician, (b) derive it from your knowledge of mathematics, or (c) [look it up](https://goo.gl/V81mD).\n",
    "\n",
    "*Solution.* A simple approach is the inverse-factorial series:\n",
    "\n",
    "- *e* = $\\Sigma$ 1/*n*!\n",
    "- for *n* = 0 to infinity\n",
    "- and n! is the *factorial* of n, i.e., n (n-1) (n-2) ...\n",
    "\n",
    "\n",
    "## Diagram solutions\n",
    "\n",
    "A common technique in software development is to **diagram** the implementation of a solution. At the simplest level, such a diagram just starts with the end goal, and breaks it down into components, so that you can focus your attention on each component in turn. \n",
    "\n",
    "We find that there are two different tasks to implement: Adding up numbers, and computing the factorial of a number. "
   ]
  },
  {
   "cell_type": "markdown",
   "metadata": {},
   "source": [
    "## Write test case for each solution\n",
    "\n",
    "Developers specify **unit tests** at an early stage of design to specify the desired performance of code. We won’t do formal unit testing, but we’ll adopt the concept of a **test case** from it. A test case specifies what a component should be able to do, even if other components aren’t working yet. \n",
    "\n",
    "What is the test case for each one?\n",
    "\n",
    "### Adding up a set of arbitrary numbers\n",
    "\n",
    "The sum of 0 to 5 is 15, so we aim to write a loop that does that.\n",
    "\n",
    "### Computing the factorial of an arbitrary integer\n",
    "\n",
    "The factorial of 4 is 4! = 24, and the factorial of 0 is defined as 0! = 1."
   ]
  },
  {
   "cell_type": "markdown",
   "metadata": {},
   "source": [
    "## Develop solutions"
   ]
  },
  {
   "cell_type": "markdown",
   "metadata": {},
   "source": [
    "### Adding up numbers\n",
    "\n",
    "Specifiying addition is trivial:"
   ]
  },
  {
   "cell_type": "code",
   "execution_count": 3,
   "metadata": {
    "collapsed": false
   },
   "outputs": [
    {
     "name": "stdout",
     "output_type": "stream",
     "text": [
      "15\n"
     ]
    }
   ],
   "source": [
    "print 0 + 1 + 2 + 3 + 4 + 5 "
   ]
  },
  {
   "cell_type": "markdown",
   "metadata": {},
   "source": [
    "But what we *really* want is code that will add all the integers from 0 to *n*, given an *arbitrary* value of n. This job calls for a **loop** structure. We'll define a variable `n`, and use the `range()` function to create a list of numbers from 0 to n. We use the `for` ... `in` ... pattern to create the loop."
   ]
  },
  {
   "cell_type": "code",
   "execution_count": 4,
   "metadata": {
    "collapsed": false
   },
   "outputs": [
    {
     "name": "stdout",
     "output_type": "stream",
     "text": [
      "0\n",
      "1\n",
      "2\n",
      "3\n",
      "4\n"
     ]
    }
   ],
   "source": [
    "n = 5\n",
    "for i in range(0,n):\n",
    "    print i"
   ]
  },
  {
   "cell_type": "markdown",
   "metadata": {},
   "source": [
    "This loop only goes from 0 to *n-1*, which is not what you expect when you enter a number for *n*. \n",
    "- Change the code so that it includes n in the loop."
   ]
  },
  {
   "cell_type": "markdown",
   "metadata": {},
   "source": [
    "Currently the code in the loop simply reports the current value of *i*. We want to add up these numbers, but the value of *i* is always changing in each iteration of the loop. We need to **persist** the sum using another variable, called `total`."
   ]
  },
  {
   "cell_type": "code",
   "execution_count": 5,
   "metadata": {
    "collapsed": false
   },
   "outputs": [
    {
     "name": "stdout",
     "output_type": "stream",
     "text": [
      "15\n"
     ]
    }
   ],
   "source": [
    "n = 5\n",
    "total = 0\n",
    "for i in range(0,n+1):\n",
    "    total += i   # means the same thing as total = total + i\n",
    "    \n",
    "print total"
   ]
  },
  {
   "cell_type": "markdown",
   "metadata": {},
   "source": [
    "### Calculating the factorial\n",
    "\n",
    "You *could* write your own factorial code, but this could be a deceptively large undertaking. Besides, this is a common-enough function that it exists in Python's standard `math` module. Do a quick search on the term \"python factorial function\". Check that when you input 0 and 4, you get the expected behavior."
   ]
  },
  {
   "cell_type": "code",
   "execution_count": 6,
   "metadata": {
    "collapsed": false
   },
   "outputs": [
    {
     "name": "stdout",
     "output_type": "stream",
     "text": [
      "24\n",
      "1\n"
     ]
    }
   ],
   "source": [
    "print math.factorial(4)\n",
    "print math.factorial(0)"
   ]
  },
  {
   "cell_type": "markdown",
   "metadata": {},
   "source": [
    "### Putting it together\n",
    "\n",
    "We can now combine the two tasks.\n",
    "\n"
   ]
  },
  {
   "cell_type": "code",
   "execution_count": 7,
   "metadata": {
    "collapsed": false
   },
   "outputs": [
    {
     "name": "stdout",
     "output_type": "stream",
     "text": [
      "2\n"
     ]
    }
   ],
   "source": [
    "n = 5\n",
    "total = 0\n",
    "for i in range(0,n+1):\n",
    "    total += 1 / math.factorial(i)\n",
    "    \n",
    "print total"
   ]
  },
  {
   "cell_type": "markdown",
   "metadata": {},
   "source": [
    "Not what you expected? Recall that Python distinguishes integers from decimals, and may not interpret how you write a number in the way you intended."
   ]
  },
  {
   "cell_type": "code",
   "execution_count": 8,
   "metadata": {
    "collapsed": false
   },
   "outputs": [
    {
     "name": "stdout",
     "output_type": "stream",
     "text": [
      "2.71666666667\n"
     ]
    }
   ],
   "source": [
    "n = 5\n",
    "total = 0\n",
    "for i in range(0,n+1):\n",
    "    total += 1.0 / math.factorial(i)\n",
    "    \n",
    "print total"
   ]
  },
  {
   "cell_type": "markdown",
   "metadata": {},
   "source": [
    "# Computing *e* while tracking the estimate's precision\n",
    "\n",
    "## Problem statement\n",
    "\n",
    "- Compute *e* for different values of *n*\n",
    "- Store estimates of *e* as a function of *n* in a list structure\n",
    "- Store the error of each estimate as a function of *n* in a list structure"
   ]
  },
  {
   "cell_type": "markdown",
   "metadata": {},
   "source": [
    "## Reusability\n",
    "\n",
    "To solve this problem, we can **reuse** the code above. We just need to add code that enters data into a list."
   ]
  },
  {
   "cell_type": "code",
   "execution_count": 9,
   "metadata": {
    "collapsed": false
   },
   "outputs": [
    {
     "name": "stdout",
     "output_type": "stream",
     "text": [
      "[3.14, 0]\n"
     ]
    }
   ],
   "source": [
    "estimate = []\n",
    "estimate.append(3.14)\n",
    "estimate.append(0)\n",
    "\n",
    "print estimate[0:]"
   ]
  },
  {
   "cell_type": "markdown",
   "metadata": {},
   "source": [
    "Now that you understand how lists work, add the appropriate code to your previous implementation."
   ]
  },
  {
   "cell_type": "code",
   "execution_count": 10,
   "metadata": {
    "collapsed": false
   },
   "outputs": [
    {
     "name": "stdout",
     "output_type": "stream",
     "text": [
      "[1.0, 2.0, 2.5, 2.6666666666666665, 2.708333333333333, 2.7166666666666663]\n"
     ]
    }
   ],
   "source": [
    "n = 5\n",
    "estimate = []\n",
    "total = 0\n",
    "for i in range(0,n+1):\n",
    "    total += 1.0 / math.factorial(i)\n",
    "    estimate.append(total)\n",
    "    \n",
    "print estimate"
   ]
  },
  {
   "cell_type": "markdown",
   "metadata": {},
   "source": [
    "Here's a slightly different version. The loop at the end has some string tricks for displaying the list vertically."
   ]
  },
  {
   "cell_type": "code",
   "execution_count": 11,
   "metadata": {
    "collapsed": false
   },
   "outputs": [
    {
     "name": "stdout",
     "output_type": "stream",
     "text": [
      "[0] 1.00000000\n",
      "[1] 2.00000000\n",
      "[2] 2.50000000\n",
      "[3] 2.66666667\n",
      "[4] 2.70833333\n",
      "[5] 2.71666667\n"
     ]
    }
   ],
   "source": [
    "n = 5\n",
    "estimate = []\n",
    "total = 0\n",
    "for i in range(0,n+1):\n",
    "    total += 1.0/math.factorial(i)\n",
    "    estimate.append(total)\n",
    "\n",
    "for i in range(len(estimate)):\n",
    "    print \"[%i] %.8f\" %(i,estimate[i])"
   ]
  },
  {
   "cell_type": "markdown",
   "metadata": {},
   "source": [
    "- Add some code to compute and store the error (the difference between `math.e` and each estimate)."
   ]
  },
  {
   "cell_type": "code",
   "execution_count": 12,
   "metadata": {
    "collapsed": false
   },
   "outputs": [
    {
     "name": "stdout",
     "output_type": "stream",
     "text": [
      "[0] 1.00000000 1.71828183\n",
      "[1] 2.00000000 0.71828183\n",
      "[2] 2.50000000 0.21828183\n",
      "[3] 2.66666667 0.05161516\n",
      "[4] 2.70833333 0.00994850\n",
      "[5] 2.71666667 0.00161516\n"
     ]
    }
   ],
   "source": [
    "n = 5\n",
    "estimate = []\n",
    "error = []\n",
    "total = 0\n",
    "for i in range(0,n+1):\n",
    "    total += 1.0/math.factorial(i)\n",
    "    estimate.append(total)\n",
    "    error.append(math.e - total)\n",
    "\n",
    "for i in range(len(estimate)):\n",
    "    print \"[%i] %.8f %.8f\" %(i,estimate[i], error[i])"
   ]
  },
  {
   "cell_type": "markdown",
   "metadata": {},
   "source": [
    "# Refactoring your code\n",
    "\n",
    "Currently the computation of *e* is mixed in with maintenance of the `estimate` and `error` lists. This is fine if the purpose of the lists is to study just the code. But what if your code is working well, and you anticipate no further changes to it? Then it’s time to **refactor**. \n",
    "\n",
    "When you refactor code, *the overall functionality stays the same*, but you reorganize different tasks. In this case, we’re going to separate the task of estimating *e* from the task of storing its value. Structurally, this means **encapsulating** the computation as a **function** of *n*."
   ]
  },
  {
   "cell_type": "markdown",
   "metadata": {},
   "source": [
    "## Analyze code\n",
    "\n",
    "Select your working code cell and press `C` to copy it, then paste it below. Identify which sections of code should be separated from each other. \n",
    "\n",
    "- Move the code for building the lists into a different code cell.\n",
    "- Place the remaining code (for computing *e*) into a **function block**. Define an interface for this function and call it `compute_e(n)`. Then specify its return value.\n",
    "- Test that the function returns values you expect\n",
    "- Create a loop that builds the lists `estimate` and `error` by using the function `compute_e()`."
   ]
  },
  {
   "cell_type": "markdown",
   "metadata": {},
   "source": [
    "## Functions\n",
    "\n",
    "Python makes it easy to **encapsulate** a computation as a **function**. Simply use the keyword `def` and specify a unique name for the function. Select the rest of the code, and press tab to indent it, which defines the code as part of the **function block**. For any arbitrary variables, such as *n*, add a parameter after the name in parentheses. Remove any code that sets a value for this variable. Remove any reference to the storage lists from the function block. \n",
    "\n",
    "- Test your function with different values of *n*, and verify that the behavior is expected."
   ]
  },
  {
   "cell_type": "code",
   "execution_count": 13,
   "metadata": {
    "collapsed": false
   },
   "outputs": [
    {
     "name": "stdout",
     "output_type": "stream",
     "text": [
      "1.0\n",
      "2.0\n",
      "2.5\n",
      "2.71828180115\n"
     ]
    }
   ],
   "source": [
    "def compute_e(n):\n",
    "    total = 0\n",
    "    for i in range(0,n+1):\n",
    "        total += 1.0/math.factorial(i)\n",
    "    return total\n",
    "\n",
    "print compute_e(0)  # should be 1.0\n",
    "print compute_e(1)  # should be 2.0\n",
    "print compute_e(2)  # should be 2.5\n",
    "print compute_e(10) # should be 2.71828"
   ]
  },
  {
   "cell_type": "markdown",
   "metadata": {},
   "source": [
    "- Create a loop that builds the lists `estimate` and `error` by using the function `compute_e()`."
   ]
  },
  {
   "cell_type": "code",
   "execution_count": 14,
   "metadata": {
    "collapsed": false
   },
   "outputs": [
    {
     "name": "stdout",
     "output_type": "stream",
     "text": [
      "[0] 1.00000000 1.71828183\n",
      "[1] 2.00000000 0.71828183\n",
      "[2] 2.50000000 0.21828183\n",
      "[3] 2.66666667 0.05161516\n",
      "[4] 2.70833333 0.00994850\n",
      "[5] 2.71666667 0.00161516\n"
     ]
    }
   ],
   "source": [
    "n = 5\n",
    "estimate = []\n",
    "error = []\n",
    "\n",
    "for i in range(0, n+1):\n",
    "    estimate.append(compute_e(i))\n",
    "    error.append(math.e - compute_e(i))\n",
    "    \n",
    "for i in range(len(estimate)):\n",
    "    print \"[%i] %.8f %.8f\" %(i,estimate[i], error[i])"
   ]
  },
  {
   "cell_type": "markdown",
   "metadata": {},
   "source": [
    "Now we can build the lists `estimate` and `error` separately, referring to the computation as needed."
   ]
  },
  {
   "cell_type": "code",
   "execution_count": 15,
   "metadata": {
    "collapsed": false
   },
   "outputs": [
    {
     "name": "stdout",
     "output_type": "stream",
     "text": [
      "[0] 1.00000000 1.71828183\n",
      "[1] 2.00000000 0.71828183\n",
      "[2] 2.50000000 0.21828183\n",
      "[3] 2.66666667 0.05161516\n",
      "[4] 2.70833333 0.00994850\n",
      "[5] 2.71666667 0.00161516\n",
      "[6] 2.71805556 0.00022627\n",
      "[7] 2.71825397 0.00002786\n",
      "[8] 2.71827877 0.00000306\n"
     ]
    }
   ],
   "source": [
    "n = 8\n",
    "estimate = []\n",
    "error = []\n",
    "for i in range(0,n+1):\n",
    "    estimate.append(compute_e(i))\n",
    "    error.append(math.e - compute_e(i))\n",
    "\n",
    "for i in range(len(estimate)):\n",
    "    print \"[%i] %.8f %.8f\" %(i, estimate[i], error[i])"
   ]
  },
  {
   "cell_type": "code",
   "execution_count": 16,
   "metadata": {
    "collapsed": false
   },
   "outputs": [
    {
     "data": {
      "text/plain": [
       "3.1415927535897814"
      ]
     },
     "execution_count": 16,
     "metadata": {},
     "output_type": "execute_result"
    }
   ],
   "source": [
    "def compute_pi(n):\n",
    "    total = 0\n",
    "    for i in range(0,n+1):\n",
    "        # total += 1.0/math.factorial(i)\n",
    "        # print (-1)**i, 2*i + 1\n",
    "        total += (-1)**i / (2.0*i + 1)\n",
    "    return 4*total\n",
    "\n",
    "compute_pi(10000000)"
   ]
  },
  {
   "cell_type": "code",
   "execution_count": 17,
   "metadata": {
    "collapsed": false
   },
   "outputs": [
    {
     "name": "stdout",
     "output_type": "stream",
     "text": [
      "7.08949251716e-05\n"
     ]
    }
   ],
   "source": [
    "from scipy import stats\n",
    "print 2 * stats.t.sf(12, 5)\n"
   ]
  },
  {
   "cell_type": "code",
   "execution_count": 18,
   "metadata": {
    "collapsed": false
   },
   "outputs": [
    {
     "name": "stdout",
     "output_type": "stream",
     "text": [
      "[('Matthew', 'political science'), ('Lucas', 'Japanese'), ('Karina', 'molecular biology'), ('Abby', 'biology')]\n",
      "0 Matthew political science\n",
      "1 Lucas Japanese\n",
      "2 Karina molecular biology\n",
      "3 Abby biology\n"
     ]
    }
   ],
   "source": [
    "my_dictionary = {\n",
    "    'Karina' : 'molecular biology',\n",
    "    'Matthew' : 'political science',\n",
    "    'Lucas' : 'Japanese',\n",
    "    'Abby' : 'biology'\n",
    "}\n",
    "\n",
    "print my_dictionary.items()\n",
    "\n",
    "for i,(j,k) in enumerate(my_dictionary.items()):\n",
    "    print i, j,k"
   ]
  },
  {
   "cell_type": "markdown",
   "metadata": {},
   "source": [
    "## Assignment\n",
    "\n",
    "Now that you are familiar with lists, get more practice with them. Complete the [Codecademy tutorials](https://www.codecademy.com/en/tracks/python) on [Python Lists and Dictionaries](https://www.codecademy.com/courses/python-beginner-en-pwmb1/0/1). If you want even more practice, try [A Day at the Supermarket](https://www.codecademy.com/courses/python-beginner-en-IZ9Ra/0/1), but be aware that the later parts of it require you to have mastered [Functions](https://www.codecademy.com/courses/python-beginner-c7VZg/0/1), which is one of the longer tutorials. "
   ]
  }
 ],
 "metadata": {
  "kernelspec": {
   "display_name": "Python 2",
   "language": "python",
   "name": "python2"
  },
  "language_info": {
   "codemirror_mode": {
    "name": "ipython",
    "version": 2
   },
   "file_extension": ".py",
   "mimetype": "text/x-python",
   "name": "python",
   "nbconvert_exporter": "python",
   "pygments_lexer": "ipython2",
   "version": "2.7.10"
  }
 },
 "nbformat": 4,
 "nbformat_minor": 0
}
