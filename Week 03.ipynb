{
 "cells": [
  {
   "cell_type": "markdown",
   "metadata": {},
   "source": [
    "# Week 03\n",
    "\n",
    "## Objectives\n",
    "\n",
    "By the end of this tutorial, you should be able to create, manipulate, and interrogate different types of data structures, including a **list**, a **dictionary**, and a **list of dictionaries**."
   ]
  },
  {
   "cell_type": "markdown",
   "metadata": {},
   "source": [
    "## Data structures in Python\n",
    "\n",
    "Most programming languages implement a variety of **data structures**: objects that store and manipulate data. Each type of structure has different properties and abilities. In data analysis, we are especially interested in a structure's *level of complexity*, which allows you to associate multiple values together. In Python, for example, an `int` structure holds a single value, a `list` holds multiple values in a specific order, and a `dict` associates values with special *keys*.\n",
    "\n",
    "## CRUD with a data object\n",
    "\n",
    "When learning about any data object in any language, make sure you learn how to accomplish the following four things with it: **create**, **read**, **update**, and **delete** (**CRUD**) values. In other words, ask the following four questions:\n",
    "\n",
    "- **Create.** How do I add new values to the object?\n",
    "- **Read.** How do I find a specific value, or subset of values, in the object? And what kind of object will these values be stored in?\n",
    "- **Update.** How do I change an existing value in the object?\n",
    "- **Delete.** How do I remove an existing value? Does this do anything to remaining values in the object?"
   ]
  },
  {
   "cell_type": "markdown",
   "metadata": {},
   "source": [
    "## Example: Python `list` object\n",
    "\n",
    "As an example, let's illustrate these actions for Python's `list` object. We start by using “literal” notation to define the `list` while filling it with values. A list can contain any type of object: numbers, strings, even other lists."
   ]
  },
  {
   "cell_type": "code",
   "execution_count": 257,
   "metadata": {
    "collapsed": false
   },
   "outputs": [
    {
     "name": "stdout",
     "output_type": "stream",
     "text": [
      "['H', 'He', 'Li', 'Be']\n"
     ]
    }
   ],
   "source": [
    "atomic_symbols = ['H', 'He', 'Li', 'Be']\n",
    "print atomic_symbols"
   ]
  },
  {
   "cell_type": "markdown",
   "metadata": {},
   "source": [
    "You can **read** a value from a list using its numerical index, in brackets. "
   ]
  },
  {
   "cell_type": "code",
   "execution_count": 258,
   "metadata": {
    "collapsed": false
   },
   "outputs": [
    {
     "name": "stdout",
     "output_type": "stream",
     "text": [
      "He\n"
     ]
    }
   ],
   "source": [
    "print atomic_symbols[1]  # should be 'He'"
   ]
  },
  {
   "cell_type": "code",
   "execution_count": 259,
   "metadata": {
    "collapsed": false
   },
   "outputs": [
    {
     "name": "stdout",
     "output_type": "stream",
     "text": [
      "The index of  H is 0\n",
      "The index of He is 1\n",
      "The index of Li is 2\n",
      "The index of Be is 3\n"
     ]
    }
   ],
   "source": [
    "# Use a loop to print an informational message about the periodic table\n",
    "# (The %2s formats the string to be two spaces wide, no matter what)\n",
    "\n",
    "for i in range(0,4):\n",
    "    print \"The index of %2s is %i\" %(atomic_symbols[i], i)"
   ]
  },
  {
   "cell_type": "markdown",
   "metadata": {},
   "source": [
    "### *Exercise*\n",
    "- Modify the code so it prints the *atomic number* of each element"
   ]
  },
  {
   "cell_type": "markdown",
   "metadata": {},
   "source": [
    "You **create** new values in the list using `.append()`, which adds an item to the end of the list. "
   ]
  },
  {
   "cell_type": "code",
   "execution_count": 260,
   "metadata": {
    "collapsed": false
   },
   "outputs": [
    {
     "name": "stdout",
     "output_type": "stream",
     "text": [
      "['H', 'He', 'Li', 'Be', 'C', 'N']\n"
     ]
    }
   ],
   "source": [
    "# Append C, N to the end (intentionally skipping B)\n",
    "\n",
    "atomic_symbols.append('C')\n",
    "atomic_symbols.append('N')\n",
    "print atomic_symbols"
   ]
  },
  {
   "cell_type": "markdown",
   "metadata": {},
   "source": [
    "Don't want it at the end? Use `.insert()` to specify where the new element will go. "
   ]
  },
  {
   "cell_type": "code",
   "execution_count": 261,
   "metadata": {
    "collapsed": false
   },
   "outputs": [
    {
     "name": "stdout",
     "output_type": "stream",
     "text": [
      "['H', 'He', 'Li', 'Be', 'B', 'C', 'N']\n"
     ]
    }
   ],
   "source": [
    "# Insert B between Be and C. What does 4 refer to in line below?\n",
    "\n",
    "atomic_symbols.insert(4,'B')\n",
    "print atomic_symbols"
   ]
  },
  {
   "cell_type": "markdown",
   "metadata": {},
   "source": [
    "You can **delete** a value using the `del` operator, which uses bracket notation to specify the index of the item to remove."
   ]
  },
  {
   "cell_type": "code",
   "execution_count": 262,
   "metadata": {
    "collapsed": false
   },
   "outputs": [
    {
     "name": "stdout",
     "output_type": "stream",
     "text": [
      "['H', 'He', 'Li', 'Be', 'B', 'C']\n"
     ]
    }
   ],
   "source": [
    "# removes N\n",
    "del atomic_symbols[6]\n",
    "print atomic_symbols"
   ]
  },
  {
   "cell_type": "markdown",
   "metadata": {},
   "source": [
    "To **update** a specific value, use an assignment operator (`=` or `+=`) in combination with indexing notation. You can also update a subset using slice notation."
   ]
  },
  {
   "cell_type": "code",
   "execution_count": 263,
   "metadata": {
    "collapsed": false
   },
   "outputs": [
    {
     "name": "stdout",
     "output_type": "stream",
     "text": [
      "['H', 'He', 'Li', 'Be', 'B', 'Carbon']\n"
     ]
    }
   ],
   "source": [
    "# Change Li to Lithium, then change it back\n",
    "\n",
    "atomic_symbols[5] += 'arbon'\n",
    "print atomic_symbols"
   ]
  },
  {
   "cell_type": "markdown",
   "metadata": {},
   "source": [
    "Besides the basic \"CRUD\" actions, lists have some special abilities, called **methods**. If you don't know the index of a value you can use methods that search for the value, such as `.remove()` and `.index()`."
   ]
  },
  {
   "cell_type": "code",
   "execution_count": 264,
   "metadata": {
    "collapsed": false
   },
   "outputs": [
    {
     "name": "stdout",
     "output_type": "stream",
     "text": [
      "['H', 'He', 'Li', 'Be', 'B']\n",
      "3\n"
     ]
    }
   ],
   "source": [
    "# Remove 'Carbon'\n",
    "atomic_symbols.remove('Carbon')\n",
    "print atomic_symbols\n",
    "\n",
    "# Find the index of 'Be'\n",
    "print atomic_symbols.index('Be')"
   ]
  },
  {
   "cell_type": "markdown",
   "metadata": {},
   "source": [
    "Another property of lists is the ability to **concatenate** two lists together. When working at the list level (not with individual elements of a list), the meaning of the `+` and `+=` operators changes to concatenation (instead of addition)."
   ]
  },
  {
   "cell_type": "code",
   "execution_count": 265,
   "metadata": {
    "collapsed": false
   },
   "outputs": [
    {
     "name": "stdout",
     "output_type": "stream",
     "text": [
      "['H', 'He', 'Li', 'Be', 'B', 'C', 'N', 'O', 'F', 'Ne']\n"
     ]
    }
   ],
   "source": [
    "# Append an entire list to the end\n",
    "\n",
    "more_symbols = atomic_symbols + ['C', 'N', 'O', 'F', 'Ne']\n",
    "print more_symbols"
   ]
  },
  {
   "cell_type": "markdown",
   "metadata": {},
   "source": [
    "### *Exercise* \n",
    "- Modify the code above to append the last three elements \"in-place\", i.e., directly to `atomic_symbols` without creating a new list."
   ]
  },
  {
   "cell_type": "markdown",
   "metadata": {},
   "source": [
    "Most multivalued data structures implement a **membership** test. A list does this by responding to the `in` operator, which tests whether a given value is in the list."
   ]
  },
  {
   "cell_type": "code",
   "execution_count": 266,
   "metadata": {
    "collapsed": false
   },
   "outputs": [
    {
     "name": "stdout",
     "output_type": "stream",
     "text": [
      "True\n",
      "False\n"
     ]
    }
   ],
   "source": [
    "print 'Be' in atomic_symbols\n",
    "print 'bunnies' in atomic_symbols"
   ]
  },
  {
   "cell_type": "markdown",
   "metadata": {},
   "source": [
    "### *Exercise* \n",
    "- Implement the loop that prints atomic numbers again, except using the `in` operator on the list instead of a range of indices."
   ]
  },
  {
   "cell_type": "markdown",
   "metadata": {},
   "source": [
    "## Example: Python `dict` object\n",
    "\n",
    "A dictionaries is similar to a list, but associates each value with a **key** instead of an index. In a data-management context, the key names an *attribute* of some observation or entity. A list can store different elements of the periodic table, but a dictionary would store the attributes of a single element, such as atomic symbol, atomic number, name, and atomic mass.\n",
    "\n",
    "How do you implement CRUD operations for a dictionary?"
   ]
  },
  {
   "cell_type": "code",
   "execution_count": 267,
   "metadata": {
    "collapsed": false
   },
   "outputs": [],
   "source": [
    "# Use literal notation to start a dictionary for hydrogen\n",
    "hydrogen = {\n",
    "    'symbol' : 'H',\n",
    "    'number' : 0\n",
    "}"
   ]
  },
  {
   "cell_type": "markdown",
   "metadata": {},
   "source": [
    "As with a list, a dictionary uses bracket notation to **read**, **update**, and **delete** a value using a key in place of an index."
   ]
  },
  {
   "cell_type": "code",
   "execution_count": 268,
   "metadata": {
    "collapsed": false
   },
   "outputs": [
    {
     "name": "stdout",
     "output_type": "stream",
     "text": [
      "H\n"
     ]
    }
   ],
   "source": [
    "print hydrogen['symbol']  # should be 'H'"
   ]
  },
  {
   "cell_type": "code",
   "execution_count": 269,
   "metadata": {
    "collapsed": false
   },
   "outputs": [
    {
     "name": "stdout",
     "output_type": "stream",
     "text": [
      "{'symbol': 'H', 'number': 1}\n"
     ]
    }
   ],
   "source": [
    "hydrogen['number'] = 1  # correct atomic number\n",
    "print hydrogen"
   ]
  },
  {
   "cell_type": "code",
   "execution_count": 270,
   "metadata": {
    "collapsed": false
   },
   "outputs": [
    {
     "name": "stdout",
     "output_type": "stream",
     "text": [
      "{'symbol': 'H'}\n"
     ]
    }
   ],
   "source": [
    "del hydrogen['number']\n",
    "print hydrogen"
   ]
  },
  {
   "cell_type": "markdown",
   "metadata": {},
   "source": [
    "*Unlike* a list, however, you **create** a new key simply by using it in bracket notation, as if it already existed!"
   ]
  },
  {
   "cell_type": "code",
   "execution_count": 271,
   "metadata": {
    "collapsed": false
   },
   "outputs": [
    {
     "name": "stdout",
     "output_type": "stream",
     "text": [
      "{'symbol': 'H', 'mass': 1.008, 'number': 1, 'name': 'hydrogen'}\n"
     ]
    }
   ],
   "source": [
    "hydrogen['number'] = 1\n",
    "hydrogen['name'] = \"hydrogen\"\n",
    "hydrogen['mass'] = 1.008\n",
    "\n",
    "print hydrogen"
   ]
  },
  {
   "cell_type": "markdown",
   "metadata": {},
   "source": [
    "## Interrogating a data structure\n",
    "\n",
    "In data management, you will often *receive* a data structure and need to read or process it in some way. In this case, you need to **interrogate** the data structure to learn how it's organized. For example, a dictionary offers the `.keys()` method, which produces a list of keys that the dictionary currently recognizes. This list is useful for looping through all of a dictionary's values."
   ]
  },
  {
   "cell_type": "code",
   "execution_count": 272,
   "metadata": {
    "collapsed": false
   },
   "outputs": [
    {
     "name": "stdout",
     "output_type": "stream",
     "text": [
      "['symbol', 'mass', 'number', 'name']\n"
     ]
    }
   ],
   "source": [
    "llaves = hydrogen.keys()  # llaves is a list\n",
    "print llaves"
   ]
  },
  {
   "cell_type": "markdown",
   "metadata": {},
   "source": [
    "### *Exercise*\n",
    "\n",
    "- The code below prints one attribute (the symbol) of hydrogen. Make a loop that prints all the attributes of hydrogen."
   ]
  },
  {
   "cell_type": "code",
   "execution_count": 273,
   "metadata": {
    "collapsed": false
   },
   "outputs": [
    {
     "name": "stdout",
     "output_type": "stream",
     "text": [
      "Hydrogen's symbol is: H\n"
     ]
    }
   ],
   "source": [
    "print \"Hydrogen's %s is: %s\" %('symbol', 'H')"
   ]
  },
  {
   "cell_type": "markdown",
   "metadata": {},
   "source": [
    "## Nesting data structures\n",
    "\n",
    "A classic way to present data is with a table, with rows and columns. Any database, spreadsheet, or analysis software uses this model for presenting and interacting with data. A table represents a *nested* data structure, where the rows represent a collection of entities, and each column represents an attribute or variable that these entities have in common. To translate this to Python, a row represents a dictionary, and a column represents a key that each dictionary should have. This means that the entire table represents a *list* of *dictionaries*.\n",
    "\n",
    "*Yes! A dictionary can be an element of a list.*"
   ]
  },
  {
   "cell_type": "code",
   "execution_count": 274,
   "metadata": {
    "collapsed": true
   },
   "outputs": [],
   "source": [
    "# Make two new dictionaries\n",
    "\n",
    "helium = {\n",
    "    'symbol' : 'He',\n",
    "    'number' : 2,\n",
    "    'name' : \"helium\",\n",
    "    'mass' : 4.00\n",
    "}\n",
    "\n",
    "lithium = {\n",
    "    'symbol' : 'Li',\n",
    "    'number' : 3,\n",
    "    'name' : \"lithium\",\n",
    "    'mass' : 6.94\n",
    "}"
   ]
  },
  {
   "cell_type": "code",
   "execution_count": 275,
   "metadata": {
    "collapsed": false
   },
   "outputs": [
    {
     "name": "stdout",
     "output_type": "stream",
     "text": [
      "helium\n"
     ]
    }
   ],
   "source": [
    "# Now make a list of all three dictionaries\n",
    "# Print the name of the 2nd element, just to prove it's there\n",
    "\n",
    "elements = [hydrogen, helium, lithium]\n",
    "\n",
    "print elements[1]['name']  # should be \"helium\""
   ]
  },
  {
   "cell_type": "markdown",
   "metadata": {},
   "source": [
    "### *Exercise*\n",
    "\n",
    "- The line below adds a new but empty dictionary to the list. Fill in the data for beryllium."
   ]
  },
  {
   "cell_type": "code",
   "execution_count": 276,
   "metadata": {
    "collapsed": false
   },
   "outputs": [],
   "source": [
    "elements.append({})  # at index 3"
   ]
  },
  {
   "cell_type": "markdown",
   "metadata": {},
   "source": [
    "### *Exercise*\n",
    "\n",
    "- The line below prints the attributes of hydrogen as a row in a table. Write a loop that prints the first 4 rows."
   ]
  },
  {
   "cell_type": "code",
   "execution_count": 277,
   "metadata": {
    "collapsed": false
   },
   "outputs": [
    {
     "name": "stdout",
     "output_type": "stream",
     "text": [
      " 1 |  H |   hydrogen | 1.008\n"
     ]
    }
   ],
   "source": [
    "print \"%2i | %2s | %10s | %2.3f\" %(hydrogen['number'],hydrogen['symbol'],hydrogen['name'],hydrogen['mass'])"
   ]
  },
  {
   "cell_type": "markdown",
   "metadata": {},
   "source": [
    "### *Exercise*\n",
    "\n",
    "- Write a loop that creates a list of just the names of the elements"
   ]
  }
 ],
 "metadata": {
  "kernelspec": {
   "display_name": "Python 2",
   "language": "python",
   "name": "python2"
  },
  "language_info": {
   "codemirror_mode": {
    "name": "ipython",
    "version": 2
   },
   "file_extension": ".py",
   "mimetype": "text/x-python",
   "name": "python",
   "nbconvert_exporter": "python",
   "pygments_lexer": "ipython2",
   "version": "2.7.10"
  }
 },
 "nbformat": 4,
 "nbformat_minor": 0
}
