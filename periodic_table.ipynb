{
 "cells": [
  {
   "cell_type": "code",
   "execution_count": 2,
   "metadata": {
    "collapsed": true
   },
   "outputs": [],
   "source": [
    "# define an ordered dictionary data structure\n",
    "# import the usual mid-level plotting objects\n",
    "# import some basic low-level objects\n",
    "# import periodic_table, which contains a DataFrame named elements\n",
    "\n",
    "from collections import OrderedDict\n",
    "from bokeh.plotting import output_file, show, figure\n",
    "from bokeh.models import HoverTool, ColumnDataSource\n",
    "from bokeh.sampledata import periodic_table\n",
    "\n",
    "# HoverTool implements the ability to provide information when the cursor\n",
    "# \"hovers\" over a glyph. Most of its attributes specify user interactions,\n",
    "# but the most important one is tooltips, which stores the information to\n",
    "# display during hover. \n",
    "\n",
    "# ColumnDataSource is a data structure that you can attach to multiple\n",
    "# graph elements "
   ]
  },
  {
   "cell_type": "code",
   "execution_count": 32,
   "metadata": {
    "collapsed": false
   },
   "outputs": [
    {
     "data": {
      "text/plain": [
       "['atomic number',\n",
       " 'symbol',\n",
       " 'name',\n",
       " 'atomic mass',\n",
       " 'CPK',\n",
       " 'electronic configuration',\n",
       " 'electronegativity',\n",
       " 'atomic radius',\n",
       " 'ion radius',\n",
       " 'van der Waals radius',\n",
       " 'IE-1',\n",
       " 'EA',\n",
       " 'standard state',\n",
       " 'bonding type',\n",
       " 'melting point',\n",
       " 'boiling point',\n",
       " 'density',\n",
       " 'metal',\n",
       " 'year discovered',\n",
       " 'group',\n",
       " 'period']"
      ]
     },
     "execution_count": 32,
     "metadata": {},
     "output_type": "execute_result"
    }
   ],
   "source": [
    "periodic_table.elements.columns.tolist()"
   ]
  },
  {
   "cell_type": "code",
   "execution_count": 267,
   "metadata": {
    "collapsed": false
   },
   "outputs": [
    {
     "name": "stdout",
     "output_type": "stream",
     "text": [
      "atomic number\n",
      "symbol\n",
      "name\n",
      "atomic mass\n",
      "CPK\n",
      "electronic configuration\n",
      "electronegativity\n",
      "atomic radius\n",
      "ion radius\n",
      "van der Waals radius\n",
      "IE-1\n",
      "EA\n",
      "standard state\n",
      "bonding type\n",
      "melting point\n",
      "boiling point\n",
      "density\n",
      "metal\n",
      "year discovered\n",
      "group\n",
      "period\n"
     ]
    }
   ],
   "source": [
    "for key in list(periodic_table.elements.keys()):\n",
    "    print key\n"
   ]
  },
  {
   "cell_type": "code",
   "execution_count": 268,
   "metadata": {
    "collapsed": false
   },
   "outputs": [],
   "source": [
    "# convert column 'atomic mass' to string\n",
    "\n",
    "periodic_table.elements[\n",
    "    'atomic mass'] = periodic_table.elements['atomic mass'].astype(str)"
   ]
  },
  {
   "cell_type": "code",
   "execution_count": 269,
   "metadata": {
    "collapsed": true
   },
   "outputs": [],
   "source": [
    "# Typically f-block elements are not assigned to any group, so they have \"-\"\n",
    "# recorded in the 'group' column. The logical expression creates a filter\n",
    "# that eliminates these elements\n",
    "\n",
    "elements = periodic_table.elements[periodic_table.elements['group'] != \"-\"]"
   ]
  },
  {
   "cell_type": "code",
   "execution_count": 270,
   "metadata": {
    "collapsed": true
   },
   "outputs": [],
   "source": [
    "# define categorical scale for each axis\n",
    "\n",
    "# group_range is a list of group numbers, e.g. [\"1\", \"2\", ..., \"18\"]\n",
    "# period_range is a list of period numbers among those found in elements\n",
    "\n",
    "# set(x) creates a set object, which contains the same items as x but\n",
    "# without duplicates. sorted() turns it back into a list. reversed()\n",
    "# because period # increases toward the bottom of the table.\n",
    "\n",
    "group_range = [str(x) for x in range(1,19)]\n",
    "period_range = [str(x) for x in reversed(sorted(set(elements['period'])))]"
   ]
  },
  {
   "cell_type": "code",
   "execution_count": 271,
   "metadata": {
    "collapsed": true
   },
   "outputs": [],
   "source": [
    "# associate a color with each element type (defined in column 'metal')\n",
    "\n",
    "colormap = {\n",
    "    \"alkali metal\"         : \"#a6cee3\",\n",
    "    \"alkaline earth metal\" : \"#1f78b4\",\n",
    "    \"halogen\"              : \"#fdbf6f\",\n",
    "    \"metal\"                : \"#b2df8a\",\n",
    "    \"metalloid\"            : \"#33a02c\",\n",
    "    \"noble gas\"            : \"#bbbb88\",\n",
    "    \"nonmetal\"             : \"#baa2a6\",\n",
    "    \"transition metal\"     : \"#e08e79\",    \n",
    "}"
   ]
  },
  {
   "cell_type": "code",
   "execution_count": 272,
   "metadata": {
    "collapsed": false
   },
   "outputs": [],
   "source": [
    "# For each element, define the following properties using elements:\n",
    "# - group: group # as a string\n",
    "# - period: period # as a string\n",
    "# - symx: x pos of symbol  e.g., ['1:0.1','18:0.1','1:0.1',2':0.1', ...]\n",
    "# - numbery: y pos of atomic number\n",
    "# - massy: y pos of atomic mass\n",
    "# - namey: y pos of element name\n",
    "# - type_color: color hex value corresponding to element type\n",
    "\n",
    "source = ColumnDataSource(\n",
    "    data = dict(\n",
    "        group = [str(x) for x in elements['group']],\n",
    "        period = [str(y) for y in elements['period']],\n",
    "        symx = [str(x) + \":0.1\" for x in elements['group']],\n",
    "        numbery = [str(x) + \":0.8\" for x in elements['period']],\n",
    "        massy = [str(x) + \":0.15\" for x in elements['period']],\n",
    "        namey = [str(x) + \":0.3\" for x in elements['period']],\n",
    "        sym = elements['symbol'],\n",
    "        name = elements['name'],\n",
    "        cpk = elements['CPK'],\n",
    "        atomic_number = elements['atomic number'],\n",
    "        electronic = elements['electronic configuration'],\n",
    "        mass = elements['atomic mass'],\n",
    "        type = elements['metal'],\n",
    "        type_color = [colormap[x] for x in elements['metal']],\n",
    "    )\n",
    ")\n",
    "\n",
    "# What's with the colons in the symx, numbery, massy, and namey?\n",
    "# This is a little-known notation for specifying proportions of a\n",
    "# category. For example, x = \"USA:0.25\" specifies 25% of the x-axis\n",
    "# interval for the category \"USA\", measured from the left boundary\n",
    "# of the category."
   ]
  },
  {
   "cell_type": "code",
   "execution_count": 273,
   "metadata": {
    "collapsed": true
   },
   "outputs": [],
   "source": [
    "# specify file for output\n",
    "# restrict tools available to the user, make hover available\n",
    "# width and toolbar location could have been set in figure() as well\n",
    "\n",
    "output_file(\"periodic.html\")\n",
    "TOOLS = \"resize,hover,save\"\n",
    "\n",
    "p = figure(title = \"Periodic Table\", tools=TOOLS,\n",
    "           x_range = group_range, y_range = period_range)\n",
    "\n",
    "p.plot_width = 1200\n",
    "p.toolbar_location = \"left\""
   ]
  },
  {
   "cell_type": "code",
   "execution_count": 274,
   "metadata": {
    "collapsed": false
   },
   "outputs": [
    {
     "data": {
      "text/plain": [
       "<bokeh.models.renderers.GlyphRenderer at 0x107d19fd0>"
      ]
     },
     "execution_count": 274,
     "metadata": {},
     "output_type": "execute_result"
    }
   ],
   "source": [
    "# add a Rectangle glyph with horizontal and vertical locations mapped\n",
    "# to group and period columns of the source ColumnDataSource\n",
    "# Width and height are 0.9 each. These properties are set implicitly\n",
    "# by position, which isn't helpful to readers\n",
    "\n",
    "p.rect(\"group\", \"period\", 0.9, 0.9, source=source,\n",
    "       fill_alpha = 0.6, color = \"type_color\")\n",
    "\n",
    "# Alternative\n",
    "# p.rect(x = \"group\", y = \"period\",\n",
    "#       width = 0.9, height = 0.9,\n",
    "#       source = source,\n",
    "#       fill_alpha = 0.6,\n",
    "#       color = \"type_color\")\n",
    "\n",
    "# At this point, hovering produces a box displaying default information\n",
    "# (index, graph coordinates, and pixel coordinates)"
   ]
  },
  {
   "cell_type": "code",
   "execution_count": 275,
   "metadata": {
    "collapsed": true
   },
   "outputs": [],
   "source": [
    "# provide a set of properties we'll use to format the hover box later\n",
    "\n",
    "text_props = {\n",
    "    \"source\" : source,\n",
    "    \"angle\"  : 0,\n",
    "    \"color\"  : \"black\",\n",
    "    \"text_align\" : \"left\",\n",
    "    \"text_baseline\" : \"middle\"\n",
    "}"
   ]
  },
  {
   "cell_type": "code",
   "execution_count": 276,
   "metadata": {
    "collapsed": false
   },
   "outputs": [],
   "source": [
    "# add four text glyphs to display: chemical symbol, atomic number,\n",
    "# name, and atomic mass\n",
    "# The \"**\" notation signals that text_props is a dictionary, whose keys\n",
    "# are parameter names and values are parameter values\n",
    "\n",
    "p.text (x = \"symx\", y = \"period\",\n",
    "        text = \"sym\",\n",
    "        text_font_style = \"bold\",\n",
    "        text_font_size = \"15pt\",\n",
    "        **text_props)\n",
    "\n",
    "p.text (x = \"symx\", y = \"numbery\", \n",
    "        text = \"atomic_number\",\n",
    "        text_font_size = \"9pt\",\n",
    "        **text_props)\n",
    "\n",
    "p.text (x = \"symx\", y = \"namey\",\n",
    "        text = \"name\",\n",
    "        text_font_size = \"6pt\",\n",
    "        **text_props)\n",
    "\n",
    "p.text (x = \"symx\", y = \"massy\",\n",
    "        text = \"mass\",\n",
    "        text_font_size = \"5pt\",\n",
    "        **text_props)\n",
    "\n",
    "show(p)"
   ]
  },
  {
   "cell_type": "code",
   "execution_count": 277,
   "metadata": {
    "collapsed": true
   },
   "outputs": [],
   "source": [
    "# Remove the grid, which isn't useful for displaying a table\n",
    "\n",
    "p.grid.grid_line_color = None"
   ]
  },
  {
   "cell_type": "code",
   "execution_count": 278,
   "metadata": {
    "collapsed": true
   },
   "outputs": [],
   "source": [
    "# hidden within the figure object is an anonymous data structure \n",
    "# describing the HoverTool. select() searches for and returns it\n",
    "# dict(type=HoverTool) is equivalent to {\"type\" : HoverTool}\n",
    "\n",
    "hover = p.select({\"type\":HoverTool})"
   ]
  },
  {
   "cell_type": "code",
   "execution_count": 279,
   "metadata": {
    "collapsed": false
   },
   "outputs": [],
   "source": [
    "# A \"tooltip\" is a box that pops up on a webpage to present infomration\n",
    "# about whatever the cursor is hovering over. The tooltips attribute\n",
    "# stores a data structure (list or dictionary) that specifies pairs of\n",
    "# strings. The first of each pair is the label of a piece of information,\n",
    "# and the second is a reference to where that information is stored.\n",
    "\n",
    "# A \"@\" prefix refers to the figure's DataSource, while the \"$\" indicates\n",
    "# a special property of area being hovered, such as the x or y coordinates\n",
    "# or color. \n",
    "\n",
    "hover.tooltips = OrderedDict([\n",
    "    (\"name\", \"@name\"),\n",
    "    (\"atomic number\", \"@atomic_number\"),\n",
    "    (\"type\", \"@type\"),\n",
    "    (\"atomic mass\", \"@mass\"),\n",
    "    (\"CPK color\", \"$color[hex, swatch]:cpk\"),\n",
    "    (\"electronic configuration\", \"@electronic\"),\n",
    "])\n",
    "\n",
    "show(p)"
   ]
  },
  {
   "cell_type": "code",
   "execution_count": 1,
   "metadata": {
    "collapsed": false
   },
   "outputs": [
    {
     "ename": "NameError",
     "evalue": "name 'periodic_table' is not defined",
     "output_type": "error",
     "traceback": [
      "\u001b[0;31m---------------------------------------------------------------------------\u001b[0m",
      "\u001b[0;31mNameError\u001b[0m                                 Traceback (most recent call last)",
      "\u001b[0;32m<ipython-input-1-8d51ea6642da>\u001b[0m in \u001b[0;36m<module>\u001b[0;34m()\u001b[0m\n\u001b[0;32m----> 1\u001b[0;31m \u001b[0mperiodic_table\u001b[0m\u001b[0;34m.\u001b[0m\u001b[0melements\u001b[0m\u001b[0;34m\u001b[0m\u001b[0m\n\u001b[0m",
      "\u001b[0;31mNameError\u001b[0m: name 'periodic_table' is not defined"
     ]
    }
   ],
   "source": [
    "periodic_table.elements"
   ]
  },
  {
   "cell_type": "code",
   "execution_count": null,
   "metadata": {
    "collapsed": true
   },
   "outputs": [],
   "source": []
  }
 ],
 "metadata": {
  "kernelspec": {
   "display_name": "Python 2",
   "language": "python",
   "name": "python2"
  },
  "language_info": {
   "codemirror_mode": {
    "name": "ipython",
    "version": 2
   },
   "file_extension": ".py",
   "mimetype": "text/x-python",
   "name": "python",
   "nbconvert_exporter": "python",
   "pygments_lexer": "ipython2",
   "version": "2.7.10"
  }
 },
 "nbformat": 4,
 "nbformat_minor": 0
}
