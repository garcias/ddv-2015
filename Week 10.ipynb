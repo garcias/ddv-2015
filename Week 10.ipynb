{
 "cells": [
  {
   "cell_type": "markdown",
   "metadata": {},
   "source": [
    "# Week 10: Application programming interfaces\n",
    "\n",
    "Government agencies, research institutes, and non-profit organizations have experienced a push to make data public and easily available. Historically they might publish information in relatively unstructured forms, such as written documents or coarse summary tables. Even when data were tabulated, they would be rendered in unstructured html or pdf files, making import difficult. \n",
    "\n",
    "A recent trend, however, is to post data in structured forms. Because it’s difficult to anticipate what combination of variables and criteria users will want, an organization will often allow you to query its database using an **application-programming interface (API)**. An API includes a set of documented commands that a database will recognize and respond to.\n",
    "\n",
    "APIs take many forms, but perhaps the most recognizable kind are [web APIs](https://en.wikipedia.org/wiki/Application_programming_interface#Web_APIs), which are based on the hypertext transfer protocol (HTTP). Any software that implements HTTP — such as a browser, Python, R, or curl — can use the API to connect to the database and retrieve a subset of data in a structured form."
   ]
  },
  {
   "cell_type": "markdown",
   "metadata": {},
   "source": [
    "## Objectives\n",
    "\n",
    "An API is not necessarily the best way to access data for a particular project. But learning to use them is helpful for three reasons:\n",
    "\n",
    "- Using APIs helps you understand how a data source organizes its data, especially if it has a complex structure\n",
    "- Having to process data from an API provides excellent practice in normalizing data sets\n",
    "- In the future you’re likely to encounter the need for *streaming* data, i.e., up-to-date data provided in response to specific user demands"
   ]
  },
  {
   "cell_type": "markdown",
   "metadata": {},
   "source": [
    "## Practical note\n",
    "\n",
    "Before we begin, please observe this caveat:\n",
    "\n",
    "- **Do not send API requests as part of a loop.** \n",
    "\n",
    "Most databases limit the number of requests your IP address is allowed to make in a day. Specify each request in a way that retrieves multiple records.\n",
    "\n",
    "In addition, some APIs require you to include an **API key** (unique identifier) in each request, so the database can track who is making each request. In the interest of time, I am letting you use mine. If you decide to query these data sets later, please apply for and use your own key. "
   ]
  },
  {
   "cell_type": "markdown",
   "metadata": {
    "slideshow": {
     "slide_type": "slide"
    }
   },
   "source": [
    "# API requests\n",
    "\n",
    "The fastest way to understand how an API works is to dive right in. We'll start by sending an API request, using a browser."
   ]
  },
  {
   "cell_type": "markdown",
   "metadata": {
    "slideshow": {
     "slide_type": "slide"
    }
   },
   "source": [
    "## The *Sunlight Congress* API\n",
    "\n",
    "The [Sunlight Foundation](http://sunlightfoundation.com) maintains a project, called Sunlight Labs, which provides data about U.S. political process through several APIs. The following examples involve the [Sunlight Congress API](https://sunlightlabs.github.io/congress/)."
   ]
  },
  {
   "cell_type": "markdown",
   "metadata": {},
   "source": [
    "### Root URL\n",
    "\n",
    "APIs typically have a **root** URL. You'll be sending requests to this address, along with additional code."
   ]
  },
  {
   "cell_type": "code",
   "execution_count": 96,
   "metadata": {
    "collapsed": true
   },
   "outputs": [],
   "source": [
    "# set the root url\n",
    "\n",
    "root_url = \"https://congress.api.sunlightfoundation.com/\""
   ]
  },
  {
   "cell_type": "markdown",
   "metadata": {},
   "source": [
    "### Endpoints\n",
    "\n",
    "A given API will often have a few methods, called **endpoints**, for retrieving different parts of a data set. The *Congress* API has several endpoints, including:\n",
    "\n",
    "- `legislators`\n",
    "- `legislators/locate`\n",
    "- `committees`\n",
    "- `bills`\n",
    "- `votes`\n",
    "- *etc...*"
   ]
  },
  {
   "cell_type": "code",
   "execution_count": 97,
   "metadata": {
    "collapsed": true
   },
   "outputs": [],
   "source": [
    "# Set the string for a few endpoints\n",
    "\n",
    "endpoint_legislators = \"legislators\"\n",
    "endpoint_locate = \"legislators/locate\"\n",
    "endpoint_votes = \"votes\""
   ]
  },
  {
   "cell_type": "markdown",
   "metadata": {},
   "source": [
    "### API keys\n",
    "\n",
    "Most APIs will severely limit the data you can retrieve, or refuse to respond at all, unless you supply an **api key**. The key is a unique string that identifies you, and tracks how much you are using the API. For now, you are welcome to use my key, with the understanding that you will not use it outside of class. (You can easily request your own key from Sunlight Foundation, which is a fairly quick process.)"
   ]
  },
  {
   "cell_type": "code",
   "execution_count": 98,
   "metadata": {
    "collapsed": true
   },
   "outputs": [],
   "source": [
    "# Garcia's API key. Please don't get me banned!\n",
    "\n",
    "api_key = \"a1b52caa60f74a8cac8c15130de6303a\""
   ]
  },
  {
   "cell_type": "markdown",
   "metadata": {},
   "source": [
    "## Sending an API request\n",
    "\n",
    "An API request is a URL containing the endpoint address, and some additional text, that together specify a **query** of the desired data. Any HTTP device, such as your browser, can send a request. Run the code below, and copy and paste the output (which should be a URL) into a new tab in your browser."
   ]
  },
  {
   "cell_type": "code",
   "execution_count": 99,
   "metadata": {
    "collapsed": false
   },
   "outputs": [
    {
     "name": "stdout",
     "output_type": "stream",
     "text": [
      "https://congress.api.sunlightfoundation.com/legislators?apikey=a1b52caa60f74a8cac8c15130de6303a&state=FL&in_office=true&chamber=senate\n"
     ]
    }
   ],
   "source": [
    "root_url = \"https://congress.api.sunlightfoundation.com/\"\n",
    "endpoint_legislators = \"legislators\"\n",
    "key = \"apikey=\" + api_key\n",
    "query = \"&state=FL&in_office=true&chamber=senate\"\n",
    "url = root_url + endpoint_legislators + \"?\" + key + query\n",
    "\n",
    "print url"
   ]
  },
  {
   "cell_type": "markdown",
   "metadata": {},
   "source": [
    "What did going to this url do? It located the server at `root_url`, activated the method specified by `endpoint_legislators`, and passed along the text after the `?` symbol. This text was parsed into the following information:\n",
    "\n",
    "- `apikey` : `a1b52caa60f74a8cac8c15130de6303a`\n",
    "- `state` : `FL`\n",
    "- `in_office` : `true`\n",
    "- `chamber` : `senate`"
   ]
  },
  {
   "cell_type": "markdown",
   "metadata": {},
   "source": [
    "The server verified that the `apikey` is active, and then searched through its vast trove of Congressional data, filtering out the two U.S. senators from Florida who are currently in office. The `legislators` method assembled their data into a specific structure and sent it to your browser, which recognized it as a plain text file and displayed it as best it could."
   ]
  },
  {
   "cell_type": "markdown",
   "metadata": {},
   "source": [
    "Although the resulting web page looks like a mess, try to tease out its structure. The text you received is called a [JSON](https://en.wikipedia.org/wiki/JSON) document, which resembles a Python dictionary. Pay attention to curly and square braces. You should be able to infer the following, complex structure:"
   ]
  },
  {
   "cell_type": "code",
   "execution_count": 100,
   "metadata": {
    "collapsed": false
   },
   "outputs": [],
   "source": [
    "senator_results = {\n",
    "    'count' : 2,\n",
    "    'page' : {\n",
    "        'count' : 2,\n",
    "        'per_page' : 20,\n",
    "        'page' : 1\n",
    "    },\n",
    "    'results' : [\n",
    "        { # dictionary of attributes of Marco Rubio ... ,\n",
    "        },\n",
    "        { # dictionary of attributes of Bill Nelson ... \n",
    "        }\n",
    "    ]\n",
    "}"
   ]
  },
  {
   "cell_type": "markdown",
   "metadata": {},
   "source": [
    "The API results are a dictionary with three keys: `count`, `page`, and `results`. `count` is the total number of results matching the query. `page` is a dictionary with information about the results that were actually retrieved; the API does not necessarily send back all the results represented by `count`. Finally `results` is a list of dictionaries, one per senator, each with keys representing the variables of the data set."
   ]
  },
  {
   "cell_type": "markdown",
   "metadata": {},
   "source": [
    "## Using `requests` to get data from an API\n",
    "\n",
    "The `requests` module greatly simplifies API requests. It helps you form the request url in a consistent, repeatable way, and to process the results that come back. `requests` is included in the Anaconda package list, so you can `import` it right away."
   ]
  },
  {
   "cell_type": "code",
   "execution_count": 101,
   "metadata": {
    "collapsed": true,
    "slideshow": {
     "slide_type": "-"
    }
   },
   "outputs": [],
   "source": [
    "import requests"
   ]
  },
  {
   "cell_type": "markdown",
   "metadata": {},
   "source": [
    "We use `requests.get()` to send the request. The function can take two parameters: `url`, which should be the full endpoint url, and `params`, wich should be a dictionary of the conditions that define your query."
   ]
  },
  {
   "cell_type": "code",
   "execution_count": 102,
   "metadata": {
    "collapsed": true
   },
   "outputs": [],
   "source": [
    "# Form the endpoint url\n",
    "\n",
    "root_url = \"https://congress.api.sunlightfoundation.com/\"\n",
    "endpoint_legislators = \"legislators\"\n",
    "\n",
    "endpoint_url = root_url + endpoint_legislators\n",
    "\n",
    "# List the query parameters in a dictionary\n",
    "\n",
    "query = {\n",
    "    'apikey'    : api_key,\n",
    "    'state'     : \"FL\",\n",
    "    'chamber'   : \"senate\",\n",
    "    'in_office' : \"true\"\n",
    "}\n",
    "\n",
    "response = requests.get(url = endpoint_url, params = query)"
   ]
  },
  {
   "cell_type": "markdown",
   "metadata": {},
   "source": [
    "The `get` function returns an object called a `Response`. It contains the url that was sent. Notice that it inserted the `?` and `&` symbols appropriately."
   ]
  },
  {
   "cell_type": "code",
   "execution_count": 103,
   "metadata": {
    "collapsed": false
   },
   "outputs": [
    {
     "name": "stdout",
     "output_type": "stream",
     "text": [
      "https://congress.api.sunlightfoundation.com/legislators?chamber=senate&state=FL&apikey=a1b52caa60f74a8cac8c15130de6303a&in_office=true\n"
     ]
    }
   ],
   "source": [
    "# Check that get() created the correct URL\n",
    "\n",
    "print response.url"
   ]
  },
  {
   "cell_type": "markdown",
   "metadata": {},
   "source": [
    "`response` contains the data sent back, which you can examine directly in its `text` attribute"
   ]
  },
  {
   "cell_type": "code",
   "execution_count": 104,
   "metadata": {
    "collapsed": true
   },
   "outputs": [
    {
     "name": "stdout",
     "output_type": "stream",
     "text": [
      "{\"results\":[{\"bioguide_id\":\"R000595\",\"birthday\":\"1971-05-28\",\"chamber\":\"senate\",\"contact_form\":\"http://www.rubio.senate.gov/public/index.cfm/contact\",\"crp_id\":\"N00030612\",\"district\":null,\"facebook_id\":\"178910518800987\",\"fax\":\"202-228-0285\",\"fec_ids\":[\"S0FL00338\"],\"first_name\":\"Marco\",\"gender\":\"M\",\"govtrack_id\":\"412491\",\"icpsr_id\":41102,\"in_office\":true,\"last_name\":\"Rubio\",\"lis_id\":\"S350\",\"middle_name\":null,\"name_suffix\":null,\"nickname\":null,\"oc_email\":\"Sen.Rubio@opencongress.org\",\"ocd_id\":\"ocd-division/country:us/state:fl\",\"office\":\"284 Russell Senate Office Building\",\"party\":\"R\",\"phone\":\"202-224-3041\",\"senate_class\":3,\"state\":\"FL\",\"state_name\":\"Florida\",\"state_rank\":\"junior\",\"term_end\":\"2017-01-03\",\"term_start\":\"2011-01-05\",\"thomas_id\":\"02084\",\"title\":\"Sen\",\"twitter_id\":\"SenRubioPress\",\"votesmart_id\":1601,\"website\":\"http://www.rubio.senate.gov\",\"youtube_id\":\"SenatorMarcoRubio\"},{\"bioguide_id\":\"N000032\",\"birthday\":\"1942-09-29\",\"chamber\":\"senate\",\"contact_form\":\"http://www.billnelson.senate.gov/contact-bill\",\"crp_id\":\"N00009926\",\"district\":null,\"facebook_id\":null,\"fax\":\"202-228-2183\",\"fec_ids\":[\"S8FL00166\"],\"first_name\":\"Bill\",\"gender\":\"M\",\"govtrack_id\":\"300078\",\"icpsr_id\":14651,\"in_office\":true,\"last_name\":\"Nelson\",\"lis_id\":\"S282\",\"middle_name\":null,\"name_suffix\":null,\"nickname\":null,\"oc_email\":\"Sen.Billnelson@opencongress.org\",\"ocd_id\":\"ocd-division/country:us/state:fl\",\"office\":\"716 Hart Senate Office Building\",\"party\":\"D\",\"phone\":\"202-224-5274\",\"senate_class\":1,\"state\":\"FL\",\"state_name\":\"Florida\",\"state_rank\":\"senior\",\"term_end\":\"2019-01-03\",\"term_start\":\"2013-01-03\",\"thomas_id\":\"00859\",\"title\":\"Sen\",\"twitter_id\":\"SenBillNelson\",\"votesmart_id\":1606,\"website\":\"http://www.billnelson.senate.gov\",\"youtube_id\":\"senbillnelson\"}],\"count\":2,\"page\":{\"count\":2,\"per_page\":20,\"page\":1}}\n"
     ]
    }
   ],
   "source": [
    "print response.text"
   ]
  },
  {
   "cell_type": "markdown",
   "metadata": {},
   "source": [
    "## Processing data from an API request\n",
    "\n",
    "Before you can work with the API data, you need to parse it into a useful Python data structure and normalize it if necessary. \n",
    "\n",
    "Start by taking advantage of any implied structure, which in this case is implied by the JSON formatting. `response`'s `json()` function can interpret this formatting and convert it into a Python dictionary. (Ignore the `u`'s, we won't see them later.)"
   ]
  },
  {
   "cell_type": "code",
   "execution_count": 105,
   "metadata": {
    "collapsed": true
   },
   "outputs": [
    {
     "name": "stdout",
     "output_type": "stream",
     "text": [
      "<type 'dict'>\n"
     ]
    },
    {
     "data": {
      "text/plain": [
       "{u'count': 2,\n",
       " u'page': {u'count': 2, u'page': 1, u'per_page': 20},\n",
       " u'results': [{u'bioguide_id': u'R000595',\n",
       "   u'birthday': u'1971-05-28',\n",
       "   u'chamber': u'senate',\n",
       "   u'contact_form': u'http://www.rubio.senate.gov/public/index.cfm/contact',\n",
       "   u'crp_id': u'N00030612',\n",
       "   u'district': None,\n",
       "   u'facebook_id': u'178910518800987',\n",
       "   u'fax': u'202-228-0285',\n",
       "   u'fec_ids': [u'S0FL00338'],\n",
       "   u'first_name': u'Marco',\n",
       "   u'gender': u'M',\n",
       "   u'govtrack_id': u'412491',\n",
       "   u'icpsr_id': 41102,\n",
       "   u'in_office': True,\n",
       "   u'last_name': u'Rubio',\n",
       "   u'lis_id': u'S350',\n",
       "   u'middle_name': None,\n",
       "   u'name_suffix': None,\n",
       "   u'nickname': None,\n",
       "   u'oc_email': u'Sen.Rubio@opencongress.org',\n",
       "   u'ocd_id': u'ocd-division/country:us/state:fl',\n",
       "   u'office': u'284 Russell Senate Office Building',\n",
       "   u'party': u'R',\n",
       "   u'phone': u'202-224-3041',\n",
       "   u'senate_class': 3,\n",
       "   u'state': u'FL',\n",
       "   u'state_name': u'Florida',\n",
       "   u'state_rank': u'junior',\n",
       "   u'term_end': u'2017-01-03',\n",
       "   u'term_start': u'2011-01-05',\n",
       "   u'thomas_id': u'02084',\n",
       "   u'title': u'Sen',\n",
       "   u'twitter_id': u'SenRubioPress',\n",
       "   u'votesmart_id': 1601,\n",
       "   u'website': u'http://www.rubio.senate.gov',\n",
       "   u'youtube_id': u'SenatorMarcoRubio'},\n",
       "  {u'bioguide_id': u'N000032',\n",
       "   u'birthday': u'1942-09-29',\n",
       "   u'chamber': u'senate',\n",
       "   u'contact_form': u'http://www.billnelson.senate.gov/contact-bill',\n",
       "   u'crp_id': u'N00009926',\n",
       "   u'district': None,\n",
       "   u'facebook_id': None,\n",
       "   u'fax': u'202-228-2183',\n",
       "   u'fec_ids': [u'S8FL00166'],\n",
       "   u'first_name': u'Bill',\n",
       "   u'gender': u'M',\n",
       "   u'govtrack_id': u'300078',\n",
       "   u'icpsr_id': 14651,\n",
       "   u'in_office': True,\n",
       "   u'last_name': u'Nelson',\n",
       "   u'lis_id': u'S282',\n",
       "   u'middle_name': None,\n",
       "   u'name_suffix': None,\n",
       "   u'nickname': None,\n",
       "   u'oc_email': u'Sen.Billnelson@opencongress.org',\n",
       "   u'ocd_id': u'ocd-division/country:us/state:fl',\n",
       "   u'office': u'716 Hart Senate Office Building',\n",
       "   u'party': u'D',\n",
       "   u'phone': u'202-224-5274',\n",
       "   u'senate_class': 1,\n",
       "   u'state': u'FL',\n",
       "   u'state_name': u'Florida',\n",
       "   u'state_rank': u'senior',\n",
       "   u'term_end': u'2019-01-03',\n",
       "   u'term_start': u'2013-01-03',\n",
       "   u'thomas_id': u'00859',\n",
       "   u'title': u'Sen',\n",
       "   u'twitter_id': u'SenBillNelson',\n",
       "   u'votesmart_id': 1606,\n",
       "   u'website': u'http://www.billnelson.senate.gov',\n",
       "   u'youtube_id': u'senbillnelson'}]}"
      ]
     },
     "execution_count": 105,
     "metadata": {},
     "output_type": "execute_result"
    }
   ],
   "source": [
    "data = response.json()\n",
    "print type(data)\n",
    "data"
   ]
  },
  {
   "cell_type": "markdown",
   "metadata": {},
   "source": [
    "The legislator data are stored under the key `results`, so we can extract them into a new variable, `results`, which is a list of dictionaries. Using this data structure, we can access information about each senator."
   ]
  },
  {
   "cell_type": "code",
   "execution_count": 106,
   "metadata": {
    "collapsed": false
   },
   "outputs": [
    {
     "name": "stdout",
     "output_type": "stream",
     "text": [
      "Marco Rubio, the junior U.S. senator from Florida, is on Twitter: @SenRubioPress\n",
      "Bill Nelson, the senior U.S. senator from Florida, is on Twitter: @SenBillNelson\n"
     ]
    }
   ],
   "source": [
    "results = data['results']\n",
    "\n",
    "for senator in results:\n",
    "    print \"%s %s, the %s U.S. senator from %s, is on Twitter: @%s\" %(\n",
    "        senator['first_name'], \n",
    "        senator['last_name'],\n",
    "        senator['state_rank'],\n",
    "        senator['state_name'],\n",
    "        senator['twitter_id'])\n"
   ]
  },
  {
   "cell_type": "markdown",
   "metadata": {},
   "source": [
    "### *Exercise*"
   ]
  },
  {
   "cell_type": "code",
   "execution_count": 107,
   "metadata": {
    "collapsed": false
   },
   "outputs": [
    {
     "name": "stdout",
     "output_type": "stream",
     "text": [
      "https://en.wikipedia.org/wiki/United_States_congressional_apportionment\n"
     ]
    }
   ],
   "source": [
    "# Retrieve the data for all House members of your favorite state,\n",
    "# as a dictionary, and print the number of results. See the \n",
    "# website below to check your number. Repeat for California.\n",
    "\n",
    "print \"https://en.wikipedia.org/wiki/United_States_congressional_apportionment\""
   ]
  },
  {
   "cell_type": "markdown",
   "metadata": {},
   "source": [
    "## Referencing entities between API endpoints\n",
    "\n",
    "Suppose that we wanted to keep track of how California representatives voted on certain bills, and compare it against biographical information, such as their party and end of term. Or perhaps you'd like to automatically generate a list of Tweets mentioning each one by their handle and saying how they voted. These use cases require us to join data from two different endpoints: `legislators` and `voting`."
   ]
  },
  {
   "cell_type": "markdown",
   "metadata": {},
   "source": [
    "### Getting the biographical information\n",
    "\n",
    "Start by requesting the biographical data for California representatives. To ensure that we get all the results on the first page, set `per_page` to `\"all\"`."
   ]
  },
  {
   "cell_type": "code",
   "execution_count": 108,
   "metadata": {
    "collapsed": false
   },
   "outputs": [
    {
     "name": "stdout",
     "output_type": "stream",
     "text": [
      "53\n"
     ]
    }
   ],
   "source": [
    "query = {\n",
    "    'apikey'    : api_key,\n",
    "    'state'     : \"CA\",\n",
    "    'chamber'   : \"house\",\n",
    "    'in_office' : \"true\",\n",
    "    'per_page'  : \"all\"\n",
    "}\n",
    "\n",
    "response = requests.get(endpoint_url, params = query)\n",
    "data = response.json()\n",
    "print data['count']  # should get 53 in 2015"
   ]
  },
  {
   "cell_type": "markdown",
   "metadata": {},
   "source": [
    "We first isolate the `results`, and focus on the following fields: `bioguide_id` (which uniquely identifies them on the `voting` API), `first_name`, `last_name`, `party`, `twitter_id`, and `term_end`.\n",
    "\n",
    "`bioguide_id` is critical, because this variable is how we identify legislators on the `voting` API later."
   ]
  },
  {
   "cell_type": "code",
   "execution_count": 109,
   "metadata": {
    "collapsed": false
   },
   "outputs": [
    {
     "name": "stdout",
     "output_type": "stream",
     "text": [
      "<type 'list'> 53\n"
     ]
    }
   ],
   "source": [
    "results = data['results']\n",
    "print type(results), len(results)"
   ]
  },
  {
   "cell_type": "markdown",
   "metadata": {},
   "source": [
    "### *Exercise*"
   ]
  },
  {
   "cell_type": "code",
   "execution_count": 110,
   "metadata": {
    "collapsed": true
   },
   "outputs": [],
   "source": [
    "# E: Write a loop that creates a list of dictionaries \n",
    "#    containing the keys indicated above."
   ]
  },
  {
   "cell_type": "markdown",
   "metadata": {},
   "source": [
    "If you don't feel like being selective, you can convert the entire list into a `DataFrame` using `pandas`. A DataFrame is essentially a list of dictionaries, so we can coerce `results` into a `DataFrame` type."
   ]
  },
  {
   "cell_type": "code",
   "execution_count": 112,
   "metadata": {
    "collapsed": false
   },
   "outputs": [
    {
     "data": {
      "text/plain": [
       "Index([    u'bioguide_id',        u'birthday',         u'chamber',\n",
       "          u'contact_form',          u'crp_id',        u'district',\n",
       "           u'facebook_id',             u'fax',         u'fec_ids',\n",
       "            u'first_name',          u'gender',     u'govtrack_id',\n",
       "              u'icpsr_id',       u'in_office',       u'last_name',\n",
       "       u'leadership_role',     u'middle_name',     u'name_suffix',\n",
       "              u'nickname',        u'oc_email',          u'ocd_id',\n",
       "                u'office',           u'party',           u'phone',\n",
       "                 u'state',      u'state_name',        u'term_end',\n",
       "            u'term_start',       u'thomas_id',           u'title',\n",
       "            u'twitter_id',    u'votesmart_id',         u'website',\n",
       "            u'youtube_id'],\n",
       "      dtype='object')"
      ]
     },
     "execution_count": 112,
     "metadata": {},
     "output_type": "execute_result"
    }
   ],
   "source": [
    "from pandas import *\n",
    "\n",
    "df = DataFrame(results)\n",
    "df.columns"
   ]
  },
  {
   "cell_type": "code",
   "execution_count": 113,
   "metadata": {
    "collapsed": false
   },
   "outputs": [
    {
     "data": {
      "text/html": [
       "<div>\n",
       "<table border=\"1\" class=\"dataframe\">\n",
       "  <thead>\n",
       "    <tr style=\"text-align: right;\">\n",
       "      <th></th>\n",
       "      <th>bioguide_id</th>\n",
       "      <th>first_name</th>\n",
       "      <th>last_name</th>\n",
       "      <th>party</th>\n",
       "      <th>twitter_id</th>\n",
       "    </tr>\n",
       "  </thead>\n",
       "  <tbody>\n",
       "    <tr>\n",
       "      <th>0</th>\n",
       "      <td>W000820</td>\n",
       "      <td>Mimi</td>\n",
       "      <td>Walters</td>\n",
       "      <td>R</td>\n",
       "      <td>RepMimiWalters</td>\n",
       "    </tr>\n",
       "    <tr>\n",
       "      <th>1</th>\n",
       "      <td>T000474</td>\n",
       "      <td>Norma</td>\n",
       "      <td>Torres</td>\n",
       "      <td>D</td>\n",
       "      <td>NormaJTorres</td>\n",
       "    </tr>\n",
       "    <tr>\n",
       "      <th>2</th>\n",
       "      <td>L000582</td>\n",
       "      <td>Ted</td>\n",
       "      <td>Lieu</td>\n",
       "      <td>D</td>\n",
       "      <td>RepTedLieu</td>\n",
       "    </tr>\n",
       "    <tr>\n",
       "      <th>3</th>\n",
       "      <td>A000371</td>\n",
       "      <td>Pete</td>\n",
       "      <td>Aguilar</td>\n",
       "      <td>D</td>\n",
       "      <td>reppeteaguilar</td>\n",
       "    </tr>\n",
       "    <tr>\n",
       "      <th>4</th>\n",
       "      <td>K000387</td>\n",
       "      <td>Steve</td>\n",
       "      <td>Knight</td>\n",
       "      <td>R</td>\n",
       "      <td>SteveKnight25</td>\n",
       "    </tr>\n",
       "  </tbody>\n",
       "</table>\n",
       "</div>"
      ],
      "text/plain": [
       "  bioguide_id first_name last_name party      twitter_id\n",
       "0     W000820       Mimi   Walters     R  RepMimiWalters\n",
       "1     T000474      Norma    Torres     D    NormaJTorres\n",
       "2     L000582        Ted      Lieu     D      RepTedLieu\n",
       "3     A000371       Pete   Aguilar     D  reppeteaguilar\n",
       "4     K000387      Steve    Knight     R   SteveKnight25"
      ]
     },
     "execution_count": 113,
     "metadata": {},
     "output_type": "execute_result"
    }
   ],
   "source": [
    "df[['bioguide_id', 'first_name', 'last_name', 'party', 'twitter_id']].head()"
   ]
  },
  {
   "cell_type": "markdown",
   "metadata": {},
   "source": [
    "### Get the voting information\n",
    "\n",
    "How did these representatives vote on bills? Those data are provided through a different endpoint: `votes`. This API allows you to query by `bill_id`, so we'll look at the contentious \"Protecting Cyber Networks Act\" (HR1560-114). There are usually several votes (on amendments), but we can filter these out by setting the `vote_type` to `\"passage\"`. The `votes` endpoint has so many columns that you need to explicitly specify the ones you want returned. For our purposes, it's just the `voter_ids` list, but we also include info about the `bill` to verify that we've retrieved the right data. ([Detailed documentation about Votes here.](https://sunlightlabs.github.io/congress/votes.html))"
   ]
  },
  {
   "cell_type": "code",
   "execution_count": 114,
   "metadata": {
    "collapsed": false
   },
   "outputs": [
    {
     "data": {
      "text/plain": [
       "[u'count', u'results', u'page']"
      ]
     },
     "execution_count": 114,
     "metadata": {},
     "output_type": "execute_result"
    }
   ],
   "source": [
    "endpoint_url = root_url + endpoint_votes\n",
    "\n",
    "query = {\n",
    "    'apikey'    : api_key,\n",
    "    'bill_id'   : \"hr1560-114\",\n",
    "    'vote_type' : \"passage\",\n",
    "    'fields'    : \"bill,voter_ids\"\n",
    "}\n",
    "\n",
    "response = requests.get(endpoint_url, params = query)\n",
    "data = response.json()\n",
    "data.keys()"
   ]
  },
  {
   "cell_type": "markdown",
   "metadata": {},
   "source": [
    "As with the `legislators` endpoint, `votes` returns a dictionary, with the desired results associated with the key `results`. "
   ]
  },
  {
   "cell_type": "code",
   "execution_count": 115,
   "metadata": {
    "collapsed": false
   },
   "outputs": [
    {
     "name": "stdout",
     "output_type": "stream",
     "text": [
      "1\n"
     ]
    },
    {
     "data": {
      "text/plain": [
       "[u'voter_ids', u'bill']"
      ]
     },
     "execution_count": 115,
     "metadata": {},
     "output_type": "execute_result"
    }
   ],
   "source": [
    "results = data['results']\n",
    "print len(results)\n",
    "results[0].keys()"
   ]
  },
  {
   "cell_type": "markdown",
   "metadata": {},
   "source": [
    "Check bill info..."
   ]
  },
  {
   "cell_type": "code",
   "execution_count": 116,
   "metadata": {
    "collapsed": false
   },
   "outputs": [
    {
     "name": "stdout",
     "output_type": "stream",
     "text": [
      "hr1560-114: Protecting Cyber Networks Act \n",
      "\n",
      "To improve cybersecurity in the United States through enhanced sharing of information about cybersecurity threats, to amend the Homeland Security Act of 2002 to enhance multi-directional sharing of information related to cybersecurity risks and strengthen privacy and civil liberties protections, and for other purposes.\n"
     ]
    }
   ],
   "source": [
    "bill = results[0]['bill'] \n",
    "print \"%s: %s \\n\\n%s\" %(bill['bill_id'], \n",
    "                     bill['short_title'], \n",
    "                     bill['official_title'])"
   ]
  },
  {
   "cell_type": "markdown",
   "metadata": {},
   "source": [
    "... and get the votes. The dictionary `voter_ids` has `bioguide_id`s as keys, and strings (either \"Yea\" or \"Nay\") as the associated values. We'll put in Norma Torres' id to check that a vote is recorded."
   ]
  },
  {
   "cell_type": "code",
   "execution_count": 117,
   "metadata": {
    "collapsed": false
   },
   "outputs": [
    {
     "name": "stdout",
     "output_type": "stream",
     "text": [
      "431\n",
      "Yea\n"
     ]
    }
   ],
   "source": [
    "votes = results[0]['voter_ids']\n",
    "print len(votes)\n",
    "print votes['T000474']"
   ]
  },
  {
   "cell_type": "markdown",
   "metadata": {},
   "source": [
    "To convert this dictionary to a DataFrame, we actualy need the keys to be values in their own column. To facilitate this conversion, use a comprehension to create a list of tuples, each pairing the `bioguide_id` with the `vote`. \n",
    "\n",
    "Pandas can coerce a list of tuples into a `DataFrame`, as long as you specify the variable names in a list, using the `columns` parameter."
   ]
  },
  {
   "cell_type": "code",
   "execution_count": 118,
   "metadata": {
    "collapsed": false
   },
   "outputs": [
    {
     "data": {
      "text/html": [
       "<div>\n",
       "<table border=\"1\" class=\"dataframe\">\n",
       "  <thead>\n",
       "    <tr style=\"text-align: right;\">\n",
       "      <th></th>\n",
       "      <th>bioguide_id</th>\n",
       "      <th>vote</th>\n",
       "    </tr>\n",
       "  </thead>\n",
       "  <tbody>\n",
       "    <tr>\n",
       "      <th>0</th>\n",
       "      <td>L000584</td>\n",
       "      <td>Yea</td>\n",
       "    </tr>\n",
       "    <tr>\n",
       "      <th>1</th>\n",
       "      <td>L000582</td>\n",
       "      <td>Nay</td>\n",
       "    </tr>\n",
       "    <tr>\n",
       "      <th>2</th>\n",
       "      <td>L000583</td>\n",
       "      <td>Nay</td>\n",
       "    </tr>\n",
       "    <tr>\n",
       "      <th>3</th>\n",
       "      <td>L000580</td>\n",
       "      <td>Yea</td>\n",
       "    </tr>\n",
       "    <tr>\n",
       "      <th>4</th>\n",
       "      <td>L000581</td>\n",
       "      <td>Yea</td>\n",
       "    </tr>\n",
       "  </tbody>\n",
       "</table>\n",
       "</div>"
      ],
      "text/plain": [
       "  bioguide_id vote\n",
       "0     L000584  Yea\n",
       "1     L000582  Nay\n",
       "2     L000583  Nay\n",
       "3     L000580  Yea\n",
       "4     L000581  Yea"
      ]
     },
     "execution_count": 118,
     "metadata": {},
     "output_type": "execute_result"
    }
   ],
   "source": [
    "temp = [(key, votes[key]) for key in votes.keys()]\n",
    "\n",
    "vf = pandas.DataFrame(temp, columns = ['bioguide_id', 'vote'])\n",
    "vf.head()"
   ]
  },
  {
   "cell_type": "markdown",
   "metadata": {},
   "source": [
    "Now we can merge (join) these data on the common variable `bioguide_id`."
   ]
  },
  {
   "cell_type": "code",
   "execution_count": 119,
   "metadata": {
    "collapsed": false
   },
   "outputs": [
    {
     "data": {
      "text/html": [
       "<div>\n",
       "<table border=\"1\" class=\"dataframe\">\n",
       "  <thead>\n",
       "    <tr style=\"text-align: right;\">\n",
       "      <th></th>\n",
       "      <th>bioguide_id</th>\n",
       "      <th>first_name</th>\n",
       "      <th>last_name</th>\n",
       "      <th>party</th>\n",
       "      <th>twitter_id</th>\n",
       "      <th>vote</th>\n",
       "    </tr>\n",
       "  </thead>\n",
       "  <tbody>\n",
       "    <tr>\n",
       "      <th>0</th>\n",
       "      <td>W000820</td>\n",
       "      <td>Mimi</td>\n",
       "      <td>Walters</td>\n",
       "      <td>R</td>\n",
       "      <td>RepMimiWalters</td>\n",
       "      <td>Yea</td>\n",
       "    </tr>\n",
       "    <tr>\n",
       "      <th>1</th>\n",
       "      <td>T000474</td>\n",
       "      <td>Norma</td>\n",
       "      <td>Torres</td>\n",
       "      <td>D</td>\n",
       "      <td>NormaJTorres</td>\n",
       "      <td>Yea</td>\n",
       "    </tr>\n",
       "    <tr>\n",
       "      <th>2</th>\n",
       "      <td>L000582</td>\n",
       "      <td>Ted</td>\n",
       "      <td>Lieu</td>\n",
       "      <td>D</td>\n",
       "      <td>RepTedLieu</td>\n",
       "      <td>Nay</td>\n",
       "    </tr>\n",
       "    <tr>\n",
       "      <th>3</th>\n",
       "      <td>A000371</td>\n",
       "      <td>Pete</td>\n",
       "      <td>Aguilar</td>\n",
       "      <td>D</td>\n",
       "      <td>reppeteaguilar</td>\n",
       "      <td>Yea</td>\n",
       "    </tr>\n",
       "    <tr>\n",
       "      <th>4</th>\n",
       "      <td>K000387</td>\n",
       "      <td>Steve</td>\n",
       "      <td>Knight</td>\n",
       "      <td>R</td>\n",
       "      <td>SteveKnight25</td>\n",
       "      <td>Yea</td>\n",
       "    </tr>\n",
       "  </tbody>\n",
       "</table>\n",
       "</div>"
      ],
      "text/plain": [
       "  bioguide_id first_name last_name party      twitter_id vote\n",
       "0     W000820       Mimi   Walters     R  RepMimiWalters  Yea\n",
       "1     T000474      Norma    Torres     D    NormaJTorres  Yea\n",
       "2     L000582        Ted      Lieu     D      RepTedLieu  Nay\n",
       "3     A000371       Pete   Aguilar     D  reppeteaguilar  Yea\n",
       "4     K000387      Steve    Knight     R   SteveKnight25  Yea"
      ]
     },
     "execution_count": 119,
     "metadata": {},
     "output_type": "execute_result"
    }
   ],
   "source": [
    "merged = pandas.merge(df, vf, on = 'bioguide_id')\n",
    "twitter_blast = merged[['bioguide_id', 'first_name', 'last_name',\n",
    "                        'party', 'twitter_id', 'vote']]\n",
    "twitter_blast.head()"
   ]
  },
  {
   "cell_type": "code",
   "execution_count": 120,
   "metadata": {
    "collapsed": false,
    "scrolled": true
   },
   "outputs": [
    {
     "name": "stdout",
     "output_type": "stream",
     "text": [
      "Mimi Walters (R) voted Yea on the Cybersecurity Bill. @RepMimiWalters\n",
      "Norma Torres (D) voted Yea on the Cybersecurity Bill. @NormaJTorres\n",
      "Ted Lieu (D) voted Nay on the Cybersecurity Bill. @RepTedLieu\n",
      "Pete Aguilar (D) voted Yea on the Cybersecurity Bill. @reppeteaguilar\n",
      "Steve Knight (R) voted Yea on the Cybersecurity Bill. @SteveKnight25\n",
      "Mark DeSaulnier (D) voted Yea on the Cybersecurity Bill. @RepDeSaulnier\n",
      "Scott Peters (D) voted Yea on the Cybersecurity Bill. @RepScottPeters\n",
      "Juan Vargas (D) voted Yea on the Cybersecurity Bill. @RepJuanVargas\n",
      "Alan Lowenthal (D) voted Nay on the Cybersecurity Bill. @RepLowenthal\n",
      "Mark Takano (D) voted Nay on the Cybersecurity Bill. @RepMarkTakano\n",
      "Raul Ruiz (D) voted Yea on the Cybersecurity Bill. @CongressmanRuiz\n",
      "Tony Cárdenas (D) voted Yea on the Cybersecurity Bill. @RepCardenas\n",
      "Julia Brownley (D) voted Yea on the Cybersecurity Bill. @JuliaBrownley26\n",
      "David Valadao (R) voted Yea on the Cybersecurity Bill. @RepDavidValadao\n",
      "Eric Swalwell (D) voted Yea on the Cybersecurity Bill. @RepSwalwell\n",
      "Paul Cook (R) voted Yea on the Cybersecurity Bill. @RepPaulCook\n",
      "Ami Bera (D) voted Yea on the Cybersecurity Bill. @RepBera\n",
      "Jared Huffman (D) voted Nay on the Cybersecurity Bill. @RepHuffman\n",
      "Doug LaMalfa (R) voted Yea on the Cybersecurity Bill. @RepLaMalfa\n",
      "Janice Hahn (D) voted Nay on the Cybersecurity Bill. @Rep_JaniceHahn\n",
      "Maxine Waters (D) voted Nay on the Cybersecurity Bill. @MaxineWaters\n",
      "Mike Thompson (D) voted Yea on the Cybersecurity Bill. @RepThompson\n",
      "Linda Sánchez (D) voted Nay on the Cybersecurity Bill. @RepLindaSanchez\n",
      "Jackie Speier (D) voted Yea on the Cybersecurity Bill. @RepSpeier\n",
      "Brad Sherman (D) voted Nay on the Cybersecurity Bill. @BradSherman\n",
      "Adam Schiff (D) voted Yea on the Cybersecurity Bill. @RepAdamSchiff\n",
      "Loretta Sanchez (D) voted Yea on the Cybersecurity Bill. @LorettaSanchez\n",
      "Edward Royce (R) voted Yea on the Cybersecurity Bill. @RepEdRoyce\n",
      "Lucille Roybal-Allard (D) voted Nay on the Cybersecurity Bill. @RepRoybalAllard\n",
      "Dana Rohrabacher (R) voted Yea on the Cybersecurity Bill. @None\n",
      "Nancy Pelosi (D) voted Yea on the Cybersecurity Bill. @NancyPelosi\n",
      "Devin Nunes (R) voted Yea on the Cybersecurity Bill. @Rep_DevinNunes\n",
      "Grace Napolitano (D) voted Nay on the Cybersecurity Bill. @GraceNapolitano\n",
      "Jerry McNerney (D) voted Yea on the Cybersecurity Bill. @RepMcNerney\n",
      "Tom McClintock (R) voted Nay on the Cybersecurity Bill. @RepMcClintock\n",
      "Kevin McCarthy (R) voted Yea on the Cybersecurity Bill. @GOPLeader\n",
      "Doris Matsui (D) voted Nay on the Cybersecurity Bill. @DorisMatsui\n",
      "Zoe Lofgren (D) voted Nay on the Cybersecurity Bill. @RepZoeLofgren\n",
      "Barbara Lee (D) voted Nay on the Cybersecurity Bill. @RepBarbaraLee\n",
      "Darrell Issa (R) voted Nay on the Cybersecurity Bill. @DarrellIssa\n",
      "Duncan Hunter (R) voted Yea on the Cybersecurity Bill. @Rep_Hunter\n",
      "Michael Honda (D) voted Nay on the Cybersecurity Bill. @RepMikeHonda\n",
      "John Garamendi (D) voted Yea on the Cybersecurity Bill. @RepGaramendi\n",
      "Sam Farr (D) voted Yea on the Cybersecurity Bill. @RepSamFarr\n",
      "Anna Eshoo (D) voted Nay on the Cybersecurity Bill. @RepAnnaEshoo\n",
      "Jeff Denham (R) voted Yea on the Cybersecurity Bill. @RepJeffDenham\n",
      "Susan Davis (D) voted Yea on the Cybersecurity Bill. @RepSusanDavis\n",
      "Jim Costa (D) voted Yea on the Cybersecurity Bill. @RepJimCosta\n",
      "Judy Chu (D) voted Nay on the Cybersecurity Bill. @RepJudyChu\n",
      "Lois Capps (D) voted Nay on the Cybersecurity Bill. @RepLoisCapps\n",
      "Ken Calvert (R) voted Yea on the Cybersecurity Bill. @KenCalvert\n",
      "Xavier Becerra (D) voted Nay on the Cybersecurity Bill. @RepBecerra\n",
      "Karen Bass (D) voted Nay on the Cybersecurity Bill. @RepKarenBass\n"
     ]
    }
   ],
   "source": [
    "for i in twitter_blast.index:\n",
    "    each = twitter_blast.iloc[i,]\n",
    "    print \"%s %s (%s) voted %s on the Cybersecurity Bill. @%s\" %(\n",
    "           each['first_name'], each['last_name'], each['party'], \n",
    "           each['vote'], each['twitter_id'])"
   ]
  }
 ],
 "metadata": {
  "kernelspec": {
   "display_name": "Python 2",
   "language": "python",
   "name": "python2"
  },
  "language_info": {
   "codemirror_mode": {
    "name": "ipython",
    "version": 2
   },
   "file_extension": ".py",
   "mimetype": "text/x-python",
   "name": "python",
   "nbconvert_exporter": "python",
   "pygments_lexer": "ipython2",
   "version": "2.7.10"
  }
 },
 "nbformat": 4,
 "nbformat_minor": 0
}
