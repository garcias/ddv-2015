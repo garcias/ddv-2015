{
 "cells": [
  {
   "cell_type": "markdown",
   "metadata": {},
   "source": [
    "# Week 05: Aggregating data\n",
    "\n",
    "## Objectives\n",
    "\n",
    "By the end of this tutorial, you should be able to partition a data set and create groupings according to different variables. Specifically you will:\n",
    "\n",
    "- understand the structure and properties of a `GroupBy` object\n",
    "- partition a data set using the `groupby` method\n",
    "- access summary information from a `GroupBy` mapping\n",
    "- extract a subset of data\n",
    "- specify hierarchical groupings\n",
    "- compute a cross tabulation, using both frequencies and proportions\n",
    "- specify multiple aggregation methods"
   ]
  },
  {
   "cell_type": "markdown",
   "metadata": {},
   "source": [
    "## Getting started\n",
    "\n",
    "\n",
    "As before, import `pandas` and read the `tips` data set from github. As before, add a column for the tip rate (`tip`/`total_bill`)."
   ]
  },
  {
   "cell_type": "code",
   "execution_count": 1,
   "metadata": {
    "collapsed": false
   },
   "outputs": [
    {
     "name": "stdout",
     "output_type": "stream",
     "text": [
      "   total_bill   tip     sex smoker  day    time  size       rate\n",
      "0       16.99  1.01  Female     No  Sun  Dinner     2   5.944673\n",
      "1       10.34  1.66    Male     No  Sun  Dinner     3  16.054159\n",
      "2       21.01  3.50    Male     No  Sun  Dinner     3  16.658734\n",
      "3       23.68  3.31    Male     No  Sun  Dinner     2  13.978041\n",
      "4       24.59  3.61  Female     No  Sun  Dinner     4  14.680765\n"
     ]
    }
   ],
   "source": [
    "from pandas import *\n",
    "url = 'https://raw.github.com/pydata/pandas/master/pandas/tests/data/tips.csv'\n",
    "tips = pandas.read_csv(url)\n",
    "\n",
    "tips = tips.assign( rate = tips['tip'] / tips['total_bill'] * 100.0 )\n",
    "print tips.head()"
   ]
  },
  {
   "cell_type": "markdown",
   "metadata": {},
   "source": [
    "## Partitioning a data set\n",
    "\n",
    "To group rows into subsets, each defined by the values of a specific variable, use the `groupby()` method and pass the name of the desired variable.\n",
    "\n",
    "As an example, suppose we wanted to investigate how the bill payer's sex affects tipping behavior. We would want to group observations by the variable `sex`, which has two values in its domain: `Male` and `Female`. The command `tips.groupby('sex')` does this, and produces a complex data structure called a `GroupBy` object. "
   ]
  },
  {
   "cell_type": "code",
   "execution_count": 2,
   "metadata": {
    "collapsed": false
   },
   "outputs": [
    {
     "name": "stdout",
     "output_type": "stream",
     "text": [
      "sex\n",
      "Female     87\n",
      "Male      157\n",
      "dtype: int64\n"
     ]
    }
   ],
   "source": [
    "# group by sex and find the size of each group\n",
    "\n",
    "by_sex = tips.groupby('sex')\n",
    "print by_sex.size()"
   ]
  },
  {
   "cell_type": "markdown",
   "metadata": {},
   "source": [
    "### *Exercise: group by meal time*"
   ]
  },
  {
   "cell_type": "code",
   "execution_count": 3,
   "metadata": {
    "collapsed": false
   },
   "outputs": [],
   "source": [
    "# E: find the number of observations for each day of the week\n",
    "#    (create a GroupBy object called by_day)\n"
   ]
  },
  {
   "cell_type": "markdown",
   "metadata": {},
   "source": [
    "## GroupBy object\n",
    "\n",
    "A `GroupBy` object is **opaque**: you cannot read it directly using `print` or slicing operations. Instead, you should only access information from it using [its approved methods](http://pandas.pydata.org/pandas-docs/stable/api.html#groupby). For example, the `size()` method above produced a small DataFrame, named `by_sex`, listing the size of each group. In most cases, you will use an aggregation function, such as `sum` or `mean`, which pandas will apply for each group, to any variables that apply. The output is typically a DataFrame."
   ]
  },
  {
   "cell_type": "code",
   "execution_count": 4,
   "metadata": {
    "collapsed": false
   },
   "outputs": [
    {
     "name": "stdout",
     "output_type": "stream",
     "text": [
      "        total_bill       tip      size       rate\n",
      "sex                                              \n",
      "Female   18.056897  2.833448  2.459770  16.649074\n",
      "Male     20.744076  3.089618  2.630573  15.765055\n"
     ]
    }
   ],
   "source": [
    "# compute average of variables for each group\n",
    "# ('smoker' and other non-numerical variables omitted, because mean is undefined for them)\n",
    "\n",
    "print by_sex.mean()"
   ]
  },
  {
   "cell_type": "code",
   "execution_count": 5,
   "metadata": {
    "collapsed": false
   },
   "outputs": [
    {
     "name": "stdout",
     "output_type": "stream",
     "text": [
      "19.785942623\n"
     ]
    }
   ],
   "source": [
    "# for comparison, mean of total bill for entire data set\n",
    "# (not equal to averages for Male and Female groups)\n",
    "\n",
    "print tips['total_bill'].mean()"
   ]
  },
  {
   "cell_type": "markdown",
   "metadata": {},
   "source": [
    "Since the output of `mean()` is a DataFrame, you can select specific columns, rows, and cells in the usual ways..."
   ]
  },
  {
   "cell_type": "code",
   "execution_count": 6,
   "metadata": {
    "collapsed": false
   },
   "outputs": [
    {
     "name": "stdout",
     "output_type": "stream",
     "text": [
      "Average tip from female bill payers: $2.83\n",
      "Average tip from male bill payers: $3.09\n"
     ]
    }
   ],
   "source": [
    "# average of tips from female and male bill payers\n",
    "female_tip = by_sex.mean()['tip']['Female']\n",
    "male_tip = by_sex.mean().loc['Male','tip']\n",
    "\n",
    "print \"Average tip from female bill payers: $%.2f\" %female_tip\n",
    "print \"Average tip from male bill payers: $%.2f\" %male_tip"
   ]
  },
  {
   "cell_type": "markdown",
   "metadata": {},
   "source": [
    "... and remember you can apply filters to the DataFrame before invoking `groupby()`."
   ]
  },
  {
   "cell_type": "code",
   "execution_count": 7,
   "metadata": {
    "collapsed": false,
    "scrolled": true
   },
   "outputs": [
    {
     "name": "stdout",
     "output_type": "stream",
     "text": [
      "        total_bill       tip      size      rate\n",
      "sex                                             \n",
      "Female   26.722000  2.315000  2.800000  8.583141\n",
      "Male     26.979459  2.471622  2.837838  9.321600\n"
     ]
    }
   ],
   "source": [
    "# mean of each variable for entire data set\n",
    "f_lowtip = tips['rate'] < 12\n",
    "print tips[f_lowtip].groupby('sex').mean()"
   ]
  },
  {
   "cell_type": "markdown",
   "metadata": {},
   "source": [
    "### *Exercises: group by party size*"
   ]
  },
  {
   "cell_type": "code",
   "execution_count": 8,
   "metadata": {
    "collapsed": false
   },
   "outputs": [
    {
     "name": "stdout",
     "output_type": "stream",
     "text": [
      "           rate  total_bill\n",
      "size                       \n",
      "1     21.729202    7.242500\n",
      "2     16.571919   16.448013\n",
      "3     15.215685   23.277632\n",
      "4     14.594901   28.613514\n",
      "5     14.149549   30.068000\n",
      "6     15.622920   34.830000\n"
     ]
    }
   ],
   "source": [
    "# E: create a GroupBy object named by_size, grouped by size of the party\n",
    "#    and for each group compute the average tip rate, and average bill\n",
    "\n",
    "by_size = tips.groupby('size').mean()[['rate','total_bill']]\n",
    "print by_size"
   ]
  },
  {
   "cell_type": "code",
   "execution_count": 9,
   "metadata": {
    "collapsed": false
   },
   "outputs": [
    {
     "name": "stdout",
     "output_type": "stream",
     "text": [
      "size\n",
      "1     1\n",
      "2    64\n",
      "3    15\n",
      "4    23\n",
      "5     3\n",
      "6     2\n",
      "dtype: int64\n"
     ]
    }
   ],
   "source": [
    "# E: compute the number of bill payers who tip lower than 15%, aggregated by party size\n",
    "\n",
    "f_lowtip = tips['rate'] < 15.0\n",
    "print tips[f_lowtip].groupby('size').size()"
   ]
  },
  {
   "cell_type": "code",
   "execution_count": 10,
   "metadata": {
    "collapsed": false
   },
   "outputs": [
    {
     "name": "stdout",
     "output_type": "stream",
     "text": [
      "size\n",
      "1    25.000000\n",
      "2    41.025641\n",
      "3    39.473684\n",
      "4    62.162162\n",
      "5    60.000000\n",
      "6    50.000000\n",
      "dtype: float64\n"
     ]
    }
   ],
   "source": [
    "# E: compute the *percentage* of bill payers who tip lower than 15% for each group\n",
    "\n",
    "print tips[f_lowtip].groupby('size').size()/tips.groupby('size').size() * 100"
   ]
  },
  {
   "cell_type": "markdown",
   "metadata": {},
   "source": [
    "## Extracting groups\n",
    "\n",
    "Sometimes it's useful to extract a group so you can do some experimental processing with it, or export it for someone else to work on. Use `get_group()` to extract the group into a new DataFrame."
   ]
  },
  {
   "cell_type": "code",
   "execution_count": 11,
   "metadata": {
    "collapsed": false,
    "scrolled": true
   },
   "outputs": [
    {
     "name": "stdout",
     "output_type": "stream",
     "text": [
      "    total_bill   tip     sex smoker  day    time  size       rate\n",
      "0        16.99  1.01  Female     No  Sun  Dinner     2   5.944673\n",
      "4        24.59  3.61  Female     No  Sun  Dinner     4  14.680765\n",
      "11       35.26  5.00  Female     No  Sun  Dinner     4  14.180374\n",
      "14       14.83  3.02  Female     No  Sun  Dinner     2  20.364127\n",
      "16       10.33  1.67  Female     No  Sun  Dinner     3  16.166505\n"
     ]
    }
   ],
   "source": [
    "print by_sex.get_group('Female').head()"
   ]
  },
  {
   "cell_type": "markdown",
   "metadata": {},
   "source": [
    "### *Exercise: extract by party size*"
   ]
  },
  {
   "cell_type": "code",
   "execution_count": 12,
   "metadata": {
    "collapsed": false,
    "format": "row"
   },
   "outputs": [
    {
     "name": "stdout",
     "output_type": "stream",
     "text": [
      "   total_bill   tip     sex smoker  day    time  size       rate\n",
      "0       16.99  1.01  Female     No  Sun  Dinner     2   5.944673\n",
      "1       10.34  1.66    Male     No  Sun  Dinner     3  16.054159\n",
      "2       21.01  3.50    Male     No  Sun  Dinner     3  16.658734\n",
      "3       23.68  3.31    Male     No  Sun  Dinner     2  13.978041\n",
      "4       24.59  3.61  Female     No  Sun  Dinner     4  14.680765\n",
      "\n",
      "    total_bill   tip     sex smoker  day    time  size       rate\n",
      "90       28.97  3.00    Male    Yes  Fri  Dinner     2  10.355540\n",
      "91       22.49  3.50    Male     No  Fri  Dinner     2  15.562472\n",
      "92        5.75  1.00  Female    Yes  Fri  Dinner     2  17.391304\n",
      "93       16.32  4.30  Female    Yes  Fri  Dinner     2  26.348039\n",
      "94       22.75  3.25  Female     No  Fri  Dinner     2  14.285714\n",
      "\n",
      "    total_bill   tip   sex smoker   day   time  size       rate\n",
      "77       27.20  4.00  Male     No  Thur  Lunch     4  14.705882\n",
      "78       22.76  3.00  Male     No  Thur  Lunch     2  13.181019\n",
      "79       17.29  2.71  Male     No  Thur  Lunch     2  15.673800\n",
      "80       19.44  3.00  Male    Yes  Thur  Lunch     2  15.432099\n",
      "81       16.66  3.40  Male     No  Thur  Lunch     2  20.408163\n",
      "\n",
      "    total_bill   tip     sex smoker  day    time  size       rate\n",
      "19       20.65  3.35    Male     No  Sat  Dinner     3  16.222760\n",
      "20       17.92  4.08    Male     No  Sat  Dinner     2  22.767857\n",
      "21       20.29  2.75  Female     No  Sat  Dinner     2  13.553475\n",
      "22       15.77  2.23  Female     No  Sat  Dinner     2  14.140774\n",
      "23       39.42  7.58    Male     No  Sat  Dinner     4  19.228818\n",
      "\n"
     ]
    }
   ],
   "source": [
    "# E: Create a dictionary of DataFrames, where the keys are values of party size\n",
    "#    and the DataFrames are grouped by party size\n",
    "#    Verify that your code worked by printing the first five rows of each group.\n",
    "\n",
    "by_day = tips.groupby('day')\n",
    "dct = {}\n",
    "for name in tips['day'].unique():\n",
    "    dct[name] = by_day.get_group(name)\n",
    "\n",
    "for key in dct:\n",
    "    print dct[key].head()\n",
    "    print "
   ]
  },
  {
   "cell_type": "markdown",
   "metadata": {},
   "source": [
    "## Hierarchical grouping\n",
    "\n",
    "You can pass more than one variable to `groupby()`, and it will create a hierarchical grouping. For example, suppose we want to see how male and female bill payers are distributed by meal time. We could pass in both `time` and `sex` as a list to `groupby()`, and then use `size()` to count the number of observations in each category."
   ]
  },
  {
   "cell_type": "code",
   "execution_count": 13,
   "metadata": {
    "collapsed": false
   },
   "outputs": [
    {
     "name": "stdout",
     "output_type": "stream",
     "text": [
      "time    sex   \n",
      "Dinner  Female     52\n",
      "        Male      124\n",
      "Lunch   Female     35\n",
      "        Male       33\n",
      "dtype: int64\n"
     ]
    }
   ],
   "source": [
    "# group by time of meal and sex, then count\n",
    "\n",
    "print tips.groupby(['time','sex']).size()\n",
    "\n",
    "# At Lunch time, bill payers are equally likely to be male or female, \n",
    "# but at Dinner time, bill payers are far more likely to be male."
   ]
  },
  {
   "cell_type": "markdown",
   "metadata": {},
   "source": [
    "### *Exercise: how consistent are different groups?*"
   ]
  },
  {
   "cell_type": "code",
   "execution_count": 14,
   "metadata": {
    "collapsed": false
   },
   "outputs": [],
   "source": [
    "# E: Among the numerical variables, is there more or less variation\n",
    "#    among groups of male and female smokers and nonsmokers?\n",
    "\n"
   ]
  },
  {
   "cell_type": "markdown",
   "metadata": {},
   "source": [
    "## Cross tabulation\n",
    "\n",
    "If you need to compare counts of observations between multiple groupings, a **cross tabulation** can help you organize these comparisons. In the hierarchical-grouping example above, for example, we can view the `time` groupings vertically and the `sex` groupings horizontally. Pandas' [`crosstab`](http://pandas.pydata.org/pandas-docs/stable/generated/pandas.crosstab.html#pandas.crosstab) takes at least two arguments: the first specifies vertical grouping, the second specifies horizontal grouping."
   ]
  },
  {
   "cell_type": "code",
   "execution_count": 15,
   "metadata": {
    "collapsed": false
   },
   "outputs": [
    {
     "name": "stdout",
     "output_type": "stream",
     "text": [
      "sex     Female  Male\n",
      "time                \n",
      "Dinner      52   124\n",
      "Lunch       35    33\n"
     ]
    }
   ],
   "source": [
    "# create a cross tabulation with times as rows, and sex as columns\n",
    "\n",
    "ct = pandas.crosstab(tips['time'],tips['sex'])\n",
    "print ct"
   ]
  },
  {
   "cell_type": "markdown",
   "metadata": {},
   "source": [
    "If the number of data points between groups is not uniform, use percentages of each column to make the comparisons more meaningful."
   ]
  },
  {
   "cell_type": "code",
   "execution_count": 16,
   "metadata": {
    "collapsed": false
   },
   "outputs": [
    {
     "name": "stdout",
     "output_type": "stream",
     "text": [
      "sex        Female       Male\n",
      "time                        \n",
      "Dinner  59.770115  78.980892\n",
      "Lunch   40.229885  21.019108\n"
     ]
    }
   ],
   "source": [
    "# for each sex, shows the distribution between dinner and lunch meals\n",
    "\n",
    "print ct/ct.sum()*100.0"
   ]
  },
  {
   "cell_type": "markdown",
   "metadata": {},
   "source": [
    "The axes of a cross tabulation can be \"flipped\" diagonally, allowing you to compare between sexes."
   ]
  },
  {
   "cell_type": "code",
   "execution_count": 17,
   "metadata": {
    "collapsed": false,
    "scrolled": true
   },
   "outputs": [
    {
     "name": "stdout",
     "output_type": "stream",
     "text": [
      "time       Dinner      Lunch\n",
      "sex                         \n",
      "Female  29.545455  51.470588\n",
      "Male    70.454545  48.529412\n"
     ]
    }
   ],
   "source": [
    "# for each sex, shows the distribution between dinner and lunch meals\n",
    "\n",
    "ct = pandas.crosstab(tips['sex'],tips['time'])\n",
    "print ct/ct.sum()*100.0\n",
    "\n",
    "# shows clearly that the male/female distribution changes between\n",
    "# lunch (parity) and dinner (70% male payers)"
   ]
  },
  {
   "cell_type": "markdown",
   "metadata": {},
   "source": [
    "### *Exercise: When do smokers congregate?*"
   ]
  },
  {
   "cell_type": "code",
   "execution_count": 18,
   "metadata": {
    "collapsed": false
   },
   "outputs": [
    {
     "name": "stdout",
     "output_type": "stream",
     "text": [
      "smoker         No        Yes\n",
      "day                         \n",
      "Fri      2.649007  16.129032\n",
      "Sat     29.801325  45.161290\n",
      "Sun     37.748344  20.430108\n",
      "Thur    29.801325  18.279570\n"
     ]
    }
   ],
   "source": [
    "# E: On what days did the waiter tend to see the highest proportion of smokers?\n",
    "\n",
    "ct = pandas.crosstab(tips['day'],tips['smoker'])\n",
    "print ct/ct.sum()*100.0"
   ]
  },
  {
   "cell_type": "markdown",
   "metadata": {},
   "source": [
    "## Specifying aggregation methods\n",
    "\n",
    "Sometimes it might be useful to summarize different variables in different ways. For example, we typically want to *count* categorical data but *average* numerical data. The `aggregate()` method allows you to specify which functions apply to which variables; map each function to the appropriate column using a dictionary. The output is a `DataFrame` that you can do further calculations on."
   ]
  },
  {
   "cell_type": "code",
   "execution_count": 19,
   "metadata": {
    "collapsed": false
   },
   "outputs": [
    {
     "name": "stdout",
     "output_type": "stream",
     "text": [
      "                    tip  sex\n",
      "time   sex                  \n",
      "Dinner Female  3.002115   52\n",
      "       Male    3.144839  124\n",
      "Lunch  Female  2.582857   35\n",
      "       Male    2.882121   33\n"
     ]
    }
   ],
   "source": [
    "# Group by shift and sex, and get count of sex and average of tip\n",
    "\n",
    "import numpy as np\n",
    "stats = { \n",
    "    'sex' : np.size, \n",
    "    'tip' : np.mean \n",
    "}\n",
    "print tips.groupby(['time', 'sex']).aggregate(stats)"
   ]
  },
  {
   "cell_type": "markdown",
   "metadata": {},
   "source": [
    "### *Exercise: where is the money?*"
   ]
  },
  {
   "cell_type": "code",
   "execution_count": 20,
   "metadata": {
    "collapsed": false
   },
   "outputs": [
    {
     "name": "stdout",
     "output_type": "stream",
     "text": [
      "                  rate     tip  size\n",
      "time   day                          \n",
      "Dinner Fri   15.891611   35.28    12\n",
      "       Sat   15.315172  260.40    87\n",
      "       Sun   16.689729  247.39    76\n",
      "       Thur  15.974441    3.00     1\n",
      "Lunch  Fri   18.876489   16.68     7\n",
      "       Thur  16.130074  168.83    61\n"
     ]
    }
   ],
   "source": [
    "# E: Make a DataFrame showing the average tip rate, total tips collected\n",
    "#    and number of tables waited, for different days and meal times.\n",
    "\n",
    "by_size = tips.groupby(['time','day']).aggregate({\n",
    "        'tip': np.sum,\n",
    "        'rate' : np.mean,\n",
    "        'size' : np.size\n",
    "    })\n",
    "print by_size\n",
    "\n",
    "# Although Friday lunch has the best average tip rate, it has low volume\n",
    "# and thus the waiter doesn't collect much from it overall"
   ]
  },
  {
   "cell_type": "markdown",
   "metadata": {},
   "source": [
    "### *Exercise: low tippers*\n",
    "\n",
    "Earlier we tabulated the proportion of sub-15% tippers, grouped by party size. Replicate this analysis using a cross tabulation."
   ]
  },
  {
   "cell_type": "code",
   "execution_count": 21,
   "metadata": {
    "collapsed": false
   },
   "outputs": [
    {
     "name": "stdout",
     "output_type": "stream",
     "text": [
      "low   False  True  total        low\n",
      "size                               \n",
      "1         3     1      4  25.000000\n",
      "2        92    64    156  41.025641\n",
      "3        23    15     38  39.473684\n",
      "4        14    23     37  62.162162\n",
      "5         2     3      5  60.000000\n",
      "6         2     2      4  50.000000\n"
     ]
    }
   ],
   "source": [
    "# E: compute the *percentage* of bill payers who tip lower than 15% for each group\n",
    "\n",
    "tips = tips.assign(low = tips['rate'] < 15.0)\n",
    "ct = pandas.crosstab(tips['size'], tips['low'])\n",
    "\n",
    "ct = ct.assign(total = ct.sum(axis=1))\n",
    "ct = ct.assign(low = ct[True]/ct['total'] * 100.0)\n",
    "print ct"
   ]
  },
  {
   "cell_type": "code",
   "execution_count": 22,
   "metadata": {
    "collapsed": false
   },
   "outputs": [
    {
     "name": "stdout",
     "output_type": "stream",
     "text": [
      "size    1          2          3          4   5   6\n",
      "low                                               \n",
      "False  75  58.974359  60.526316  37.837838  40  50\n",
      "True   25  41.025641  39.473684  62.162162  60  50\n"
     ]
    }
   ],
   "source": [
    "tips = tips.assign(low = tips['rate'] < 15.0)\n",
    "ct = pandas.crosstab(tips['low'],tips['size'])\n",
    "\n",
    "print ct/ct.sum()*100"
   ]
  }
 ],
 "metadata": {
  "kernelspec": {
   "display_name": "Python 2",
   "language": "python",
   "name": "python2"
  },
  "language_info": {
   "codemirror_mode": {
    "name": "ipython",
    "version": 2
   },
   "file_extension": ".py",
   "mimetype": "text/x-python",
   "name": "python",
   "nbconvert_exporter": "python",
   "pygments_lexer": "ipython2",
   "version": "2.7.10"
  }
 },
 "nbformat": 4,
 "nbformat_minor": 0
}
