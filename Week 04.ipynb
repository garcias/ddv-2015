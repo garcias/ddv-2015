{
 "cells": [
  {
   "cell_type": "markdown",
   "metadata": {},
   "source": [
    "# Week 04: pandas\n",
    "\n",
    "## Objectives\n",
    "\n",
    "By the end of this tutorial, you should be able to explore a data set and propose possible relationships among variables. Specifically you will:\n",
    "\n",
    "- understand the structure and properties of a `DataFrame` object\n",
    "- specify variables for analysis\n",
    "- filter data according to criteria\n",
    "- sort data by specific variables\n",
    "- summarize the domain of a data set\n",
    "- define new variables computed from other ones\n",
    "- summarize the values of a variable\n"
   ]
  },
  {
   "cell_type": "markdown",
   "metadata": {},
   "source": [
    "## pandas\n",
    "\n",
    "Using lists, dictionaries, and basic functions of core Python, you can construct data structures and functions for storing and processing data. Because data sets come in varying shapes and sizes, you would need to write custom code for each one you had to analyze. Wanting to automate this process and speed up analysis times, developers at investment firm [AQR Capital Management](https://en.wikipedia.org/wiki/AQR_Capital) refactored their code so it could adapt to most data sets, and thus the [pandas module](http://pandas.pydata.org/index.html) was born. \n",
    "\n",
    "The central feature of `pandas` is its `DataFrame` object, which represents a spreadsheet type of data structure. It offers methods for importing data into itself, and methods for viewing, processing, and analyzing the data. \n",
    "\n",
    "*R users: The functionality of `pandas` is most similar to the `dplyr` package.*"
   ]
  },
  {
   "cell_type": "markdown",
   "metadata": {},
   "source": [
    "## Importing a data set\n",
    "\n",
    "We'll start by making `pandas` available, and then importing a data set into a new `DataFrame`. The `url` points to a Github repository containing data for testing pandas. The third line calls the `read_csv()` function, and does three things:\n",
    "\n",
    "- looks up the webpage specified by `url`\n",
    "- reads this page, which is a csv file, into memory\n",
    "- creates a new `DataFrame` object containing the imported data"
   ]
  },
  {
   "cell_type": "code",
   "execution_count": 141,
   "metadata": {
    "collapsed": true
   },
   "outputs": [],
   "source": [
    "from pandas import *\n",
    "\n",
    "url = 'https://raw.github.com/pydata/pandas/master/pandas/tests/data/tips.csv'\n",
    "\n",
    "tips = pandas.read_csv(url)"
   ]
  },
  {
   "cell_type": "markdown",
   "metadata": {},
   "source": [
    "### *Questions*"
   ]
  },
  {
   "cell_type": "code",
   "execution_count": 142,
   "metadata": {
    "collapsed": true
   },
   "outputs": [],
   "source": [
    "### Questions\n",
    "\n",
    "# Q: What does the \"*\" in the first line mean?\n",
    "# A: \n",
    "#\n",
    "# Q: What is the name of the new DataFrame object containing the data?\n",
    "# A: "
   ]
  },
  {
   "cell_type": "markdown",
   "metadata": {},
   "source": [
    "## Background on the data set\n",
    "\n",
    "To understand a data set, we need to know its context. How were the data collected? What are the variables, and what do they represent? \n",
    "\n",
    "The [tips data set](https://raw.github.com/pydata/pandas/master/pandas/tests/data/tips.csv) represents [244 observations made by a waiter working at a restaurant for several months](https://books.google.com/books/about/Practical_Data_Analysis.html?id=5hILAAAACAAJ). He recorded information about each table he worked, including the following variables:\n",
    "\n",
    "- tip in dollars,\n",
    "- bill in dollars,\n",
    "- sex of the bill payer,\n",
    "- whether there were smokers in the party,\n",
    "- day of the week,\n",
    "- time of day,\n",
    "- size of the party."
   ]
  },
  {
   "cell_type": "markdown",
   "metadata": {},
   "source": [
    "## Previewing a data set\n",
    "\n",
    "Once you've imported a DataFrame, take a look at some values, to make sure the import was successful. The `head()` and `tail()` functions allow you to \"peek\" at the start and end of the data set. `pandas` automatically formats the output to reflect the tabular structure.\n",
    "\n",
    "In most of the examples below, we use a function that creates a new `DataFrame`. In most cases, we simply print it and then forget it, but any of these could be assigned to a new variable if you wanted."
   ]
  },
  {
   "cell_type": "code",
   "execution_count": 143,
   "metadata": {
    "collapsed": false
   },
   "outputs": [
    {
     "name": "stdout",
     "output_type": "stream",
     "text": [
      "   total_bill   tip     sex smoker  day    time  size\n",
      "0       16.99  1.01  Female     No  Sun  Dinner     2\n",
      "1       10.34  1.66    Male     No  Sun  Dinner     3\n",
      "2       21.01  3.50    Male     No  Sun  Dinner     3\n",
      "3       23.68  3.31    Male     No  Sun  Dinner     2\n"
     ]
    }
   ],
   "source": [
    "print tips.head(4)  # shows the first 4 rows"
   ]
  },
  {
   "cell_type": "code",
   "execution_count": 144,
   "metadata": {
    "collapsed": false
   },
   "outputs": [
    {
     "name": "stdout",
     "output_type": "stream",
     "text": [
      "     total_bill   tip     sex smoker   day    time  size\n",
      "241       22.67  2.00    Male    Yes   Sat  Dinner     2\n",
      "242       17.82  1.75    Male     No   Sat  Dinner     2\n",
      "243       18.78  3.00  Female     No  Thur  Dinner     2\n"
     ]
    }
   ],
   "source": [
    "print tips.tail(3)  # shows the last 3 rows"
   ]
  },
  {
   "cell_type": "markdown",
   "metadata": {},
   "source": [
    "## Reading and updating data from a data set\n",
    "\n",
    "There are two equivalent ways to think of a `DataFrame`: as a *list of dictionaries*, or as a *dictionary of lists*. Either way you must specify both an index (for the row) and a key (for the column). To access any value, tack on `.loc` and enclose the index and key in square brackets [ ]."
   ]
  },
  {
   "cell_type": "code",
   "execution_count": 145,
   "metadata": {
    "collapsed": false
   },
   "outputs": [
    {
     "name": "stdout",
     "output_type": "stream",
     "text": [
      "10.34\n"
     ]
    }
   ],
   "source": [
    "# print out the bill in row 1, should be 10.34\n",
    "print tips.loc[1, 'total_bill']"
   ]
  },
  {
   "cell_type": "code",
   "execution_count": 146,
   "metadata": {
    "collapsed": false
   },
   "outputs": [
    {
     "name": "stdout",
     "output_type": "stream",
     "text": [
      "   total_bill   tip     sex smoker  day    time  size\n",
      "0       16.99  1.01  Female     No  Sun  Dinner     2\n",
      "1       10.34  1.66    Male     No  Sun  Dinner     3\n",
      "2       21.01  3.50    Male     No  Sun  Dinner     3\n",
      "3       23.68  3.31    Male     No  Sun  Dinner     2\n",
      "4       24.59  3.61  Female     No  Sun  Dinner     4\n"
     ]
    }
   ],
   "source": [
    "# Use slice notation to get rows 0 thru 4\n",
    "print tips.loc[0:4]"
   ]
  },
  {
   "cell_type": "code",
   "execution_count": 147,
   "metadata": {
    "collapsed": false
   },
   "outputs": [
    {
     "name": "stdout",
     "output_type": "stream",
     "text": [
      "    tip  day\n",
      "0  1.01  Sun\n",
      "1  1.66  Sun\n",
      "2  3.50  Sun\n",
      "3  3.31  Sun\n",
      "4  3.61  Sun\n"
     ]
    }
   ],
   "source": [
    "# Use a list of keys to specify multiple columns\n",
    "print tips.loc[0:4, ['tip', 'day']]"
   ]
  },
  {
   "cell_type": "markdown",
   "metadata": {},
   "source": [
    "### *Exercises*"
   ]
  },
  {
   "cell_type": "code",
   "execution_count": 148,
   "metadata": {
    "collapsed": true
   },
   "outputs": [],
   "source": [
    "# E: find the tip rate (tip as a percentage of bill) for row 3\n",
    "\n"
   ]
  },
  {
   "cell_type": "code",
   "execution_count": 149,
   "metadata": {
    "collapsed": false
   },
   "outputs": [],
   "source": [
    "# E: set the party size of row 0 to 12, then use .head() to check that it worked.\n"
   ]
  },
  {
   "cell_type": "markdown",
   "metadata": {},
   "source": [
    "## Selecting columns\n",
    "\n",
    "When you just want to work with entire columns, you can use regular dictionary notation, using the column names as the keys. If you need multiple columns, specify a *list* of keys."
   ]
  },
  {
   "cell_type": "code",
   "execution_count": 150,
   "metadata": {
    "collapsed": false
   },
   "outputs": [
    {
     "name": "stdout",
     "output_type": "stream",
     "text": [
      "0    1.01\n",
      "1    1.66\n",
      "2    3.50\n",
      "3    3.31\n",
      "4    3.61\n",
      "Name: tip, dtype: float64\n"
     ]
    }
   ],
   "source": [
    "# select just the tip column, using .head() to limit output\n",
    "\n",
    "print tips['tip'].head()"
   ]
  },
  {
   "cell_type": "code",
   "execution_count": 151,
   "metadata": {
    "collapsed": false
   },
   "outputs": [
    {
     "name": "stdout",
     "output_type": "stream",
     "text": [
      "   total_bill   tip\n",
      "0       16.99  1.01\n",
      "1       10.34  1.66\n",
      "2       21.01  3.50\n",
      "3       23.68  3.31\n",
      "4       24.59  3.61\n"
     ]
    }
   ],
   "source": [
    "# select two columns\n",
    "\n",
    "print tips[['total_bill','tip']].head()"
   ]
  },
  {
   "cell_type": "markdown",
   "metadata": {},
   "source": [
    "## Filtering rows\n",
    "\n",
    "To select a subset of observations, you need to create a filter. A filter is a list of Boolean values that indicate which rows to include. You can generate a filter using a logical expression with a column."
   ]
  },
  {
   "cell_type": "code",
   "execution_count": 152,
   "metadata": {
    "collapsed": false
   },
   "outputs": [
    {
     "name": "stdout",
     "output_type": "stream",
     "text": [
      "0    False\n",
      "1    False\n",
      "2     True\n",
      "3     True\n",
      "4     True\n",
      "5     True\n",
      "6    False\n",
      "7     True\n",
      "8    False\n",
      "9    False\n",
      "Name: total_bill, dtype: bool\n"
     ]
    }
   ],
   "source": [
    "# Make a filter that is True if the bill is over $20\n",
    "\n",
    "f_over20 = tips['total_bill'] > 20\n",
    "print f_over20.head(10)"
   ]
  },
  {
   "cell_type": "markdown",
   "metadata": {},
   "source": [
    "If you use this filter in the brackets, the resulting `DataFrame` will only show rows where the filter was True. In the example below, the only indices that appear were those that had a value of `True` in the filter."
   ]
  },
  {
   "cell_type": "code",
   "execution_count": 153,
   "metadata": {
    "collapsed": false
   },
   "outputs": [
    {
     "name": "stdout",
     "output_type": "stream",
     "text": [
      "    total_bill   tip     sex smoker  day    time  size\n",
      "2        21.01  3.50    Male     No  Sun  Dinner     3\n",
      "3        23.68  3.31    Male     No  Sun  Dinner     2\n",
      "4        24.59  3.61  Female     No  Sun  Dinner     4\n",
      "5        25.29  4.71    Male     No  Sun  Dinner     4\n",
      "7        26.88  3.12    Male     No  Sun  Dinner     4\n",
      "11       35.26  5.00  Female     No  Sun  Dinner     4\n",
      "15       21.58  3.92    Male     No  Sun  Dinner     2\n",
      "19       20.65  3.35    Male     No  Sat  Dinner     3\n",
      "21       20.29  2.75  Female     No  Sat  Dinner     2\n",
      "23       39.42  7.58    Male     No  Sat  Dinner     4\n"
     ]
    }
   ],
   "source": [
    "# Use filter to select subset of rows\n",
    "\n",
    "print tips[f_over20].head(10)"
   ]
  },
  {
   "cell_type": "markdown",
   "metadata": {},
   "source": [
    "One slick feature: you can \"chain\" sets of brackets together to apply multiple criteria"
   ]
  },
  {
   "cell_type": "code",
   "execution_count": 154,
   "metadata": {
    "collapsed": false
   },
   "outputs": [
    {
     "name": "stdout",
     "output_type": "stream",
     "text": [
      "    total_bill   tip\n",
      "2        21.01  3.50\n",
      "3        23.68  3.31\n",
      "4        24.59  3.61\n",
      "5        25.29  4.71\n",
      "7        26.88  3.12\n",
      "11       35.26  5.00\n",
      "15       21.58  3.92\n",
      "19       20.65  3.35\n",
      "21       20.29  2.75\n",
      "23       39.42  7.58\n"
     ]
    }
   ],
   "source": [
    "# Use filter and column selection to show just the bill and tip columns, \n",
    "# for bills over 20\n",
    "\n",
    "print tips[f_over20][['total_bill','tip']].head(10)"
   ]
  },
  {
   "cell_type": "code",
   "execution_count": 155,
   "metadata": {
    "collapsed": false
   },
   "outputs": [
    {
     "name": "stdout",
     "output_type": "stream",
     "text": [
      "     total_bill   tip     sex smoker   day    time  size\n",
      "72        26.86  3.14  Female    Yes   Sat  Dinner     2\n",
      "73        25.28  5.00  Female    Yes   Sat  Dinner     2\n",
      "102       44.30  2.50  Female    Yes   Sat  Dinner     3\n",
      "103       22.42  3.48  Female    Yes   Sat  Dinner     2\n",
      "186       20.90  3.50  Female    Yes   Sun  Dinner     3\n",
      "197       43.11  5.00  Female    Yes  Thur   Lunch     4\n",
      "214       28.17  6.50  Female    Yes   Sat  Dinner     3\n",
      "219       30.14  3.09  Female    Yes   Sat  Dinner     4\n",
      "229       22.12  2.88  Female    Yes   Sat  Dinner     2\n",
      "240       27.18  2.00  Female    Yes   Sat  Dinner     2\n"
     ]
    }
   ],
   "source": [
    "# Even apply multiple filters\n",
    "# don't even need .head() because only a few bills met all three criteria\n",
    "\n",
    "f_female = tips['sex'] == \"Female\"   # female bill payers\n",
    "f_smoker = tips['smoker'] == \"Yes\"   # party had a smoker in it\n",
    "\n",
    "print tips[f_over20][f_female][f_smoker]   "
   ]
  },
  {
   "cell_type": "markdown",
   "metadata": {},
   "source": [
    "### *Exercises*"
   ]
  },
  {
   "cell_type": "code",
   "execution_count": 156,
   "metadata": {
    "collapsed": false
   },
   "outputs": [],
   "source": [
    "# E: Find lunchtime bills paid by male patrons who tipped less than $2\n"
   ]
  },
  {
   "cell_type": "code",
   "execution_count": 157,
   "metadata": {
    "collapsed": false
   },
   "outputs": [],
   "source": [
    "# E: Create two new dataframes, named males and females, that contain \n",
    "#    bills only from male and female patrons, respectively."
   ]
  },
  {
   "cell_type": "markdown",
   "metadata": {},
   "source": [
    "## Sorting rows\n",
    "\n",
    "To rearrange the rows in a particular order, use the `sort()` method, specifying a list of column names to sort on. The default direction is ascending, which you can reverse with the `ascending` keyword."
   ]
  },
  {
   "cell_type": "code",
   "execution_count": 158,
   "metadata": {
    "collapsed": false
   },
   "outputs": [
    {
     "name": "stdout",
     "output_type": "stream",
     "text": [
      "     total_bill  tip     sex smoker   day    time  size\n",
      "143       27.05  5.0  Female     No  Thur   Lunch     6\n",
      "156       48.17  5.0    Male     No   Sun  Dinner     6\n",
      "125       29.80  4.2  Female     No  Thur   Lunch     6\n",
      "141       34.30  6.7    Male     No  Thur   Lunch     6\n",
      "185       20.69  5.0    Male     No   Sun  Dinner     5\n"
     ]
    }
   ],
   "source": [
    "# sort by party size, in descending order\n",
    "\n",
    "print tips.sort('size', ascending=False).head()"
   ]
  },
  {
   "cell_type": "code",
   "execution_count": 159,
   "metadata": {
    "collapsed": false
   },
   "outputs": [
    {
     "name": "stdout",
     "output_type": "stream",
     "text": [
      "     total_bill  tip     sex smoker   day    time  size\n",
      "156       48.17  5.0    Male     No   Sun  Dinner     6\n",
      "141       34.30  6.7    Male     No  Thur   Lunch     6\n",
      "125       29.80  4.2  Female     No  Thur   Lunch     6\n",
      "143       27.05  5.0  Female     No  Thur   Lunch     6\n",
      "142       41.19  5.0    Male     No  Thur   Lunch     5\n"
     ]
    }
   ],
   "source": [
    "# sort by party size, then total_bill, in descending order\n",
    "\n",
    "print tips.sort(['size', 'total_bill'], ascending=[False, False]).head()"
   ]
  },
  {
   "cell_type": "markdown",
   "metadata": {},
   "source": [
    "### *Exercises*"
   ]
  },
  {
   "cell_type": "code",
   "execution_count": 160,
   "metadata": {
    "collapsed": false
   },
   "outputs": [
    {
     "name": "stdout",
     "output_type": "stream",
     "text": [
      "     total_bill   tip     sex smoker   day   time  size\n",
      "197       43.11  5.00  Female    Yes  Thur  Lunch     4\n",
      "142       41.19  5.00    Male     No  Thur  Lunch     5\n",
      "85        34.83  5.17  Female     No  Thur  Lunch     4\n",
      "141       34.30  6.70    Male     No  Thur  Lunch     6\n",
      "83        32.68  5.00    Male    Yes  Thur  Lunch     2\n",
      "125       29.80  4.20  Female     No  Thur  Lunch     6\n",
      "192       28.44  2.56    Male    Yes  Thur  Lunch     2\n",
      "77        27.20  4.00    Male     No  Thur  Lunch     4\n",
      "143       27.05  5.00  Female     No  Thur  Lunch     6\n",
      "88        24.71  5.85    Male     No  Thur  Lunch     2\n"
     ]
    }
   ],
   "source": [
    "# E: sort by total_bill, then by tip, in descending order, print first 10 records\n",
    "print tips.sort(['total_bill','tip'],ascending=[False,False])[tips['time']==\"Lunch\"].head(10)"
   ]
  },
  {
   "cell_type": "code",
   "execution_count": 161,
   "metadata": {
    "collapsed": true
   },
   "outputs": [],
   "source": [
    "# E: same as above, but only show lunch-time bills"
   ]
  },
  {
   "cell_type": "markdown",
   "metadata": {},
   "source": [
    "## Finding the domain of a variable\n",
    "\n",
    "The **domain** of a variable is the set of unique values it can have in a given data set. If you want to categorize observations, you need to know what the categories are, but it may be difficult to find all the categories in a large data set just by inspection. Use the `.unique()` method with a key to find the unique values possible for that key. The result is an `array`, which is similar to a list.\n",
    "\n"
   ]
  },
  {
   "cell_type": "code",
   "execution_count": 162,
   "metadata": {
    "collapsed": false
   },
   "outputs": [
    {
     "name": "stdout",
     "output_type": "stream",
     "text": [
      "['Sun' 'Sat' 'Thur' 'Fri']\n",
      "Open 4 days of the week\n"
     ]
    }
   ],
   "source": [
    "# On what days is the restaurant open?\n",
    "\n",
    "open_days = tips['day'].unique()\n",
    "print open_days\n",
    "print \"Open %i days of the week\" %len(open_days)"
   ]
  },
  {
   "cell_type": "markdown",
   "metadata": {},
   "source": [
    "### *Exercises*"
   ]
  },
  {
   "cell_type": "code",
   "execution_count": 163,
   "metadata": {
    "collapsed": false
   },
   "outputs": [],
   "source": [
    "# E: What party sizes could be observed in this data set?\n"
   ]
  },
  {
   "cell_type": "code",
   "execution_count": 164,
   "metadata": {
    "collapsed": false
   },
   "outputs": [],
   "source": [
    "# E: Among Saturday bills paid by a female patron, what party sizes were observed?\n"
   ]
  },
  {
   "cell_type": "code",
   "execution_count": 165,
   "metadata": {
    "collapsed": false
   },
   "outputs": [
    {
     "name": "stdout",
     "output_type": "stream",
     "text": [
      "Dinner bills paid by men only occured on the following days:\n",
      "  - some day\n",
      "  - another day\n"
     ]
    }
   ],
   "source": [
    "# E: Make a loop that prints out the days of the week that restaurant serves Dinner\n",
    "\n",
    "print \"Dinner bills paid by men only occured on the following days:\"\n",
    "print \"  - some day\"\n",
    "print \"  - another day\""
   ]
  },
  {
   "cell_type": "markdown",
   "metadata": {},
   "source": [
    "## Summarizing column values \n",
    "\n",
    "A `DataFrame` offers several **summary** methods — such as `count()`, `sum()`, `mean()`, `min()`, `max()`, `std()`, `sem()` — which you can apply to a column. A handy method is `describe()`, which returns a `DataFrame` of various statistics (including percentiles) for each numeric column."
   ]
  },
  {
   "cell_type": "code",
   "execution_count": 166,
   "metadata": {
    "collapsed": false
   },
   "outputs": [
    {
     "name": "stdout",
     "output_type": "stream",
     "text": [
      "19.785942623 0.569918525289\n",
      "The mean bill was $19.8 ± 0.6\n"
     ]
    }
   ],
   "source": [
    "# Find the average bill\n",
    "\n",
    "avg = tips['total_bill'].mean()\n",
    "sem = tips['total_bill'].sem()\n",
    "print avg, sem\n",
    "print \"The mean bill was $%3.1f ± %3.1f\" %(avg,sem)"
   ]
  },
  {
   "cell_type": "code",
   "execution_count": 167,
   "metadata": {
    "collapsed": false
   },
   "outputs": [
    {
     "name": "stdout",
     "output_type": "stream",
     "text": [
      "       total_bill         tip        size\n",
      "count  244.000000  244.000000  244.000000\n",
      "mean    19.785943    2.998279    2.569672\n",
      "std      8.902412    1.383638    0.951100\n",
      "min      3.070000    1.000000    1.000000\n",
      "25%     13.347500    2.000000    2.000000\n",
      "50%     17.795000    2.900000    2.000000\n",
      "75%     24.127500    3.562500    3.000000\n",
      "max     50.810000   10.000000    6.000000\n",
      "The median bill was $17.80\n"
     ]
    }
   ],
   "source": [
    "# find the median bill using describe(), which creates a DataFrame\n",
    "# The \"index\" of this DataFrame is actually text, like 'count', 'mean', etc.\n",
    "\n",
    "results = tips.describe()\n",
    "print results\n",
    "print \"The median bill was $%3.2f\" %(results['total_bill']['50%'])"
   ]
  },
  {
   "cell_type": "markdown",
   "metadata": {},
   "source": [
    "### *Exercises*"
   ]
  },
  {
   "cell_type": "code",
   "execution_count": 168,
   "metadata": {
    "collapsed": false
   },
   "outputs": [],
   "source": [
    "# E: Compare the average bill among male bill payers and female bill payers\n"
   ]
  },
  {
   "cell_type": "markdown",
   "metadata": {},
   "source": [
    "## Defining new variables\n",
    "\n",
    "Sometimes a data set doesn't contain a variable you want, but you can calculate it with other variables. For example, suppose we wanted to study [factors that affect a patron's tipping behavior](http://www.npr.org/sections/alltechconsidered/2014/03/05/283917108/technology-may-soon-get-you-to-be-a-bigger-tipper). Then the relevant quantity is tip *rate*, rather than the actual size of the tip. Tip rate isn't recorded, but we can calculate it from the tip amount and the total bill. \n",
    "\n",
    "Using a `DataFrame`'s `.assign()` method, you can specify both the calculation, and a new key for storing the result, which will appear as a new column in the `DataFrame`. There are many ways to specify the calculation, but for now the most straightforward way is to define a function separately, and give it the appropriate columns during the `assign()` step. (If you know how to define `lambda` functions, they offer certain advantages.)"
   ]
  },
  {
   "cell_type": "code",
   "execution_count": 179,
   "metadata": {
    "collapsed": false
   },
   "outputs": [
    {
     "name": "stdout",
     "output_type": "stream",
     "text": [
      "     total_bill   tip     sex smoker   day    time  size      rate weekend\n",
      "237       32.83  1.17    Male    Yes   Sat  Dinner     2  3.563814    True\n",
      "102       44.30  2.50  Female    Yes   Sat  Dinner     3  5.643341    True\n",
      "57        26.41  1.50  Female     No   Sat  Dinner     2  5.679667    True\n",
      "0         16.99  1.01  Female     No   Sun  Dinner     2  5.944673    True\n",
      "187       30.46  2.00    Male    Yes   Sun  Dinner     5  6.565988    True\n",
      "210       30.06  2.00    Male    Yes   Sat  Dinner     3  6.653360    True\n",
      "48        28.55  2.05    Male     No   Sun  Dinner     3  7.180385    True\n",
      "146       18.64  1.36  Female     No  Thur   Lunch     3  7.296137   False\n",
      "240       27.18  2.00  Female    Yes   Sat  Dinner     2  7.358352    True\n",
      "184       40.55  3.00    Male    Yes   Sun  Dinner     2  7.398274    True\n"
     ]
    }
   ],
   "source": [
    "# Goal: find the most atrocious tippers\n",
    "# 0. define function to calculate tip rate (tip as percentage of bill)\n",
    "# 1. assign tip rate function to new column\n",
    "# 2. sort ascending\n",
    "\n",
    "def tip_rate(tip, bill):\n",
    "    return tip/bill*100\n",
    "\n",
    "tips = tips.assign(rate = tip_rate(tips['tip'], tips['total_bill']))\n",
    "\n",
    "print tips.sort(['rate'], ascending=[True]).head(10)\n"
   ]
  },
  {
   "cell_type": "markdown",
   "metadata": {},
   "source": [
    "### *Exercises*"
   ]
  },
  {
   "cell_type": "code",
   "execution_count": 180,
   "metadata": {
    "collapsed": true
   },
   "outputs": [],
   "source": [
    "# E: Count how many times a bill payer tipped below 15%"
   ]
  },
  {
   "cell_type": "code",
   "execution_count": 181,
   "metadata": {
    "collapsed": true
   },
   "outputs": [],
   "source": [
    "# E: Make a new DataFrame named tips2, and:\n",
    "#    Add a column, named 'per_person', calculating the average cost per person\n",
    "#    Sort by per_person cost, descending\n"
   ]
  },
  {
   "cell_type": "code",
   "execution_count": 175,
   "metadata": {
    "collapsed": false
   },
   "outputs": [
    {
     "name": "stdout",
     "output_type": "stream",
     "text": [
      "     total_bill   tip     sex smoker   day    time  size       rate weekend\n",
      "50        12.54  2.50    Male     No   Sun  Dinner     2  19.936204    True\n",
      "51        10.29  2.60  Female     No   Sun  Dinner     2  25.267250    True\n",
      "52        34.81  5.20  Female     No   Sun  Dinner     4  14.938236    True\n",
      "53         9.94  1.56    Male     No   Sun  Dinner     2  15.694165    True\n",
      "54        25.56  4.34    Male     No   Sun  Dinner     4  16.979656    True\n",
      "55        19.49  3.51    Male     No   Sun  Dinner     2  18.009236    True\n",
      "56        38.01  3.00    Male    Yes   Sat  Dinner     4   7.892660    True\n",
      "57        26.41  1.50  Female     No   Sat  Dinner     2   5.679667    True\n",
      "58        11.24  1.76    Male    Yes   Sat  Dinner     2  15.658363    True\n",
      "59        48.27  6.73    Male     No   Sat  Dinner     4  13.942407    True\n",
      "60        20.29  3.21    Male    Yes   Sat  Dinner     2  15.820601    True\n",
      "61        13.81  2.00    Male    Yes   Sat  Dinner     2  14.482259    True\n",
      "62        11.02  1.98    Male    Yes   Sat  Dinner     2  17.967332    True\n",
      "63        18.29  3.76    Male    Yes   Sat  Dinner     4  20.557682    True\n",
      "64        17.59  2.64    Male     No   Sat  Dinner     3  15.008528    True\n",
      "65        20.08  3.15    Male     No   Sat  Dinner     3  15.687251    True\n",
      "66        16.45  2.47  Female     No   Sat  Dinner     2  15.015198    True\n",
      "67         3.07  1.00  Female    Yes   Sat  Dinner     1  32.573290    True\n",
      "68        20.23  2.01    Male     No   Sat  Dinner     2   9.935739    True\n",
      "69        15.01  2.09    Male    Yes   Sat  Dinner     2  13.924051    True\n",
      "70        12.02  1.97    Male     No   Sat  Dinner     2  16.389351    True\n",
      "71        17.07  3.00  Female     No   Sat  Dinner     3  17.574692    True\n",
      "72        26.86  3.14  Female    Yes   Sat  Dinner     2  11.690246    True\n",
      "73        25.28  5.00  Female    Yes   Sat  Dinner     2  19.778481    True\n",
      "74        14.73  2.20  Female     No   Sat  Dinner     2  14.935506    True\n",
      "75        10.51  1.25    Male     No   Sat  Dinner     2  11.893435    True\n",
      "76        17.92  3.08    Male    Yes   Sat  Dinner     2  17.187500    True\n",
      "77        27.20  4.00    Male     No  Thur   Lunch     4  14.705882   False\n",
      "78        22.76  3.00    Male     No  Thur   Lunch     2  13.181019   False\n",
      "79        17.29  2.71    Male     No  Thur   Lunch     2  15.673800   False\n",
      "80        19.44  3.00    Male    Yes  Thur   Lunch     2  15.432099   False\n",
      "81        16.66  3.40    Male     No  Thur   Lunch     2  20.408163   False\n",
      "82        10.07  1.83  Female     No  Thur   Lunch     1  18.172790   False\n",
      "83        32.68  5.00    Male    Yes  Thur   Lunch     2  15.299878   False\n",
      "84        15.98  2.03    Male     No  Thur   Lunch     2  12.703379   False\n",
      "85        34.83  5.17  Female     No  Thur   Lunch     4  14.843526   False\n",
      "86        13.03  2.00    Male     No  Thur   Lunch     2  15.349194   False\n",
      "87        18.28  4.00    Male     No  Thur   Lunch     2  21.881838   False\n",
      "88        24.71  5.85    Male     No  Thur   Lunch     2  23.674626   False\n",
      "89        21.16  3.00    Male     No  Thur   Lunch     2  14.177694   False\n",
      "90        28.97  3.00    Male    Yes   Fri  Dinner     2  10.355540   False\n",
      "91        22.49  3.50    Male     No   Fri  Dinner     2  15.562472   False\n",
      "92         5.75  1.00  Female    Yes   Fri  Dinner     2  17.391304   False\n",
      "93        16.32  4.30  Female    Yes   Fri  Dinner     2  26.348039   False\n",
      "94        22.75  3.25  Female     No   Fri  Dinner     2  14.285714   False\n",
      "95        40.17  4.73    Male    Yes   Fri  Dinner     4  11.774956   False\n",
      "96        27.28  4.00    Male    Yes   Fri  Dinner     2  14.662757   False\n",
      "97        12.03  1.50    Male    Yes   Fri  Dinner     2  12.468828   False\n",
      "98        21.01  3.00    Male    Yes   Fri  Dinner     2  14.278915   False\n",
      "99        12.46  1.50    Male     No   Fri  Dinner     2  12.038523   False\n",
      "100       11.35  2.50  Female    Yes   Fri  Dinner     2  22.026432   False\n"
     ]
    }
   ],
   "source": [
    "# E: To tips2, add another column named 'weekend', \n",
    "#    which is True if 'day' is Saturday or Sunday but False otherwise\n",
    "def is_weekend(day):\n",
    "    if day == \"Sun\":\n",
    "        return True\n",
    "    elif day == \"Sat\":\n",
    "        return True\n",
    "    else:\n",
    "        return False\n",
    "\n",
    "def new_weekend(day):\n",
    "    return (day==\"Sun\") | (day==\"Sat\")\n",
    "\n",
    "# tips['weekend'] = tips['day']\n",
    "# tips['weekend'].apply(is_weekend)\n",
    "# tips = tips.assign(weekend = (tips['day']==\"Sun\") | (tips['day']==\"Sat\"))\n",
    "# tips = tips.assign(weekend = is_weekend(tips.day))\n",
    "# tips['weekend'] = tips['day']\n",
    "tips['weekend'] = tips['day'].map(is_weekend)\n",
    "# tips = tips.assign(weekend = new_weekend(tips['day']))\n",
    "print tips.loc[50:100]"
   ]
  },
  {
   "cell_type": "code",
   "execution_count": null,
   "metadata": {
    "collapsed": true
   },
   "outputs": [],
   "source": []
  }
 ],
 "metadata": {
  "kernelspec": {
   "display_name": "Python 2",
   "language": "python",
   "name": "python2"
  },
  "language_info": {
   "codemirror_mode": {
    "name": "ipython",
    "version": 2
   },
   "file_extension": ".py",
   "mimetype": "text/x-python",
   "name": "python",
   "nbconvert_exporter": "python",
   "pygments_lexer": "ipython2",
   "version": "2.7.10"
  }
 },
 "nbformat": 4,
 "nbformat_minor": 0
}
