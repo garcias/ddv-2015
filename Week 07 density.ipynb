{
 "cells": [
  {
   "cell_type": "code",
   "execution_count": 2,
   "metadata": {
    "collapsed": true
   },
   "outputs": [],
   "source": [
    "import pandas as pd\n",
    "from bokeh.plotting import show, figure, output_file\n",
    "from bokeh.sampledata import periodic_table"
   ]
  },
  {
   "cell_type": "code",
   "execution_count": 3,
   "metadata": {
    "collapsed": false
   },
   "outputs": [],
   "source": [
    "elements = periodic_table.elements"
   ]
  },
  {
   "cell_type": "code",
   "execution_count": 4,
   "metadata": {
    "collapsed": false
   },
   "outputs": [],
   "source": [
    "elements = elements[elements['atomic number'] <= 82]"
   ]
  },
  {
   "cell_type": "code",
   "execution_count": 5,
   "metadata": {
    "collapsed": true
   },
   "outputs": [],
   "source": [
    "elements = elements[~pd.isnull(elements['melting point'])]"
   ]
  },
  {
   "cell_type": "code",
   "execution_count": 6,
   "metadata": {
    "collapsed": true
   },
   "outputs": [],
   "source": [
    "mass = [float(x.strip(\"[]\")) for x in elements['atomic mass']]"
   ]
  },
  {
   "cell_type": "code",
   "execution_count": 7,
   "metadata": {
    "collapsed": true
   },
   "outputs": [],
   "source": [
    "elements['atomic mass'] = mass"
   ]
  },
  {
   "cell_type": "code",
   "execution_count": 8,
   "metadata": {
    "collapsed": true
   },
   "outputs": [],
   "source": [
    "palette = list(reversed([\n",
    "            \"#67001f\", \"#b2182b\", \"#d6604d\", \"#f4a582\",\n",
    "            \"#fddbc7\", \"#f7f7f7\", \"#d1e5f0\", \"#92c5de\",\n",
    "            \"#4393c3\", \"#2166ac\", \"#053061\"\n",
    "        ]))"
   ]
  },
  {
   "cell_type": "code",
   "execution_count": 9,
   "metadata": {
    "collapsed": true
   },
   "outputs": [],
   "source": [
    "melting_points = elements['melting point']\n",
    "low  = min(melting_points)\n",
    "high = max(melting_points)"
   ]
  },
  {
   "cell_type": "code",
   "execution_count": 10,
   "metadata": {
    "collapsed": true
   },
   "outputs": [],
   "source": [
    "melting_point_inds = [int(10*(x-low)/(high-low)) for x in melting_points]\n",
    "meltingpointcolors = [palette[i] for i in melting_point_inds]"
   ]
  },
  {
   "cell_type": "code",
   "execution_count": 11,
   "metadata": {
    "collapsed": false
   },
   "outputs": [],
   "source": [
    "output_file(\"elements.html\", title = \"elements.py example\")\n",
    "TOOLS = \"pan,box_zoom,reset,resize,save\"\n",
    "\n",
    "p = figure(tools = TOOLS, toolbar_location = \"left\", plot_width = 1200)\n",
    "p.title = \"Density vs Atomic Weight of Elements (colored by melting point)\"\n",
    "p.background_fill = \"#cccccc\"  # light gray color\n",
    "\n",
    "p.circle(x = elements[\"atomic mass\"],\n",
    "         y = elements[\"density\"],\n",
    "         size = 12,\n",
    "         color = meltingpointcolors,  # using the list of colors defined above\n",
    "         line_color = \"black\",        # color of just the outline\n",
    "         fill_alpha = 0.8)\n",
    "\n",
    "p.text  (x = elements[\"atomic mass\"],\n",
    "         y = elements[\"density\"] + 0.5,  # add a little height \n",
    "         text = elements[\"symbol\"],\n",
    "         text_color = \"#333333\",\n",
    "         text_align = \"center\",\n",
    "         text_font_size = \"10pt\")\n",
    "\n",
    "p.xaxis.axis_label = \"atomic weight (amu)\"\n",
    "p.yaxis.axis_label = \"density (g/cm^3)\"\n",
    "p.grid.grid_line_color = \"white\"\n",
    "\n",
    "show(p)"
   ]
  },
  {
   "cell_type": "code",
   "execution_count": 12,
   "metadata": {
    "collapsed": false
   },
   "outputs": [],
   "source": [
    "scale = range(0,11)\n",
    "y_pos = [10 + i for i in scale]\n",
    "x_pos = 8\n",
    "temps = [int((x) / 10.0 * (high-low) + low ) for x in scale]\n",
    "\n",
    "p.circle(x = x_pos,\n",
    "         y = y_pos,\n",
    "         size = 12,\n",
    "         color = palette,\n",
    "         line_color = \"black\",\n",
    "         fill_alpha = 0.8)\n",
    "\n",
    "p.text(  x = x_pos - 3,\n",
    "         y = y_pos,\n",
    "         text = temps,\n",
    "         text_font_size = \"12pt\",\n",
    "         text_color = palette,\n",
    "         text_align = \"right\",\n",
    "         text_baseline = \"middle\")\n",
    "\n",
    "show(p)"
   ]
  }
 ],
 "metadata": {
  "kernelspec": {
   "display_name": "Python 2",
   "language": "python",
   "name": "python2"
  },
  "language_info": {
   "codemirror_mode": {
    "name": "ipython",
    "version": 2
   },
   "file_extension": ".py",
   "mimetype": "text/x-python",
   "name": "python",
   "nbconvert_exporter": "python",
   "pygments_lexer": "ipython2",
   "version": "2.7.10"
  }
 },
 "nbformat": 4,
 "nbformat_minor": 0
}
