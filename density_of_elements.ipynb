{
 "cells": [
  {
   "cell_type": "code",
   "execution_count": 18,
   "metadata": {
    "collapsed": true
   },
   "outputs": [],
   "source": [
    "import pandas as pd\n",
    "from bokeh.plotting import show, figure, output_file\n",
    "from bokeh.sampledata import periodic_table\n",
    "\n",
    "# periodic_table is a sub module of bokeh.sampledata, \n",
    "# containing some other structures, including the \n",
    "# elements DataFrame"
   ]
  },
  {
   "cell_type": "code",
   "execution_count": 19,
   "metadata": {
    "collapsed": false
   },
   "outputs": [],
   "source": [
    "# set elements to the dataframe\n",
    "\n",
    "elements = periodic_table.elements"
   ]
  },
  {
   "cell_type": "code",
   "execution_count": 20,
   "metadata": {
    "collapsed": false
   },
   "outputs": [
    {
     "name": "stdout",
     "output_type": "stream",
     "text": [
      "atomic number\n",
      "symbol\n",
      "name\n",
      "atomic mass\n",
      "CPK\n",
      "electronic configuration\n",
      "electronegativity\n",
      "atomic radius\n",
      "ion radius\n",
      "van der Waals radius\n",
      "IE-1\n",
      "EA\n",
      "standard state\n",
      "bonding type\n",
      "melting point\n",
      "boiling point\n",
      "density\n",
      "metal\n",
      "year discovered\n",
      "group\n",
      "period\n"
     ]
    }
   ],
   "source": [
    "# elements has many columns, including 'atomic number' and 'density'\n",
    "\n",
    "for column in elements.columns:\n",
    "    print column"
   ]
  },
  {
   "cell_type": "code",
   "execution_count": 21,
   "metadata": {
    "collapsed": true
   },
   "outputs": [],
   "source": [
    "# use a filter to select just the 82 first elements\n",
    "\n",
    "elements = elements[elements['atomic number'] <= 82]"
   ]
  },
  {
   "cell_type": "code",
   "execution_count": 22,
   "metadata": {
    "collapsed": true
   },
   "outputs": [],
   "source": [
    "# .isnull detects whether a row has no value for 'melting point'\n",
    "# it returns True if that's the case\n",
    "# The ~ operator inverts True and False values\n",
    "# This creates a filter that *excludes* elements without melting points\n",
    "\n",
    "elements = elements[~pd.isnull(elements['melting point'])]"
   ]
  },
  {
   "cell_type": "code",
   "execution_count": 23,
   "metadata": {
    "collapsed": true
   },
   "outputs": [],
   "source": [
    "# This is a list comprehension, which generates a list based on \n",
    "# a for loop. In this case, each list entry is based on atomic mass,\n",
    "# which is stored as a string in the DataFrame\n",
    "# Sometimes atomic mass has [] in it to express uncertainty\n",
    "# x.strip() gets rid of them, and returns a \"clean\" string\n",
    "# float() makes it numeric for plotting purposes\n",
    "\n",
    "mass = [float(x.strip(\"[]\")) for x in elements['atomic mass']]"
   ]
  },
  {
   "cell_type": "code",
   "execution_count": 24,
   "metadata": {
    "collapsed": true
   },
   "outputs": [],
   "source": [
    "# replace the original values (strings) in the 'atomic mass' column\n",
    "# with numeric values\n",
    "\n",
    "elements['atomic mass'] = mass"
   ]
  },
  {
   "cell_type": "code",
   "execution_count": 25,
   "metadata": {
    "collapsed": true
   },
   "outputs": [],
   "source": [
    "# define a set of colors that will be mapped to melting point values\n",
    "\n",
    "palette = list(reversed([\n",
    "            \"#67001f\", \"#b2182b\", \"#d6604d\", \"#f4a582\",\n",
    "            \"#fddbc7\", \"#f7f7f7\", \"#d1e5f0\", \"#92c5de\",\n",
    "            \"#4393c3\", \"#2166ac\", \"#053061\"\n",
    "        ]))"
   ]
  },
  {
   "cell_type": "code",
   "execution_count": 26,
   "metadata": {
    "collapsed": true
   },
   "outputs": [],
   "source": [
    "# find the interval of possible melting-point values\n",
    "\n",
    "melting_points = elements['melting point']\n",
    "low  = min(melting_points)\n",
    "high = max(melting_points)"
   ]
  },
  {
   "cell_type": "code",
   "execution_count": 27,
   "metadata": {
    "collapsed": true
   },
   "outputs": [],
   "source": [
    "# Another list comprehension. For each value (x) in melting_points,\n",
    "# finds its proportion of the melting-point range, convert to scale\n",
    "# of 0-10, then make it an integer.\n",
    "\n",
    "melting_point_inds = [int(10*(x-low)/(high-low)) for x in melting_points]\n",
    "\n",
    "# then use this integer as an index into the list palette\n",
    "\n",
    "meltingpointcolors = [palette[i] for i in melting_point_inds]"
   ]
  },
  {
   "cell_type": "code",
   "execution_count": 28,
   "metadata": {
    "collapsed": false
   },
   "outputs": [
    {
     "name": "stdout",
     "output_type": "stream",
     "text": [
      "['#053061', '#2166ac', '#d1e5f0', '#fddbc7', '#67001f', '#053061', '#053061', '#053061', '#053061', '#053061', '#4393c3', '#4393c3', '#d1e5f0', '#053061', '#053061', '#053061', '#053061', '#053061', '#4393c3', '#d1e5f0', '#f7f7f7', '#f7f7f7', '#f7f7f7', '#92c5de', '#d1e5f0', '#d1e5f0', '#d1e5f0', '#92c5de', '#2166ac', '#053061', '#92c5de', '#4393c3', '#2166ac', '#053061', '#053061', '#053061', '#4393c3', '#d1e5f0', '#f7f7f7', '#f4a582', '#f4a582', '#fddbc7', '#fddbc7', '#f7f7f7', '#d1e5f0', '#92c5de', '#2166ac', '#2166ac', '#2166ac', '#4393c3', '#2166ac', '#053061', '#053061', '#053061', '#4393c3', '#92c5de', '#4393c3', '#92c5de', '#92c5de', '#92c5de', '#92c5de', '#4393c3', '#d1e5f0', '#d1e5f0', '#d1e5f0', '#d1e5f0', '#d1e5f0', '#d1e5f0', '#4393c3', '#f7f7f7', '#fddbc7', '#d6604d', '#b2182b', '#b2182b', '#d6604d', '#f4a582', '#f7f7f7', '#92c5de', '#053061', '#2166ac', '#2166ac']\n"
     ]
    }
   ],
   "source": [
    "print meltingpointcolors"
   ]
  },
  {
   "cell_type": "code",
   "execution_count": 29,
   "metadata": {
    "collapsed": false
   },
   "outputs": [],
   "source": [
    "# set file to store graphic and set interactivity options \n",
    "# omitting \"wheel_zoom\" (not a fan) in tools\n",
    "\n",
    "output_file(\"elements.html\", title = \"elements.py example\")\n",
    "TOOLS = \"pan,box_zoom,reset,resize,save\"\n",
    "\n",
    "\n",
    "# create a figure object and set its title and background attributes\n",
    "\n",
    "p = figure(tools = TOOLS, toolbar_location = \"left\", plot_width = 1200)\n",
    "p.title = \"Density vs Atomic Weight of Elements (colored by melting point)\"\n",
    "p.background_fill = \"#cccccc\"  # light gray color\n",
    "\n",
    "\n",
    "# Use circles to plot density as a function of atomic weight\n",
    "\n",
    "p.circle(x = elements[\"atomic mass\"],\n",
    "         y = elements[\"density\"],\n",
    "         size = 12,\n",
    "         color = meltingpointcolors,  # using the list of colors defined above\n",
    "         line_color = \"black\",        # color of just the outline\n",
    "         fill_alpha = 0.8)\n",
    "\n",
    "# ... and text to indicate chemical symbols, with a slight offset to\n",
    "# vertical position to avoid overlapping the circles\n",
    "\n",
    "p.text  (x = elements[\"atomic mass\"],\n",
    "         y = elements[\"density\"] + 0.5,  # add a little height \n",
    "         text = elements[\"symbol\"],\n",
    "         text_color = \"#333333\",\n",
    "         text_align = \"center\",\n",
    "         text_font_size = \"10pt\")\n",
    "\n",
    "# modify the axis_label attribute of each axis\n",
    "# modify the grid_line_color attribute of the grid\n",
    "\n",
    "p.xaxis.axis_label = \"atomic weight (amu)\"\n",
    "p.yaxis.axis_label = \"density (g/cm^3)\"\n",
    "p.grid.grid_line_color = \"white\"\n",
    "\n",
    "show(p)"
   ]
  },
  {
   "cell_type": "code",
   "execution_count": 30,
   "metadata": {
    "collapsed": false
   },
   "outputs": [],
   "source": [
    "# Create a key of the palette colors, by drawing circles vertically\n",
    "# need to set x and y coordinates for each circle\n",
    "\n",
    "# y_pos is a list of integers from 10 to 20 (upper portion of graph)\n",
    "# x_pos is a constant value, low to keep it on the left\n",
    "# temps are temperatures corresponding to each color of the palette\n",
    "\n",
    "scale = range(0,11)\n",
    "y_pos = [10 + i for i in scale]\n",
    "x_pos = 8\n",
    "temps = [int((x) / 10.0 * (high-low) + low ) for x in scale]\n",
    "\n",
    "# draw each circle at x_pos and y_pos, with color from palette\n",
    "\n",
    "p.circle(x = x_pos,\n",
    "         y = y_pos,\n",
    "         size = 12,\n",
    "         color = palette,\n",
    "         line_color = \"black\",\n",
    "         fill_alpha = 0.8)\n",
    "\n",
    "# next to each circle, add text with the corresponding temperature\n",
    "# set 3 to the left of the circle, and align to the right\n",
    "\n",
    "p.text(  x = x_pos - 3,\n",
    "         y = y_pos,\n",
    "         text = temps,\n",
    "         text_font_size = \"12pt\",\n",
    "         text_color = palette,\n",
    "         text_align = \"right\",\n",
    "         text_baseline = \"middle\")\n",
    "\n",
    "show(p)"
   ]
  }
 ],
 "metadata": {
  "kernelspec": {
   "display_name": "Python 2",
   "language": "python",
   "name": "python2"
  },
  "language_info": {
   "codemirror_mode": {
    "name": "ipython",
    "version": 2
   },
   "file_extension": ".py",
   "mimetype": "text/x-python",
   "name": "python",
   "nbconvert_exporter": "python",
   "pygments_lexer": "ipython2",
   "version": "2.7.10"
  }
 },
 "nbformat": 4,
 "nbformat_minor": 0
}
