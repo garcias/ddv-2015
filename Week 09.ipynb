{
 "cells": [
  {
   "cell_type": "markdown",
   "metadata": {},
   "source": [
    "# Normalizing the Heliconia data set"
   ]
  },
  {
   "cell_type": "markdown",
   "metadata": {},
   "source": [
    "## Problems with Heliconia data set\n",
    "\n",
    "The data set hosted on Dryad is not **normalized**. The same variable appears in multiple columns, many rows refer to different observations (plants), and some categorical values (like population/year) have different labels in different parts of the table. This structure creates a few potential problems for analysis:\n",
    "\n",
    "- **Updating is error-prone.** There are many opportunities for a single mistake to damage the data set's integrity. For example, suppose a newly trained researcher wanted to add a new observation, for a particular variety, population, and year. They need to interpret these values — and then interpret the data set structure — in order to find the correct data block in the correct sheet.  \n",
    "- **Adding information changes the structure too broadly.** For example, adding just one new variable requires you to insert multiple columns in multiple worksheets. And if the researchers wanted to add data in subsequent years, they would need to add blocks of data to the right of existing blocks.\n",
    "- **Potential queries are limited.** The current structure is biased in favor of a specific type of query. Specifically, it favors looking first at variety, then year, and then population. But what if you wanted to see all plants that had more than three bracts per inflorescence, and see if particular varieties or years are overrepresented?\n",
    "\n",
    "These problems make the data structure difficult to interpret or update reliably. Importing the data into software will almost certainly fail.\n",
    "\n",
    "We want to fix these problems by normalizing the data. A properly normalized data set (also called a “tidy” data set) organizes data in a consistent, efficient manner, with minimal redundancy. In a tidy data set, each variable is represented by a single column, and values for that variable appear only in that column."
   ]
  },
  {
   "cell_type": "markdown",
   "metadata": {},
   "source": [
    "## Structure of the raw data set\n",
    "\n",
    "Open the [raw data set](https://drive.google.com/drive/folders/0B0B9tfvNpdIPfnY4UjNxVXNGaEladXI0Zk5vZS1WcDFDd3VLa0tiblROR0dZejhabHhLRjA). Use `File` > `Make a copy...` to save the file to your own account.\n",
    "\n",
    "Show the sheet named `Bihai data`. Visually, there appear to be four “blocks” of data, each with five columns but variable number of rows. In each block, the five columns have names following this pattern:\n",
    "\n",
    "- Population & Year\n",
    "- plant ID\n",
    "- Corolla length\n",
    "- Mean bracts/inflorescence\n",
    "- Seeds per plant\n",
    "\n",
    "Within each block, each variable name is appended with the same code, e.g. “B08”, “FW08”, representing the population and year. The other sheets (`Caribaea red data` and `Caribaea yellow data`) are organized in a similar way, except they contain additional columns named `Morph`. "
   ]
  },
  {
   "cell_type": "markdown",
   "metadata": {},
   "source": [
    "## Eliminating unnecessary redundancies\n",
    "\n",
    "View the sheet `Bihai data`. Within the first block, each variable is labeled according to population sampled and year (e.g., “Seeds per plant B08”). The researchers did this to  keep data in these columns associated with each other. But this labeling pattern could be misinterpreted. For example, a reader might think that the variable “Seeds per plant” is defined differently between populations and years. (Perhaps there is a special correction factor applied between populations.) (The variables are actually defined the same way for all populations, because the researchers wanted to compare populations.)\n",
    "\n",
    "This labeling is unnecessary, because there is a separate variable (the first one) that records the population and year. To correct this problem we: (a) cut and paste the data for each population into the same five columns, and (b) rename the variables to remove the reference to population and year.\n",
    "\n",
    "Be careful! Note that the third Bihai population is not labeled using the same pattern — the researchers called it “B09” instead of “Boeri Lake 2009”, which is potentially confusing to the reader. We fix this manually by copying and pasting “Boeri Lake 2008” from A2 into K2, changing the year, and then copying and pasting down the rest of this column. (The copy-and-paste is to avoid possible spelling errors.) Do the same for “FW09”."
   ]
  },
  {
   "cell_type": "markdown",
   "metadata": {},
   "source": [
    "## Representing species explicitly as a variable\n",
    "\n",
    "The data are separated into three tabs according to species. This isn’t inherently confusing, but it could suggest that the three measurement variables are defined differently for each species. In addition, this arrangement could bias the way that you partition the data set. Finally, the separation impedes automation, as any processing would need to be repeated for each sheet. \n",
    "\n",
    "We can’t simply cut and paste into a single tab, because we would then lose information about the species of each plant. To solve this problem, we create a new variable to represent species: inserting a new column `A` to the left of `Population & Year`, name it `species`, and fill this column with the appropriate values. Repeat this change for the other two data sheets.\n",
    "\n",
    "Switch back to the `Bihai data` sheet. The second two sets have a column for “Morph”, but the `Bihai` set doesn’t have this column. To ensure that columns line up properly when we merge the data, we insert a column to the left of column `C` and call it `morph`, but leave the values empty.\n",
    "\n",
    "Cut and paste the data from `Caribaea red data` and `Caribaea yellow data` into `Bihai data`, directly below the existing data (row 139).\n",
    "\n",
    "Rows 283-1000 are empty, so delete those rows  This sends a clear signal to future analysts that there are no data beyond row 282. (In Microsoft Excel, you cannot delete terminal rows, but you can hide them.) There should now be 7 columns (`A-G`) and 282 rows.\n",
    "\n",
    "Rename this sheet to `Heliconia data`, since it contains the entire data set."
   ]
  },
  {
   "cell_type": "markdown",
   "metadata": {},
   "source": [
    "## Cleaning up the metadata\n",
    "\n",
    "The data themselves are now organized in [first-normal form (1NF)](https://en.wikipedia.org/wiki/First_normal_form). Fundamentally this is all we need, but we can still tidy up the *metadata* that describes the variables. For examples, we can imagine that some of the column headers will generate problems for typical software that may interpret symbols (like ‘&’, ‘/‘, and ‘()’) in idiosyncratic (and therefore unexpected) ways. We therefore rename the column headers to make them simple while remaining descriptive. Python’s dictionary syntax can deal with spaces in the names, but other software might be less forgiving, so we replace spaces with Python-friendly underscores.\n",
    "\n",
    "We also need to write descriptions of each variable. When we read the metadata (to figure out if we could stack the columns) we notice a lot of redundancy in defining each variable. By structuring the data the way they did, the researchers had, in essence, generated combinations of two variables: a measurement (e.g. corolla length) and a population. When we stacked the data as we did, we eliminated these redundancies and defined each measurement variable without reference to the population, thus keeping the variables independent.\n",
    "\n",
    "Create a new sheet named `Heliconia meta`. Label the first 6 columns as such:\n",
    "\n",
    "- A: `column`\n",
    "- B: `variable`\n",
    "- C: `original label`\n",
    "- D: `type`\n",
    "- E: `units`\n",
    "- F: `description`\n",
    "\n",
    "Fill in the values of of A-C appropriately. For `type`, classify the variable as categorical, integer, or continuous (i.e., `float`). For units, indicate the unit of measurement, if any. For the categorical variables, list the possible values defined by the experiment."
   ]
  },
  {
   "cell_type": "markdown",
   "metadata": {},
   "source": [
    "## Use a lookup table to represent a relationship\n",
    "\n",
    "For one of the variables, `pop_and_year`, there are multiple possible values. Of course, the analyst receiving these data can just use aggregation or search methods to find out what they are. But we already have this information from the metadata, so why not include it? This would allow the analyst to check the validity of their methods against a list of known values. Create a new sheet, named `populations`. Label the first column `pop_and_year` and record each unique value of population/year. (There are 8 total.)\n",
    "\n",
    "We could list these values in the units field of the variable descriptions. But a better idea is to create a separate sheet, named `populations`, containing each possible value on a separate line. This type of structure is called a **lookup table**. It allows another user to “look up” the population or year of a plant, given a `pop_and_year` label. \n",
    "\n",
    "This table allows you to associate one variable with two other variables that weren’t part of the original data set, but can be inferred. An analyst might find it useful later to aggregate data by year or by population, and having these associations recorded in the table would make their job much easier."
   ]
  },
  {
   "cell_type": "markdown",
   "metadata": {},
   "source": [
    "## Tidy data set\n",
    "\n",
    "To finish up, delete the sheets that are no longer necessary:\n",
    "\n",
    "- `Bihai meta`\n",
    "- `Caribaea red data`\n",
    "- `Caribaea red meta`\n",
    "- `Caribaea yellow data`\n",
    "- `Caribaea yellow meta`\n",
    "\n",
    "For an example of how the data set should look after these changes, open [Heliconia tidy](https://docs.google.com/spreadsheets/d/1g1wE5-e_B3VQw6X2-yQTtw4NkUpc-bbk5x_lUBRkR5A/edit?pli=1#gid=1800680648)."
   ]
  },
  {
   "cell_type": "markdown",
   "metadata": {},
   "source": [
    "## Importing data\n",
    "\n",
    "One of the reasons for normalizing the data was to make it easier to import, so let's test that we can do that. Import and export methods are often caled \"IO\" (input-output) methods. `pandas` offers a few, including `read_csv()` and `read_excel()`. \n",
    "\n",
    "These methods can target files on your local file system, but they can also target files published on a website! You just need to know the exact URL of the desired file."
   ]
  },
  {
   "cell_type": "markdown",
   "metadata": {},
   "source": [
    "### Reading data from a public Google sheet\n",
    "\n",
    "Google Drive can publish a Sheet as an xlsx file. For this to work from Python, make sure you have set sharing on the document to a public setting (either \"Public on the web\" or \"Anyone with the link\").\\*\n",
    "\n",
    "With the document open, examine the url of the sheet. It should be of the form:\n",
    "\n",
    "> `'https://docs.google.com/spreadsheets/d/'` + *long string* + `'/edit?pli=1#gid='` + *short string*\n",
    "\n",
    "The long string in the middle is called the **spreadsheet key**, and it uniquely identifies your document; the short string after `gid=` is the specific worksheet id. For example, in the URL (for `Heliconia tidy`) shown below,\n",
    "\n",
    "- spreadsheet key is the string `'1g1wE5-e_B3VQw6X2-yQTtw4NkUpc-bbk5x_lUBRkR5A'`\n",
    "- worksheet id  is the string `'1800680648'`\n",
    "\n",
    "> `https://docs.google.com/spreadsheets/d/1g1wE5-e_B3VQw6X2-yQTtw4NkUpc-bbk5x_lUBRkR5A/edit?pli=1#gid=1800680648`\n",
    "\n",
    "Copy the spreadsheet key. Then construct a new URL that points to an xlsx version of your spreadsheet. It contains a string that instructs Google to generate an up-to-date xlsx file and allow Python to retrieve it. See the example below."
   ]
  },
  {
   "cell_type": "markdown",
   "metadata": {},
   "source": [
    "\\* *(It's possible to access your non-public documents from IPython Notebook if you import an authentication module, but this is much more complex and potentially insecure if you're not careful.)*"
   ]
  },
  {
   "cell_type": "code",
   "execution_count": 44,
   "metadata": {
    "collapsed": false
   },
   "outputs": [
    {
     "name": "stdout",
     "output_type": "stream",
     "text": [
      "  species     pop_and_year morph  plant_id  corolla_length  mean_bracts  \\\n",
      "0   Bihai  Boeri Lake 2008   NaN         1       48.205000            4   \n",
      "1   Bihai  Boeri Lake 2008   NaN         2       49.700000            5   \n",
      "2   Bihai  Boeri Lake 2008   NaN         3       48.123333            3   \n",
      "3   Bihai  Boeri Lake 2008   NaN         4       48.060000            4   \n",
      "4   Bihai  Boeri Lake 2008   NaN         5       47.240000            4   \n",
      "\n",
      "   seeds_per_plant  \n",
      "0        51.176471  \n",
      "1        28.411765  \n",
      "2        39.111111  \n",
      "3        15.108108  \n",
      "4        32.645161  \n"
     ]
    }
   ],
   "source": [
    "from pandas import *\n",
    "\n",
    "# construct the url\n",
    "\n",
    "base_url = \"https://docs.google.com/spreadsheets/d/\"\n",
    "spreadsheet_key = \"1g1wE5-e_B3VQw6X2-yQTtw4NkUpc-bbk5x_lUBRkR5A\"\n",
    "export_url = \"/export?output=xlsx\"\n",
    "\n",
    "url = base_url + spreadsheet_key + export_url\n",
    "\n",
    "# load spreadsheet\n",
    "\n",
    "heliconia = pandas.read_excel(url)\n",
    "print heliconia.head()"
   ]
  },
  {
   "cell_type": "markdown",
   "metadata": {},
   "source": [
    "You can load a specific worksheet by including an integer (0, 1, ...) as the second argument. First sheet is index 0."
   ]
  },
  {
   "cell_type": "code",
   "execution_count": 45,
   "metadata": {
    "collapsed": false
   },
   "outputs": [
    {
     "name": "stdout",
     "output_type": "stream",
     "text": [
      "           pop_and_year       population  year\n",
      "0       Boeri Lake 2008       Boeri Lake  2008\n",
      "1  Freshwater Lake 2008  Freshwater Lake  2008\n",
      "2       Boeri Lake 2009       Boeri Lake  2009\n",
      "3  Freshwater Lake 2009  Freshwater Lake  2009\n",
      "4        Syndicate 2008        Syndicate  2008\n"
     ]
    }
   ],
   "source": [
    "# load the populations sheet (3rd sheet)\n",
    "\n",
    "populations = pandas.read_excel(url, 2)\n",
    "print populations.head()"
   ]
  },
  {
   "cell_type": "markdown",
   "metadata": {},
   "source": [
    "You can also specify a worksheet by passing its name as a string instead."
   ]
  },
  {
   "cell_type": "code",
   "execution_count": 46,
   "metadata": {
    "collapsed": false
   },
   "outputs": [
    {
     "name": "stdout",
     "output_type": "stream",
     "text": [
      "           pop_and_year       population  year\n",
      "0       Boeri Lake 2008       Boeri Lake  2008\n",
      "1  Freshwater Lake 2008  Freshwater Lake  2008\n",
      "2       Boeri Lake 2009       Boeri Lake  2009\n",
      "3  Freshwater Lake 2009  Freshwater Lake  2009\n",
      "4        Syndicate 2008        Syndicate  2008\n"
     ]
    }
   ],
   "source": [
    "# load the populations sheet (same as above)\n",
    "\n",
    "populations = pandas.read_excel(url, \"populations\")\n",
    "print populations.head()"
   ]
  },
  {
   "cell_type": "markdown",
   "metadata": {},
   "source": [
    "## Joining data\n",
    "\n",
    "When normalizing the data set, we noticed that the attributes `population` and `year` were recorded as a combined variable `pop_and_year`. This means that we cannot group the data *only* by `population` or *only* by `year`. But these would be reasonable comparisons for an analyst to make!\n",
    "\n",
    "We *did* create a lookup table (`populations`) that translates each `pop_and_year` to `population` and `year`. We can have pandas apply this translation to each row in the data set. \n",
    "\n",
    "Among Python and R users, this operation is called **merging**. (When researching information about data management, however, you will often see the term **joining** instead, so be ready to recognize this term.) To `merge()` two dataframes, pass the name of each as the first two parameters, and then specify the common variable (e.g., `pop_and_year`) for the `on` parameter."
   ]
  },
  {
   "cell_type": "code",
   "execution_count": 47,
   "metadata": {
    "collapsed": false
   },
   "outputs": [
    {
     "data": {
      "text/html": [
       "<div>\n",
       "<table border=\"1\" class=\"dataframe\">\n",
       "  <thead>\n",
       "    <tr style=\"text-align: right;\">\n",
       "      <th></th>\n",
       "      <th>species</th>\n",
       "      <th>pop_and_year</th>\n",
       "      <th>morph</th>\n",
       "      <th>plant_id</th>\n",
       "      <th>corolla_length</th>\n",
       "      <th>mean_bracts</th>\n",
       "      <th>seeds_per_plant</th>\n",
       "      <th>population</th>\n",
       "      <th>year</th>\n",
       "    </tr>\n",
       "  </thead>\n",
       "  <tbody>\n",
       "    <tr>\n",
       "      <th>0</th>\n",
       "      <td>Bihai</td>\n",
       "      <td>Boeri Lake 2008</td>\n",
       "      <td>NaN</td>\n",
       "      <td>1</td>\n",
       "      <td>48.205000</td>\n",
       "      <td>4</td>\n",
       "      <td>51.176471</td>\n",
       "      <td>Boeri Lake</td>\n",
       "      <td>2008</td>\n",
       "    </tr>\n",
       "    <tr>\n",
       "      <th>1</th>\n",
       "      <td>Bihai</td>\n",
       "      <td>Boeri Lake 2008</td>\n",
       "      <td>NaN</td>\n",
       "      <td>2</td>\n",
       "      <td>49.700000</td>\n",
       "      <td>5</td>\n",
       "      <td>28.411765</td>\n",
       "      <td>Boeri Lake</td>\n",
       "      <td>2008</td>\n",
       "    </tr>\n",
       "    <tr>\n",
       "      <th>2</th>\n",
       "      <td>Bihai</td>\n",
       "      <td>Boeri Lake 2008</td>\n",
       "      <td>NaN</td>\n",
       "      <td>3</td>\n",
       "      <td>48.123333</td>\n",
       "      <td>3</td>\n",
       "      <td>39.111111</td>\n",
       "      <td>Boeri Lake</td>\n",
       "      <td>2008</td>\n",
       "    </tr>\n",
       "    <tr>\n",
       "      <th>3</th>\n",
       "      <td>Bihai</td>\n",
       "      <td>Boeri Lake 2008</td>\n",
       "      <td>NaN</td>\n",
       "      <td>4</td>\n",
       "      <td>48.060000</td>\n",
       "      <td>4</td>\n",
       "      <td>15.108108</td>\n",
       "      <td>Boeri Lake</td>\n",
       "      <td>2008</td>\n",
       "    </tr>\n",
       "    <tr>\n",
       "      <th>4</th>\n",
       "      <td>Bihai</td>\n",
       "      <td>Boeri Lake 2008</td>\n",
       "      <td>NaN</td>\n",
       "      <td>5</td>\n",
       "      <td>47.240000</td>\n",
       "      <td>4</td>\n",
       "      <td>32.645161</td>\n",
       "      <td>Boeri Lake</td>\n",
       "      <td>2008</td>\n",
       "    </tr>\n",
       "  </tbody>\n",
       "</table>\n",
       "</div>"
      ],
      "text/plain": [
       "  species     pop_and_year morph  plant_id  corolla_length  mean_bracts  \\\n",
       "0   Bihai  Boeri Lake 2008   NaN         1       48.205000            4   \n",
       "1   Bihai  Boeri Lake 2008   NaN         2       49.700000            5   \n",
       "2   Bihai  Boeri Lake 2008   NaN         3       48.123333            3   \n",
       "3   Bihai  Boeri Lake 2008   NaN         4       48.060000            4   \n",
       "4   Bihai  Boeri Lake 2008   NaN         5       47.240000            4   \n",
       "\n",
       "   seeds_per_plant  population  year  \n",
       "0        51.176471  Boeri Lake  2008  \n",
       "1        28.411765  Boeri Lake  2008  \n",
       "2        39.111111  Boeri Lake  2008  \n",
       "3        15.108108  Boeri Lake  2008  \n",
       "4        32.645161  Boeri Lake  2008  "
      ]
     },
     "execution_count": 47,
     "metadata": {},
     "output_type": "execute_result"
    }
   ],
   "source": [
    "# merge the two tables heliconia and populations\n",
    "\n",
    "joined = pandas.merge(heliconia, populations, on = 'pop_and_year')\n",
    "joined.head()"
   ]
  },
  {
   "cell_type": "markdown",
   "metadata": {},
   "source": [
    "Notice that `joined` has columns from both `heliconia` and `populations`; and that `population` and `year` data appear as separate variables.\n",
    "\n",
    "The pandas documentation has some [excellent illustrations of the concept of merging](http://pandas.pydata.org/pandas-docs/stable/merging.html#database-style-dataframe-joining-merging)."
   ]
  }
 ],
 "metadata": {
  "kernelspec": {
   "display_name": "Python 2",
   "language": "python",
   "name": "python2"
  },
  "language_info": {
   "codemirror_mode": {
    "name": "ipython",
    "version": 2
   },
   "file_extension": ".py",
   "mimetype": "text/x-python",
   "name": "python",
   "nbconvert_exporter": "python",
   "pygments_lexer": "ipython2",
   "version": "2.7.10"
  }
 },
 "nbformat": 4,
 "nbformat_minor": 0
}
