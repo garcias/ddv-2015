{
 "cells": [
  {
   "cell_type": "markdown",
   "metadata": {},
   "source": [
    "# Week 08: Mapping data with bokeh\n",
    "\n",
    "## Objectives\n",
    "\n",
    "By the end of this tutorial, you should be able to build a geographic map using `bokeh`, and to customize various aspects of it. Specifically you will:\n",
    "\n",
    "- import geographic coordinates and draw corresponding regions on a graph\n",
    "- interrogate hierarchical data structures containing geographic data\n",
    "- build data structures to associate data with map elements"
   ]
  },
  {
   "cell_type": "markdown",
   "metadata": {},
   "source": [
    "## Getting started\n",
    "\n",
    "The imports below should be familiar..."
   ]
  },
  {
   "cell_type": "code",
   "execution_count": 1,
   "metadata": {
    "collapsed": true
   },
   "outputs": [],
   "source": [
    "from collections import OrderedDict\n",
    "\n",
    "from bokeh.sampledata import us_counties, unemployment\n",
    "from bokeh.plotting import figure, show, output_file, ColumnDataSource\n",
    "from bokeh.models import HoverTool"
   ]
  },
  {
   "cell_type": "markdown",
   "metadata": {},
   "source": [
    "... but one thing that's new is the sample data. `us_counties` and `unemployment` are both modules, and the next few lines reference them."
   ]
  },
  {
   "cell_type": "code",
   "execution_count": 2,
   "metadata": {
    "collapsed": true
   },
   "outputs": [],
   "source": [
    "state = \"tx\"\n",
    "\n",
    "county_xs=[\n",
    "    us_counties.data[code]['lons'] for code in us_counties.data\n",
    "    if us_counties.data[code]['state'] == state\n",
    "]\n",
    "\n",
    "county_ys=[\n",
    "    us_counties.data[code]['lats'] for code in us_counties.data\n",
    "    if us_counties.data[code]['state'] == state\n",
    "]"
   ]
  },
  {
   "cell_type": "markdown",
   "metadata": {},
   "source": [
    "We can't make much sense of the last two lines. We can tell they are list comprehensions, but can't understand much else without knowing more about the contents of the `us_counties` module."
   ]
  },
  {
   "cell_type": "markdown",
   "metadata": {},
   "source": [
    "## Interrogating `us_counties.data`\n",
    "\n",
    "Every Python object contains a hidden, \"magic\" attribute called `__doc__` (with *four* underscores total). It is a string describing what the module does and how to use its contents."
   ]
  },
  {
   "cell_type": "code",
   "execution_count": 3,
   "metadata": {
    "collapsed": false
   },
   "outputs": [
    {
     "name": "stdout",
     "output_type": "stream",
     "text": [
      "\n",
      "This modules exposes geometry data for Unites States. It exposes a dictionary 'data' which is\n",
      "indexed by the two-tuple containing (state_id, county_id) and has the following dictionary as the\n",
      "associated value:\n",
      "\n",
      "    data[(1,1)]['name']\n",
      "    data[(1,1)]['lats']\n",
      "    data[(1,1)]['lons']\n",
      "\n",
      "\n"
     ]
    }
   ],
   "source": [
    "print us_counties.__doc__"
   ]
  },
  {
   "cell_type": "markdown",
   "metadata": {},
   "source": [
    "The `__doc__` attribute of `us_counties` tells us that `data` is the data structure we should use, and that it is a dictionary. Each key is for a different county (called parish in Louisiana and borough in Alaska). Each key is a tuple containing the state id and county id. \n",
    "\n",
    "What data structure is associated with each key? Let's find out by peeking at a single entry."
   ]
  },
  {
   "cell_type": "code",
   "execution_count": 4,
   "metadata": {
    "collapsed": false,
    "scrolled": true
   },
   "outputs": [
    {
     "name": "stdout",
     "output_type": "stream",
     "text": [
      "(53, 53)\n",
      "<type 'dict'>\n"
     ]
    }
   ],
   "source": [
    "# Get a key from data; and use it to access the associated value and its type\n",
    "\n",
    "d = us_counties.data\n",
    "first_key = d.keys()[0]\n",
    "print first_key             # should be a tuple of two numbers\n",
    "\n",
    "first_value = d[first_key]  # get the value associated with this key\n",
    "\n",
    "print type(d[first_key])    # get its type"
   ]
  },
  {
   "cell_type": "markdown",
   "metadata": {},
   "source": [
    "It looks like the associated value is yet another dictionary. Let's find out what sort of keys are in *this* dictionary."
   ]
  },
  {
   "cell_type": "code",
   "execution_count": 5,
   "metadata": {
    "collapsed": false
   },
   "outputs": [
    {
     "name": "stdout",
     "output_type": "stream",
     "text": [
      "state <type 'str'> 2\n",
      "lons <type 'list'> 162\n",
      "name <type 'str'> 6\n",
      "lats <type 'list'> 162\n"
     ]
    }
   ],
   "source": [
    "# print keys of first_value, and the type and length of associated values\n",
    "\n",
    "for key in first_value.keys():\n",
    "    print key, type(first_value[key]), len(first_value[key])"
   ]
  },
  {
   "cell_type": "markdown",
   "metadata": {},
   "source": [
    "There are four keys. `state` and `name` are strings, probably to identify the state and county. `lons` and `lats` are both lists of equal size. We can guess that these lists are the geographic coordinates of a polygon that outlines the county. We confirm this by printing each list, and seeing that they are [typical longitude and latitude values for Texas](https://www.google.com/maps/place/Texas). (Click on any untagged area of Google maps to bring up a popup listing latitude and longitutde.)"
   ]
  },
  {
   "cell_type": "code",
   "execution_count": 6,
   "metadata": {
    "collapsed": false,
    "scrolled": true
   },
   "outputs": [
    {
     "name": "stdout",
     "output_type": "stream",
     "text": [
      "wa\n",
      "Pierce\n",
      "[-122.33363, -122.29115, -122.24857, -122.1658, -122.12055, -122.10325, -122.05577, -122.00459, -121.96352, -121.92448, -121.8707, -121.82342, -121.77963, -121.7241, -121.67652, -121.62574, -121.59376, -121.55548, -121.51028, -121.48878, -121.47287, -121.44775, -121.41889, -121.39287, -121.37967, -121.38251, -121.37752, -121.38691, -121.40103, -121.4165, -121.4454, -121.4537, -121.45308, -121.4527, -121.4712, -121.4909, -121.5017, -121.508, -121.5112, -121.5125, -121.5135, -121.5183, -121.52, -121.52308, -121.51059, -121.50308, -121.4903, -121.4754, -121.4727, -121.4557, -121.45436, -121.45511, -121.45635, -121.72144, -121.76337, -121.77397, -121.78451, -121.79044, -121.8022, -121.80681, -121.82071, -121.8368, -121.85162, -121.87, -121.9045, -121.93429, -121.95325, -121.97773, -121.99419, -122.01117, -122.02808, -122.05428, -122.07637, -122.10817, -122.12622, -122.14552, -122.1757, -122.20262, -122.20272, -122.20272, -122.23652, -122.27262, -122.31063, -122.3036, -122.32544, -122.34453, -122.38077, -122.43195, -122.46249, -122.49191, -122.4933, -122.50573, -122.55085, -122.57205, -122.58648, -122.60233, -122.63393, -122.63157, -122.65227, -122.66742, -122.68346, -122.70182, -122.70628, -122.69842, -122.82135, -122.82143, -122.82235, -122.82595, -122.84499, -122.85271, -122.84509, -122.83402, -122.81356, -122.80456, -122.80462, -122.80443, -122.80673, -122.80766, -122.80446, -122.80395, -122.80205, -122.80185, -122.80145, -122.80128, -122.80128, -122.80121, -122.80119, -122.80141, -122.80136, -122.80135, -122.80139, -122.80145, -122.80145, -122.78281, -122.76365, -122.75732, -122.7314, -122.7245, -122.72032, -122.7189, -122.71512, -122.71253, -122.70846, -122.70425, -122.70018, -122.69086, -122.66364, -122.64768, -122.62607, -122.62481, -122.62073, -122.61357, -122.60954, -122.59293, -122.58793, -122.57553, -122.56234, -122.55994, -122.55084, -122.53672, -122.39325, -122.33491]\n",
      "[47.25792, 47.2572, 47.25742, 47.25773, 47.23083, 47.20189, 47.17827, 47.16996, 47.15755, 47.14898, 47.15133, 47.15464, 47.17347, 47.15359, 47.15435, 47.15135, 47.12179, 47.12158, 47.1225, 47.11527, 47.1001, 47.08698, 47.08806, 47.08903, 47.08676, 47.08523, 47.06274, 47.04599, 47.0162, 46.99353, 46.98003, 46.96523, 46.95258, 46.93013, 46.91643, 46.90933, 46.90243, 46.89893, 46.89473, 46.88983, 46.88443, 46.88163, 46.87723, 46.87291, 46.8699, 46.86448, 46.84933, 46.83233, 46.81963, 46.80283, 46.78743, 46.78613, 46.78374, 46.7838, 46.78139, 46.77697, 46.77167, 46.76451, 46.75877, 46.75012, 46.74413, 46.72957, 46.72965, 46.73052, 46.73685, 46.74492, 46.75401, 46.74441, 46.75098, 46.74958, 46.7437, 46.74694, 46.75081, 46.75009, 46.75306, 46.75323, 46.75626, 46.76253, 46.76263, 46.76283, 46.77313, 46.77003, 46.80053, 46.8267, 46.83144, 46.83718, 46.83954, 46.85063, 46.86357, 46.87279, 46.88954, 46.91313, 46.93077, 46.95901, 46.97108, 46.9762, 46.97493, 46.99297, 47.00696, 47.01377, 47.04643, 47.06686, 47.0809, 47.09813, 47.19412, 47.19421, 47.20022, 47.21822, 47.24032, 47.25609, 47.27956, 47.28882, 47.3081, 47.32743, 47.32776, 47.33567, 47.34437, 47.348, 47.35348, 47.35447, 47.35895, 47.36472, 47.3795, 47.38585, 47.38667, 47.38929, 47.39052, 47.3956, 47.39979, 47.40073, 47.40202, 47.40398, 47.40402, 47.40402, 47.40382, 47.40383, 47.4036, 47.40345, 47.40344, 47.40331, 47.40328, 47.40328, 47.40334, 47.4034, 47.40344, 47.40358, 47.40352, 47.40342, 47.40352, 47.40342, 47.40349, 47.40347, 47.40338, 47.40363, 47.4036, 47.40329, 47.40342, 47.40341, 47.40322, 47.40299, 47.30373, 47.25792]\n"
     ]
    }
   ],
   "source": [
    "# print values associated with each key\n",
    "\n",
    "print first_value['state']\n",
    "print first_value['name']\n",
    "print first_value['lons']\n",
    "print first_value['lats']"
   ]
  },
  {
   "cell_type": "markdown",
   "metadata": {},
   "source": [
    "The structure of us_counties.data has a few levels:\n",
    "\n",
    "```\n",
    "  \n",
    "--data (dict)\n",
    "  |\n",
    "  +-(id, id)\n",
    "  | |\n",
    "  | +-state (string)\n",
    "  | +-name  (string)\n",
    "  | +-lons (list of numbers)\n",
    "  | +-lats (list of numbers)\n",
    "  |\n",
    "  +-(id, id)\n",
    "  | |\n",
    "  | +-state (string)\n",
    "  | +-name  (string)\n",
    "  | +-lons (list of numbers)\n",
    "  | +-lats (list of numbers)\n",
    "  |\n",
    "  ...\n",
    "  \n",
    "```"
   ]
  },
  {
   "cell_type": "markdown",
   "metadata": {},
   "source": [
    "If we wanted to construct it with literal notation, we'd write like so:"
   ]
  },
  {
   "cell_type": "code",
   "execution_count": 7,
   "metadata": {
    "collapsed": false
   },
   "outputs": [],
   "source": [
    "# data = {\n",
    "#     (53, 53) : {\n",
    "#         state : 'wa',\n",
    "#         name : 'pierce',\n",
    "#         lons : [-122.33363, -122.29115, -122.24857, ...],\n",
    "#         lats : [47.25792, 47.2572, 47.25742, ...]\n",
    "#     },\n",
    "#     (18, 121) : {\n",
    "#         state : 'in',\n",
    "#         name : 'Parke',\n",
    "#         lons : [-87.23233, -87.25305, -87.26713, ...],\n",
    "#         lats : [39.60761, 39.60788, 39.60794, ...]\n",
    "#     },\n",
    "#     ...\n",
    "# }"
   ]
  },
  {
   "cell_type": "markdown",
   "metadata": {},
   "source": [
    "## Building the coordinate data\n",
    "\n",
    "Now that we understand the structure of `us_counties.data`, we can look back at the list comprehensions and make sense of them. They are essentially building lists of polygons for counties in Texas."
   ]
  },
  {
   "cell_type": "code",
   "execution_count": 8,
   "metadata": {
    "collapsed": true
   },
   "outputs": [],
   "source": [
    "# allows us to easily change the state being analyzed in the filters below\n",
    "state = \"tx\"  "
   ]
  },
  {
   "cell_type": "code",
   "execution_count": 9,
   "metadata": {
    "collapsed": true
   },
   "outputs": [],
   "source": [
    "# a filtered list comprehension that iterates over each county's code\n",
    "# us_counties.data[code] is a dictionary\n",
    "# us_counties.data[code]['lons'] gets the list of longitudes\n",
    "# but exclude any counties whose 'state' is not \"tx\"\n",
    "# county_xs is a list of lists of longitude, only for texas\n",
    "\n",
    "county_xs=[\n",
    "    us_counties.data[code]['lons'] for code in us_counties.data\n",
    "    if us_counties.data[code]['state'] == state\n",
    "]\n",
    "\n",
    "center_xs = [\n",
    "    sum(us_counties.data[code]['lons'])/len(us_counties.data[code]['lons']) \n",
    "    for code in us_counties.data\n",
    "    if us_counties.data[code]['state'] == state    \n",
    "]"
   ]
  },
  {
   "cell_type": "code",
   "execution_count": 10,
   "metadata": {
    "collapsed": true
   },
   "outputs": [],
   "source": [
    "# likewise for latitudes\n",
    "county_ys=[\n",
    "    us_counties.data[code]['lats'] for code in us_counties.data\n",
    "    if us_counties.data[code]['state'] == state\n",
    "]\n",
    "\n",
    "\n",
    "center_ys = [\n",
    "    sum(us_counties.data[code]['lats'])/len(us_counties.data[code]['lats']) \n",
    "    for code in us_counties.data\n",
    "    if us_counties.data[code]['state'] == state    \n",
    "]"
   ]
  },
  {
   "cell_type": "markdown",
   "metadata": {},
   "source": [
    "## Interrogating `unemployment.data`\n",
    "\n",
    "`unemployment` is a module. As with `us_counties`, we inspect the `__doc__` attribute to find out how this module should be used."
   ]
  },
  {
   "cell_type": "code",
   "execution_count": 11,
   "metadata": {
    "collapsed": false,
    "scrolled": true
   },
   "outputs": [
    {
     "name": "stdout",
     "output_type": "stream",
     "text": [
      "\n",
      "This modules exposes per-county unemployment data for Unites States in 2009. It exposes a\n",
      "dictionary 'data' which is indexed by the two-tuple containing (state_id, county_id) and has the\n",
      "unemployment rate (2009) as the associated value.\n",
      "\n",
      "\n"
     ]
    }
   ],
   "source": [
    "print unemployment.__doc__"
   ]
  },
  {
   "cell_type": "markdown",
   "metadata": {},
   "source": [
    "Like `us_counties`, `unemployment` contains a dictionary named `data` containing county_id tuples as keys. This is helpful: the `data` dictionary in both modules use the same keys. Let's make sure that the associated value is a number, and not a string."
   ]
  },
  {
   "cell_type": "code",
   "execution_count": 12,
   "metadata": {
    "collapsed": false,
    "scrolled": true
   },
   "outputs": [
    {
     "name": "stdout",
     "output_type": "stream",
     "text": [
      "(53, 53)\n",
      "<type 'float'>\n"
     ]
    }
   ],
   "source": [
    "# Get a key from data; and use it to access the associated value and its type\n",
    "# Note the reused code from the interrogation of us_counties above: we simply\n",
    "# replaced 'us_counties` with `unemployment`, and the rest works as is!\n",
    "\n",
    "d = unemployment.data\n",
    "first_key = d.keys()[0]\n",
    "print first_key             # should be a tuple of two numbers\n",
    "\n",
    "first_value = d[first_key]  # get the value associated with this key\n",
    "\n",
    "print type(d[first_key])    # get its type"
   ]
  },
  {
   "cell_type": "markdown",
   "metadata": {},
   "source": [
    "The value is a float. But is it expressed as a fraction of 1, or as a percentage out of 100%? We need to look at some actual values."
   ]
  },
  {
   "cell_type": "code",
   "execution_count": 13,
   "metadata": {
    "collapsed": false
   },
   "outputs": [
    {
     "name": "stdout",
     "output_type": "stream",
     "text": [
      "[11.6, 6.1, 6.0, 17.8, 7.4, 7.8, 6.8, 6.4, 7.8, 5.3, 8.5, 9.6, 7.7, 6.5, 8.7, 5.7, 6.0, 5.9, 15.6, 9.0, 7.4, 7.1, 7.3, 6.9, 10.0, 11.7, 7.8, 5.9, 6.4, 10.8, 6.2, 7.9, 6.9, 7.0, 6.5, 8.3, 5.7, 5.4, 7.8, 10.1, 6.7, 6.8, 6.9, 11.8, 7.0, 8.1, 8.1, 7.6, 6.3, 7.8, 12.6, 8.0, 6.1, 8.7, 6.4, 7.5, 8.0, 4.4, 6.1, 7.7, 8.1, 7.2, 9.1, 6.7, 15.9, 12.5, 6.1, 10.8, 6.1, 8.9, 6.6, 5.6, 8.6, 6.1, 5.4, 6.9, 6.8, 7.9, 9.1, 6.8, 7.0, 8.8, 9.5, 7.0, 5.5, 7.6, 7.9, 6.4, 6.2, 5.1, 9.6, 9.2, 9.0, 9.0, 5.1, 10.3, 5.6, 11.1, 5.2, 7.7, 8.7, 5.2, 6.9, 7.0, 8.2, 7.7, 6.6, 6.9, 6.1, 6.0, 7.0, 8.9, 7.1, 8.2, 9.1, 5.0, 7.4, 4.9, 5.6, 8.7, 7.3, 7.9, 16.3, 10.3, 11.2, 5.1, 13.9, 5.8, 5.2, 8.5, 6.4, 5.5, 6.7, 7.5, 6.3, 10.8, 4.5, 6.4, 9.9, 10.5, 6.2, 6.0, 8.0, 4.8, 8.4, 9.0, 6.2, 7.6, 7.2, 8.4, 4.6, 7.8, 7.3, 8.9, 7.1, 4.3, 8.4, 7.0, 11.2, 8.4, 10.2, 8.4, 6.2, 17.8, 7.9, 4.9, 6.6, 7.2, 8.2, 9.7, 8.5, 9.4, 7.1, 5.8, 6.3, 8.6, 7.8, 11.9, 8.7, 6.4, 9.8, 7.8, 6.5, 10.7, 7.2, 7.3, 8.7, 9.6, 8.9, 5.4, 8.3, 8.9, 8.2, 8.9, 11.5, 5.3, 6.6, 8.4, 5.8, 10.3, 8.7, 8.6, 13.6, 3.0, 10.5, 8.5, 5.7, 7.8, 7.2, 4.8, 9.5, 9.8, 6.7, 8.4, 10.0, 5.5, 9.9, 6.4, 10.0, 14.0, 6.7, 5.1, 5.4, 7.9, 9.5, 8.3, 8.5, 8.7, 4.3, 10.5, 7.8, 12.5, 12.4, 8.8, 7.2, 6.0, 7.1, 5.7, 8.5, 5.6, 6.5, 5.6, 11.1, 11.0, 9.7, 9.1, 9.1, 8.5, 7.6, 10.1, 5.3, 7.8, 10.0, 7.7]\n"
     ]
    }
   ],
   "source": [
    "# create a list of the values in d, but only for counties in texas\n",
    "\n",
    "temp = [\n",
    "    d[key] for key in us_counties.data\n",
    "    if us_counties.data[key]['state'] == state\n",
    "]\n",
    "\n",
    "print temp"
   ]
  },
  {
   "cell_type": "markdown",
   "metadata": {},
   "source": [
    "The values appear to be percentages. What is the range of values?"
   ]
  },
  {
   "cell_type": "code",
   "execution_count": 14,
   "metadata": {
    "collapsed": false
   },
   "outputs": [
    {
     "name": "stdout",
     "output_type": "stream",
     "text": [
      "low: 3.0\n",
      "average: 7.93622047244\n",
      "high: 17.8\n"
     ]
    }
   ],
   "source": [
    "print \"low: %s\" %min(temp)\n",
    "print \"average: %s\" %(sum(temp)/len(temp))\n",
    "print \"high: %s\" %max(temp)"
   ]
  },
  {
   "cell_type": "markdown",
   "metadata": {},
   "source": [
    "## Building the employment data\n",
    "\n",
    "The polygon data allow us to draw the counties, but we want to present the unemployment rate of each one, using a color scale. The loop below collects and organizes this information. (If you want to identify a given color hex, just search for the value: you'll find [a](https://www.colorcodehex.com) [wealth](http://www.colorhexa.com) [of](www.spycolor.com) [websites](www.color-hex.com) offering to show you a color sample.)"
   ]
  },
  {
   "cell_type": "code",
   "execution_count": 15,
   "metadata": {
    "collapsed": true
   },
   "outputs": [],
   "source": [
    "# our color palette: progressively deeper shades of magenta\n",
    "colors = [\"#F1EEF6\", \"#D4B9DA\", \"#C994C7\", \"#DF65B0\", \"#DD1C77\", \"#980043\"]\n",
    "\n",
    "colors = [\"#F1EEF6\", \"#D4B9DA\", \"#C994C7\", \"#DF65B0\", \"#DD1C77\", \"#980043\",\n",
    "          \"#A347FF\", \"#9933FF\", \"#8A2EE6\", \"#6B24B2\", \"#4C1A80\"]\n",
    "\n",
    "# create three empty lists, which will be filled in the loop\n",
    "county_colors = []\n",
    "county_names = []\n",
    "county_rates = []"
   ]
  },
  {
   "cell_type": "code",
   "execution_count": 16,
   "metadata": {
    "collapsed": true
   },
   "outputs": [],
   "source": [
    "# county_id will be a tuple containing (state #, county #)\n",
    "# generates county_id from us_counties.data, not unemployment.data,\n",
    "# to ensure it matches the order of counties in county_xs and county_ys\n",
    "\n",
    "for county_id in us_counties.data:\n",
    "\n",
    "    # checks whether the 'state' value is \"tx\". If it's not, \n",
    "    # skip the rest of the commands and start the next loop iteration\n",
    "    \n",
    "    if us_counties.data[county_id]['state'] != state:\n",
    "        continue\n",
    "        \n",
    "    # gets the unemployment rate of the current county in the loop\n",
    "    rate = unemployment.data[county_id]\n",
    "    \n",
    "    # converts each rate to a 5-point unemployment index\n",
    "    # 0: 0-2%; 1: 2-4%; 2: 4-6%; 3:6-8%; 4: 8-10%; 5: > 10%\n",
    "    idx = min(int(rate/2), 10)\n",
    "    \n",
    "    # adds corresponding value to each list:\n",
    "    #   colors: uses the unemployment index to slice into color palette\n",
    "    #   names: uses us_counties.data to lookup the county name\n",
    "    #   rates: the actual number (not the index)\n",
    "    county_colors.append(colors[idx])\n",
    "    county_names.append(us_counties.data[county_id]['name'])\n",
    "    county_rates.append(rate)"
   ]
  },
  {
   "cell_type": "markdown",
   "metadata": {},
   "source": [
    "## Building the graph model\n",
    "\n",
    "In order to link various aspects of the visual data, we use a `ColumnDataSource` to store five aspects of each county."
   ]
  },
  {
   "cell_type": "code",
   "execution_count": 17,
   "metadata": {
    "collapsed": true
   },
   "outputs": [],
   "source": [
    "# create a ColumnDataSource object with 5 columns\n",
    "# dict() takes the assignment statements and turns them into a dictionary\n",
    "# with the following keys: 'x', 'y', 'xc', 'yc', 'color', 'name', 'rate'\n",
    "\n",
    "source = ColumnDataSource(\n",
    "    data = dict(\n",
    "        x=county_xs,\n",
    "        y=county_ys,\n",
    "        color=county_colors,\n",
    "        name=county_names,\n",
    "        rate=county_rates,\n",
    "    )\n",
    ")\n",
    "\n",
    "# equivalent to:\n",
    "\n",
    "source = ColumnDataSource({\n",
    "        'x'    : county_xs,\n",
    "        'y'    : county_ys,\n",
    "        'xc'   : center_xs,\n",
    "        'yc'   : center_ys,\n",
    "        'color': county_colors,\n",
    "        'name' : county_names,\n",
    "        'rate' : county_rates\n",
    "    })"
   ]
  },
  {
   "cell_type": "code",
   "execution_count": 18,
   "metadata": {
    "collapsed": true
   },
   "outputs": [],
   "source": [
    "# set the destination format\n",
    "# set the usual tools plus hover\n",
    "# create the Figure object\n",
    "\n",
    "output_file(\"texas.html\", title=\"texas.py example\")\n",
    "\n",
    "TOOLS=\"pan,wheel_zoom,box_zoom,reset,hover,save\"\n",
    "\n",
    "p = figure(title=\"Texas Unemployment 2009\", tools=TOOLS)"
   ]
  },
  {
   "cell_type": "markdown",
   "metadata": {},
   "source": [
    "The `Patches` glyph draws a polygon, using x and y coordinates specified in the `xs` and `ys` arguments."
   ]
  },
  {
   "cell_type": "code",
   "execution_count": 19,
   "metadata": {
    "collapsed": false
   },
   "outputs": [],
   "source": [
    "# add patches glyphs using the coordinats from data source\n",
    "# set color from data source\n",
    "# thin, 0.5-pixel white outline\n",
    "# 70% opacity\n",
    "\n",
    "a = p.patches(\n",
    "    xs = 'x',\n",
    "    ys = 'y',\n",
    "    fill_color = 'color', fill_alpha = 0.7,\n",
    "    line_color = \"white\", line_width = 0.5,\n",
    "    source = source)"
   ]
  },
  {
   "cell_type": "code",
   "execution_count": 20,
   "metadata": {
    "collapsed": false
   },
   "outputs": [
    {
     "data": {
      "text/plain": [
       "<bokeh.models.renderers.GlyphRenderer at 0x10726e790>"
      ]
     },
     "execution_count": 20,
     "metadata": {},
     "output_type": "execute_result"
    }
   ],
   "source": [
    "# add text glyphs using the centroid data from data source\n",
    "# set color from data source\n",
    "# set text to county name\n",
    "\n",
    "p.text(\n",
    "    x = 'xc',\n",
    "    y = 'yc',\n",
    "    text = 'name',\n",
    "    text_color = 'black', text_font_size = \"6pt\",\n",
    "    text_align = \"center\",\n",
    "    source = source)"
   ]
  },
  {
   "cell_type": "code",
   "execution_count": 21,
   "metadata": {
    "collapsed": true
   },
   "outputs": [],
   "source": [
    "# access the hover object within p\n",
    "# select({'type': 'HoverTool'}) searches for the object by type\n",
    "hover = p.select(dict(type=HoverTool))"
   ]
  },
  {
   "cell_type": "code",
   "execution_count": 22,
   "metadata": {
    "collapsed": true
   },
   "outputs": [],
   "source": [
    "# by default, hover's tool tip pops from center of county being hovered\n",
    "# but you can change this using its point_policy attribute\n",
    "hover.point_policy = \"follow_mouse\""
   ]
  },
  {
   "cell_type": "code",
   "execution_count": 23,
   "metadata": {
    "collapsed": true
   },
   "outputs": [],
   "source": [
    "# sets the information to display in the tool tip\n",
    "# Format of each tuple: first string is the label,\n",
    "# second string specifies what data to fill in\n",
    "# (the OrderedDict coercion is unnecessary in current Bokeh;\n",
    "# a simple list of tuples will do)\n",
    "\n",
    "# $x and $y refer to the exact coordinates of the mouse cursor\n",
    "# @name and @rate refer to keys of the column data source\n",
    "hover.tooltips = [\n",
    "    (\"Name\", \"@name\"),\n",
    "    (\"Unemployment rate\", \"@rate%\"),\n",
    "    (\"(Long, Lat)\", \"($x, $y)\"),\n",
    "]"
   ]
  },
  {
   "cell_type": "code",
   "execution_count": 24,
   "metadata": {
    "collapsed": false
   },
   "outputs": [],
   "source": [
    "show(p)"
   ]
  },
  {
   "cell_type": "markdown",
   "metadata": {},
   "source": [
    "## Exercises\n",
    "\n",
    "For each task, document the changes you had to make. To test your changes, use `Cell > Run All`."
   ]
  },
  {
   "cell_type": "markdown",
   "metadata": {},
   "source": [
    "### Map a different state\n",
    "\n",
    "Choose an arbitrary state and map its unemployment rate in the same way. Document the precise changes you had to make."
   ]
  },
  {
   "cell_type": "markdown",
   "metadata": {},
   "source": [
    "#### Solution\n",
    "\n",
    "All you need to do is change the string `state` to the desired abbreviation. For example, to view California, replace with `state = \"ca\"`. This change affects the filtering in the list comprehension and the loop, because they are defined in reference to `state`."
   ]
  },
  {
   "cell_type": "markdown",
   "metadata": {},
   "source": [
    "### Expand the unemployment scale\n",
    "\n",
    "Allow the map to show unemployment rates between 10% and 20%, using shades of a different hue than magenta. Most websites about web colors (such as the [w3schools' colorpicker](http://www.w3schools.com/tags/ref_colorpicker.asp) or [color-hex](http://www.color-hex.com)), when given a particular color, will suggest a palette or gradient of related colors, varying by brightness."
   ]
  },
  {
   "cell_type": "markdown",
   "metadata": {},
   "source": [
    "#### Solution\n",
    "\n",
    "1. Add five more values to the list `colors`. (In this case, progressively deeper shades of violet.)\n",
    "2. In the loop to build the employment data, raise the cap on `idx` to 10."
   ]
  },
  {
   "cell_type": "code",
   "execution_count": 25,
   "metadata": {
    "collapsed": false
   },
   "outputs": [],
   "source": [
    "# our color palette: progressively deeper shades of magenta\n",
    "colors = [\"#F1EEF6\", \"#D4B9DA\", \"#C994C7\", \"#DF65B0\", \"#DD1C77\", \"#980043\",\n",
    "          \"#A347FF\", \"#9933FF\", \"#8A2EE6\", \"#6B24B2\", \"#4C1A80\"]\n",
    "\n",
    "# in the loop...\n",
    "\n",
    "idx = min(int(rate/2), 10)"
   ]
  },
  {
   "cell_type": "markdown",
   "metadata": {},
   "source": [
    "### Add county names\n",
    "\n",
    "Label each area with the name of the county, preferably located at the **centroid** (x<sub>avg</sub>, y<sub>avg</sub>). But only include counties that meet a particular criterion with respect to unemployment (you decide what the criterion is)."
   ]
  },
  {
   "cell_type": "markdown",
   "metadata": {},
   "source": [
    "#### Solution\n",
    "\n",
    "1. Define two new lists, `center_xs` and `center_ys`, as the average of each county's longitudes and latitudes.\n",
    "2. Add `xc` and `yc` columns to the data source, for storing the centers\n",
    "3. Add text glyphs using the centroid data\n",
    "\n",
    "In the resulting map, the names are numerous and overlap, but they become more readable when you zoom in on a specific part of Texas."
   ]
  },
  {
   "cell_type": "code",
   "execution_count": 26,
   "metadata": {
    "collapsed": false
   },
   "outputs": [
    {
     "data": {
      "text/plain": [
       "<bokeh.models.renderers.GlyphRenderer at 0x10844fe50>"
      ]
     },
     "execution_count": 26,
     "metadata": {},
     "output_type": "execute_result"
    }
   ],
   "source": [
    "center_xs = [\n",
    "    sum(us_counties.data[code]['lons'])/len(us_counties.data[code]['lons']) \n",
    "    for code in us_counties.data\n",
    "    if us_counties.data[code]['state'] == state    \n",
    "]\n",
    "\n",
    "center_ys = [\n",
    "    sum(us_counties.data[code]['lats'])/len(us_counties.data[code]['lats']) \n",
    "    for code in us_counties.data\n",
    "    if us_counties.data[code]['state'] == state    \n",
    "]\n",
    "\n",
    "source = ColumnDataSource({\n",
    "        'x'    : county_xs,\n",
    "        'y'    : county_ys,\n",
    "        'xc'   : center_xs,\n",
    "        'yc'   : center_ys,\n",
    "        'color': county_colors,\n",
    "        'name' : county_names,\n",
    "        'rate' : county_rates\n",
    "    })\n",
    "\n",
    "# add text glyphs using the centroid data from data source\n",
    "# set color from data source\n",
    "# set text to county name\n",
    "\n",
    "p.text(\n",
    "    x = 'xc',\n",
    "    y = 'yc',\n",
    "    text = 'name',\n",
    "    text_color = 'black', text_font_size = \"6pt\",\n",
    "    text_align = \"center\",\n",
    "    source = source)"
   ]
  },
  {
   "cell_type": "markdown",
   "metadata": {},
   "source": [
    "### Add a color key\n",
    "\n",
    "Build a color key, with swatches of each color in the palette associated with the corresponding interval of unemployment rates."
   ]
  },
  {
   "cell_type": "markdown",
   "metadata": {},
   "source": [
    "#### Solution\n",
    "\n",
    "Create variables and (11-item) lists to specify the location of each swatch. The add `rect` and `text` glyphs for each swatch. Use `colors` defined above to assign the same colors to the swatches."
   ]
  },
  {
   "cell_type": "code",
   "execution_count": 28,
   "metadata": {
    "collapsed": false
   },
   "outputs": [],
   "source": [
    "x_pos = -106.2\n",
    "y_pos = [32.5 + i * 0.4 for i in range(0,11)]\n",
    "intervals = [\"0-2%\", \"2-4%\", \"4-6%\", \"6-8%\", \"8-10%\", \n",
    "             \"10-12%\", \"12-14%\", \"14-16%\", \"16-18%\", \"18-20%\", \"> 20%\"]\n",
    "\n",
    "p.rect(\n",
    "    x = x_pos,\n",
    "    y = y_pos,\n",
    "    width = 0.8,\n",
    "    height = 0.25,\n",
    "    color = colors,\n",
    "    line_color = \"black\",\n",
    "    fill_alpha = 0.7\n",
    ")\n",
    "\n",
    "p.text(\n",
    "    x = x_pos + 0.6,\n",
    "    y = y_pos,\n",
    "    text = intervals,\n",
    "    text_font_size = \"10pt\",\n",
    "    text_color = 'black',\n",
    "    text_align = \"left\",\n",
    "    text_baseline = \"middle\"\n",
    ")\n",
    "\n",
    "show(p)"
   ]
  }
 ],
 "metadata": {
  "kernelspec": {
   "display_name": "Python 2",
   "language": "python",
   "name": "python2"
  },
  "language_info": {
   "codemirror_mode": {
    "name": "ipython",
    "version": 2
   },
   "file_extension": ".py",
   "mimetype": "text/x-python",
   "name": "python",
   "nbconvert_exporter": "python",
   "pygments_lexer": "ipython2",
   "version": "2.7.10"
  }
 },
 "nbformat": 4,
 "nbformat_minor": 0
}
