{
 "cells": [
  {
   "cell_type": "code",
   "execution_count": 1,
   "metadata": {
    "collapsed": true
   },
   "outputs": [],
   "source": [
    "from collections import OrderedDict\n",
    "from bokeh.plotting import output_file, show, figure\n",
    "from bokeh.models import HoverTool, ColumnDataSource\n",
    "from bokeh.sampledata import periodic_table"
   ]
  },
  {
   "cell_type": "code",
   "execution_count": 2,
   "metadata": {
    "collapsed": false
   },
   "outputs": [],
   "source": [
    "periodic_table.elements[\n",
    "    'atomic mass'] = periodic_table.elements['atomic mass'].astype(str)"
   ]
  },
  {
   "cell_type": "code",
   "execution_count": 3,
   "metadata": {
    "collapsed": true
   },
   "outputs": [],
   "source": [
    "elements = periodic_table.elements[periodic_table.elements['group'] != \"-\"]"
   ]
  },
  {
   "cell_type": "code",
   "execution_count": 4,
   "metadata": {
    "collapsed": true
   },
   "outputs": [],
   "source": [
    "group_range = [str(x) for x in range(1,19)]\n",
    "period_range = [str(x) for x in reversed(sorted(set(elements['period'])))]"
   ]
  },
  {
   "cell_type": "code",
   "execution_count": 5,
   "metadata": {
    "collapsed": true
   },
   "outputs": [],
   "source": [
    "colormap = {\n",
    "    \"alkali metal\"         : \"#a6cee3\",\n",
    "    \"alkaline earth metal\" : \"#1f78b4\",\n",
    "    \"halogen\"              : \"#fdbf6f\",\n",
    "    \"metal\"                : \"#b2df8a\",\n",
    "    \"metalloid\"            : \"#33a02c\",\n",
    "    \"noble gas\"            : \"#bbbb88\",\n",
    "    \"nonmetal\"             : \"#baa2a6\",\n",
    "    \"transition metal\"     : \"#e08e79\",    \n",
    "}"
   ]
  },
  {
   "cell_type": "code",
   "execution_count": 6,
   "metadata": {
    "collapsed": false
   },
   "outputs": [],
   "source": [
    "source = ColumnDataSource(\n",
    "    data = dict(\n",
    "        group = [str(x) for x in elements['group']],\n",
    "        period = [str(y) for y in elements['period']],\n",
    "        symx = [str(x) + \":0.1\" for x in elements['group']],\n",
    "        numbery = [str(x) + \":0.8\" for x in elements['period']],\n",
    "        massy = [str(x) + \":0.15\" for x in elements['period']],\n",
    "        namey = [str(x) + \":0.3\" for x in elements['period']],\n",
    "        sym = elements['symbol'],\n",
    "        name = elements['name'],\n",
    "        cpk = elements['CPK'],\n",
    "        atomic_number = elements['atomic number'],\n",
    "        electronic = elements['electronic configuration'],\n",
    "        mass = elements['atomic mass'],\n",
    "        type = elements['metal'],\n",
    "        type_color = [colormap[x] for x in elements['metal']],\n",
    "    )\n",
    ")"
   ]
  },
  {
   "cell_type": "code",
   "execution_count": 7,
   "metadata": {
    "collapsed": true
   },
   "outputs": [],
   "source": [
    "output_file(\"periodic.html\")\n",
    "TOOLS = \"resize,hover,save\"\n",
    "\n",
    "p = figure(title = \"Periodic Table\", tools=TOOLS,\n",
    "           x_range = group_range, y_range = period_range)\n",
    "\n",
    "p.plot_width = 1200\n",
    "p.toolbar_location = \"left\""
   ]
  },
  {
   "cell_type": "code",
   "execution_count": 8,
   "metadata": {
    "collapsed": false
   },
   "outputs": [
    {
     "data": {
      "text/plain": [
       "<bokeh.models.renderers.GlyphRenderer at 0x104a69610>"
      ]
     },
     "execution_count": 8,
     "metadata": {},
     "output_type": "execute_result"
    }
   ],
   "source": [
    "p.rect(\"group\", \"period\", 0.9, 0.9, source=source,\n",
    "       fill_alpha = 0.6, color = \"type_color\")"
   ]
  },
  {
   "cell_type": "code",
   "execution_count": 9,
   "metadata": {
    "collapsed": true
   },
   "outputs": [],
   "source": [
    "text_props = {\n",
    "    \"source\" : source,\n",
    "    \"angle\"  : 0,\n",
    "    \"color\"  : \"black\",\n",
    "    \"text_align\" : \"left\",\n",
    "    \"text_baseline\" : \"middle\"\n",
    "}"
   ]
  },
  {
   "cell_type": "code",
   "execution_count": 10,
   "metadata": {
    "collapsed": false
   },
   "outputs": [],
   "source": [
    "p.text (x = \"symx\", y = \"period\",\n",
    "        text = \"sym\",\n",
    "        text_font_style = \"bold\",\n",
    "        text_font_size = \"15pt\",\n",
    "        **text_props)\n",
    "\n",
    "p.text (x = \"symx\", y = \"numbery\", \n",
    "        text = \"atomic_number\",\n",
    "        text_font_size = \"9pt\",\n",
    "        **text_props)\n",
    "\n",
    "p.text (x = \"symx\", y = \"namey\",\n",
    "        text = \"name\",\n",
    "        text_font_size = \"6pt\",\n",
    "        **text_props)\n",
    "\n",
    "p.text (x = \"symx\", y = \"massy\",\n",
    "        text = \"mass\",\n",
    "        text_font_size = \"5pt\",\n",
    "        **text_props)\n",
    "\n",
    "show(p)"
   ]
  },
  {
   "cell_type": "code",
   "execution_count": 11,
   "metadata": {
    "collapsed": true
   },
   "outputs": [],
   "source": [
    "p.grid.grid_line_color = None"
   ]
  },
  {
   "cell_type": "code",
   "execution_count": 12,
   "metadata": {
    "collapsed": true
   },
   "outputs": [],
   "source": [
    "hover = p.select({\"type\":HoverTool})"
   ]
  },
  {
   "cell_type": "code",
   "execution_count": 13,
   "metadata": {
    "collapsed": false
   },
   "outputs": [],
   "source": [
    "hover.tooltips = OrderedDict([\n",
    "    (\"name\", \"@name\"),\n",
    "    (\"atomic number\", \"@atomic_number\"),\n",
    "    (\"type\", \"@type\"),\n",
    "    (\"atomic mass\", \"@mass\"),\n",
    "    (\"CPK color\", \"$color[hex, swatch]:cpk\"),\n",
    "    (\"electronic configuration\", \"@electronic\"),\n",
    "])\n",
    "\n",
    "show(p)"
   ]
  }
 ],
 "metadata": {
  "kernelspec": {
   "display_name": "Python 2",
   "language": "python",
   "name": "python2"
  },
  "language_info": {
   "codemirror_mode": {
    "name": "ipython",
    "version": 2
   },
   "file_extension": ".py",
   "mimetype": "text/x-python",
   "name": "python",
   "nbconvert_exporter": "python",
   "pygments_lexer": "ipython2",
   "version": "2.7.10"
  }
 },
 "nbformat": 4,
 "nbformat_minor": 0
}
